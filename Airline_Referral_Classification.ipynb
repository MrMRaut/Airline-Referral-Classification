{
  "cells": [
    {
      "cell_type": "markdown",
      "metadata": {
        "id": "view-in-github",
        "colab_type": "text"
      },
      "source": [
        "<a href=\"https://colab.research.google.com/github/MrMRaut/Airline-Referral-Classification/blob/main/Airline_Referral_Classification.ipynb\" target=\"_parent\"><img src=\"https://colab.research.google.com/assets/colab-badge.svg\" alt=\"Open In Colab\"/></a>"
      ]
    },
    {
      "cell_type": "markdown",
      "metadata": {
        "id": "vncDsAP0Gaoa"
      },
      "source": [
        "# **Project Name**    -\n",
        "\n"
      ]
    },
    {
      "cell_type": "markdown",
      "metadata": {
        "id": "beRrZCGUAJYm"
      },
      "source": [
        "##### **Project Type**    - EDA/Classification\n",
        "##### **Contribution**    - Individual"
      ]
    },
    {
      "cell_type": "markdown",
      "metadata": {
        "id": "FJNUwmbgGyua"
      },
      "source": [
        "# **Project Summary -**"
      ]
    },
    {
      "cell_type": "markdown",
      "metadata": {
        "id": "F6v_1wHtG2nS"
      },
      "source": [
        "Classification machine learning project focused on predicting whether airline passengers will recommend the airline to their friends. The dataset comprises airline reviews spanning the years 2006 to 2019, covering various popular airlines worldwide. The data, scraped in Spring 2019, includes both multiple choice and free-text questions from passengers. The primary goal of this project is to develop a robust classification model that can accurately predict whether a passenger is likely to refer the airline to others.\n",
        "\n",
        "\n",
        "\n"
      ]
    },
    {
      "cell_type": "markdown",
      "metadata": {
        "id": "w6K7xa23Elo4"
      },
      "source": [
        "# **GitHub Link -**"
      ]
    },
    {
      "cell_type": "markdown",
      "metadata": {
        "id": "h1o69JH3Eqqn"
      },
      "source": [
        "Provide your GitHub Link here."
      ]
    },
    {
      "cell_type": "markdown",
      "metadata": {
        "id": "yQaldy8SH6Dl"
      },
      "source": [
        "# **Problem Statement**\n"
      ]
    },
    {
      "cell_type": "markdown",
      "metadata": {
        "id": "DpeJGUA3kjGy"
      },
      "source": [
        "**Data includes airline reviews from 2006 to 2019 for popular airlines around the world with multiple choice and free text questions. Data is scraped in Spring 2019. The main objective is to predict whether passengers will refer the airline to their friends.**"
      ]
    },
    {
      "cell_type": "markdown",
      "metadata": {
        "id": "O_i_v8NEhb9l"
      },
      "source": [
        "# ***Let's Begin !***"
      ]
    },
    {
      "cell_type": "markdown",
      "metadata": {
        "id": "HhfV-JJviCcP"
      },
      "source": [
        "## ***1. Know Your Data***"
      ]
    },
    {
      "cell_type": "markdown",
      "metadata": {
        "id": "Y3lxredqlCYt"
      },
      "source": [
        "### Import Libraries"
      ]
    },
    {
      "cell_type": "code",
      "execution_count": 1,
      "metadata": {
        "id": "M8Vqi-pPk-HR"
      },
      "outputs": [],
      "source": [
        "# Import Libraries\n",
        "\n",
        "import numpy as np\n",
        "import pandas as pd\n",
        "import matplotlib.pyplot as plt\n",
        "import seaborn as sns\n",
        "\n",
        "\n",
        "\n",
        "import warnings\n",
        "warnings.filterwarnings('ignore')"
      ]
    },
    {
      "cell_type": "code",
      "source": [
        "#pip install pycaret"
      ],
      "metadata": {
        "id": "jNx8v0FeoFvQ"
      },
      "execution_count": null,
      "outputs": []
    },
    {
      "cell_type": "markdown",
      "metadata": {
        "id": "3RnN4peoiCZX"
      },
      "source": [
        "### Dataset Loading"
      ]
    },
    {
      "cell_type": "code",
      "source": [
        "from google.colab import drive\n",
        "drive.mount('/content/drive')"
      ],
      "metadata": {
        "colab": {
          "base_uri": "https://localhost:8080/"
        },
        "id": "doSLuB6HrY2b",
        "outputId": "7c54b495-3b52-4781-928b-e860b2ffa02f"
      },
      "execution_count": 3,
      "outputs": [
        {
          "output_type": "stream",
          "name": "stdout",
          "text": [
            "Mounted at /content/drive\n"
          ]
        }
      ]
    },
    {
      "cell_type": "code",
      "execution_count": 4,
      "metadata": {
        "id": "4CkvbW_SlZ_R"
      },
      "outputs": [],
      "source": [
        "# Load Dataset\n",
        "df = pd.read_excel(r'/content/drive/MyDrive/Database/data_airline_reviews.xlsx')"
      ]
    },
    {
      "cell_type": "markdown",
      "metadata": {
        "id": "x71ZqKXriCWQ"
      },
      "source": [
        "### Dataset First View"
      ]
    },
    {
      "cell_type": "code",
      "execution_count": 5,
      "metadata": {
        "id": "LWNFOSvLl09H",
        "colab": {
          "base_uri": "https://localhost:8080/",
          "height": 0
        },
        "outputId": "24d1ceaa-8f58-4a7a-d2e5-5777f1747b47"
      },
      "outputs": [
        {
          "output_type": "execute_result",
          "data": {
            "text/plain": [
              "                      airline  overall               author  \\\n",
              "0                         NaN      NaN                  NaN   \n",
              "1            Turkish Airlines      7.0  Christopher Hackley   \n",
              "2                         NaN      NaN                  NaN   \n",
              "3            Turkish Airlines      2.0        Adriana Pisoi   \n",
              "4                         NaN      NaN                  NaN   \n",
              "...                       ...      ...                  ...   \n",
              "131890  Ukraine International      NaN     Andriy Yesypenko   \n",
              "131891                    NaN      NaN                  NaN   \n",
              "131892  Ukraine International      NaN    Volodya Bilotkach   \n",
              "131893                    NaN      NaN                  NaN   \n",
              "131894  Ukraine International      NaN      Kasper Hettinga   \n",
              "\n",
              "               review_date                                    customer_review  \\\n",
              "0                      NaN                                                NaN   \n",
              "1             8th May 2019  âœ… Trip Verified | London to Izmir via Istanb...   \n",
              "2                      NaN                                                NaN   \n",
              "3             7th May 2019  âœ… Trip Verified | Istanbul to Bucharest. We ...   \n",
              "4                      NaN                                                NaN   \n",
              "...                    ...                                                ...   \n",
              "131890       19th May 2006  Kiev - London (Gatwick) in business class (in ...   \n",
              "131891                 NaN                                                NaN   \n",
              "131892     29th April 2006  Several flights - KBP to AMS (3 times one way)...   \n",
              "131893                 NaN                                                NaN   \n",
              "131894  10th February 2006  KBP-AMS with UIA. Although it was a relatively...   \n",
              "\n",
              "       aircraft  traveller_type          cabin                         route  \\\n",
              "0           NaN             NaN            NaN                           NaN   \n",
              "1           NaN        Business  Economy Class  London to Izmir via Istanbul   \n",
              "2           NaN             NaN            NaN                           NaN   \n",
              "3           NaN  Family Leisure  Economy Class         Istanbul to Bucharest   \n",
              "4           NaN             NaN            NaN                           NaN   \n",
              "...         ...             ...            ...                           ...   \n",
              "131890      NaN             NaN            NaN                           NaN   \n",
              "131891      NaN             NaN            NaN                           NaN   \n",
              "131892      NaN             NaN            NaN                           NaN   \n",
              "131893      NaN             NaN            NaN                           NaN   \n",
              "131894      NaN             NaN            NaN                           NaN   \n",
              "\n",
              "                 date_flown  seat_comfort  cabin_service  food_bev  \\\n",
              "0                       NaN           NaN            NaN       NaN   \n",
              "1       2019-05-01 00:00:00           4.0            5.0       4.0   \n",
              "2                       NaN           NaN            NaN       NaN   \n",
              "3       2019-05-01 00:00:00           4.0            1.0       1.0   \n",
              "4                       NaN           NaN            NaN       NaN   \n",
              "...                     ...           ...            ...       ...   \n",
              "131890                  NaN           NaN            NaN       NaN   \n",
              "131891                  NaN           NaN            NaN       NaN   \n",
              "131892                  NaN           NaN            NaN       NaN   \n",
              "131893                  NaN           NaN            NaN       NaN   \n",
              "131894                  NaN           NaN            NaN       NaN   \n",
              "\n",
              "        entertainment  ground_service  value_for_money recommended  \n",
              "0                 NaN             NaN              NaN         NaN  \n",
              "1                 4.0             2.0              4.0         yes  \n",
              "2                 NaN             NaN              NaN         NaN  \n",
              "3                 1.0             1.0              1.0          no  \n",
              "4                 NaN             NaN              NaN         NaN  \n",
              "...               ...             ...              ...         ...  \n",
              "131890            NaN             NaN              NaN          no  \n",
              "131891            NaN             NaN              NaN         NaN  \n",
              "131892            NaN             NaN              NaN          no  \n",
              "131893            NaN             NaN              NaN         NaN  \n",
              "131894            NaN             NaN              NaN          no  \n",
              "\n",
              "[131895 rows x 17 columns]"
            ],
            "text/html": [
              "\n",
              "  <div id=\"df-75d906ac-9407-4d75-9a94-45304c4075b5\" class=\"colab-df-container\">\n",
              "    <div>\n",
              "<style scoped>\n",
              "    .dataframe tbody tr th:only-of-type {\n",
              "        vertical-align: middle;\n",
              "    }\n",
              "\n",
              "    .dataframe tbody tr th {\n",
              "        vertical-align: top;\n",
              "    }\n",
              "\n",
              "    .dataframe thead th {\n",
              "        text-align: right;\n",
              "    }\n",
              "</style>\n",
              "<table border=\"1\" class=\"dataframe\">\n",
              "  <thead>\n",
              "    <tr style=\"text-align: right;\">\n",
              "      <th></th>\n",
              "      <th>airline</th>\n",
              "      <th>overall</th>\n",
              "      <th>author</th>\n",
              "      <th>review_date</th>\n",
              "      <th>customer_review</th>\n",
              "      <th>aircraft</th>\n",
              "      <th>traveller_type</th>\n",
              "      <th>cabin</th>\n",
              "      <th>route</th>\n",
              "      <th>date_flown</th>\n",
              "      <th>seat_comfort</th>\n",
              "      <th>cabin_service</th>\n",
              "      <th>food_bev</th>\n",
              "      <th>entertainment</th>\n",
              "      <th>ground_service</th>\n",
              "      <th>value_for_money</th>\n",
              "      <th>recommended</th>\n",
              "    </tr>\n",
              "  </thead>\n",
              "  <tbody>\n",
              "    <tr>\n",
              "      <th>0</th>\n",
              "      <td>NaN</td>\n",
              "      <td>NaN</td>\n",
              "      <td>NaN</td>\n",
              "      <td>NaN</td>\n",
              "      <td>NaN</td>\n",
              "      <td>NaN</td>\n",
              "      <td>NaN</td>\n",
              "      <td>NaN</td>\n",
              "      <td>NaN</td>\n",
              "      <td>NaN</td>\n",
              "      <td>NaN</td>\n",
              "      <td>NaN</td>\n",
              "      <td>NaN</td>\n",
              "      <td>NaN</td>\n",
              "      <td>NaN</td>\n",
              "      <td>NaN</td>\n",
              "      <td>NaN</td>\n",
              "    </tr>\n",
              "    <tr>\n",
              "      <th>1</th>\n",
              "      <td>Turkish Airlines</td>\n",
              "      <td>7.0</td>\n",
              "      <td>Christopher Hackley</td>\n",
              "      <td>8th May 2019</td>\n",
              "      <td>âœ… Trip Verified | London to Izmir via Istanb...</td>\n",
              "      <td>NaN</td>\n",
              "      <td>Business</td>\n",
              "      <td>Economy Class</td>\n",
              "      <td>London to Izmir via Istanbul</td>\n",
              "      <td>2019-05-01 00:00:00</td>\n",
              "      <td>4.0</td>\n",
              "      <td>5.0</td>\n",
              "      <td>4.0</td>\n",
              "      <td>4.0</td>\n",
              "      <td>2.0</td>\n",
              "      <td>4.0</td>\n",
              "      <td>yes</td>\n",
              "    </tr>\n",
              "    <tr>\n",
              "      <th>2</th>\n",
              "      <td>NaN</td>\n",
              "      <td>NaN</td>\n",
              "      <td>NaN</td>\n",
              "      <td>NaN</td>\n",
              "      <td>NaN</td>\n",
              "      <td>NaN</td>\n",
              "      <td>NaN</td>\n",
              "      <td>NaN</td>\n",
              "      <td>NaN</td>\n",
              "      <td>NaN</td>\n",
              "      <td>NaN</td>\n",
              "      <td>NaN</td>\n",
              "      <td>NaN</td>\n",
              "      <td>NaN</td>\n",
              "      <td>NaN</td>\n",
              "      <td>NaN</td>\n",
              "      <td>NaN</td>\n",
              "    </tr>\n",
              "    <tr>\n",
              "      <th>3</th>\n",
              "      <td>Turkish Airlines</td>\n",
              "      <td>2.0</td>\n",
              "      <td>Adriana Pisoi</td>\n",
              "      <td>7th May 2019</td>\n",
              "      <td>âœ… Trip Verified | Istanbul to Bucharest. We ...</td>\n",
              "      <td>NaN</td>\n",
              "      <td>Family Leisure</td>\n",
              "      <td>Economy Class</td>\n",
              "      <td>Istanbul to Bucharest</td>\n",
              "      <td>2019-05-01 00:00:00</td>\n",
              "      <td>4.0</td>\n",
              "      <td>1.0</td>\n",
              "      <td>1.0</td>\n",
              "      <td>1.0</td>\n",
              "      <td>1.0</td>\n",
              "      <td>1.0</td>\n",
              "      <td>no</td>\n",
              "    </tr>\n",
              "    <tr>\n",
              "      <th>4</th>\n",
              "      <td>NaN</td>\n",
              "      <td>NaN</td>\n",
              "      <td>NaN</td>\n",
              "      <td>NaN</td>\n",
              "      <td>NaN</td>\n",
              "      <td>NaN</td>\n",
              "      <td>NaN</td>\n",
              "      <td>NaN</td>\n",
              "      <td>NaN</td>\n",
              "      <td>NaN</td>\n",
              "      <td>NaN</td>\n",
              "      <td>NaN</td>\n",
              "      <td>NaN</td>\n",
              "      <td>NaN</td>\n",
              "      <td>NaN</td>\n",
              "      <td>NaN</td>\n",
              "      <td>NaN</td>\n",
              "    </tr>\n",
              "    <tr>\n",
              "      <th>...</th>\n",
              "      <td>...</td>\n",
              "      <td>...</td>\n",
              "      <td>...</td>\n",
              "      <td>...</td>\n",
              "      <td>...</td>\n",
              "      <td>...</td>\n",
              "      <td>...</td>\n",
              "      <td>...</td>\n",
              "      <td>...</td>\n",
              "      <td>...</td>\n",
              "      <td>...</td>\n",
              "      <td>...</td>\n",
              "      <td>...</td>\n",
              "      <td>...</td>\n",
              "      <td>...</td>\n",
              "      <td>...</td>\n",
              "      <td>...</td>\n",
              "    </tr>\n",
              "    <tr>\n",
              "      <th>131890</th>\n",
              "      <td>Ukraine International</td>\n",
              "      <td>NaN</td>\n",
              "      <td>Andriy Yesypenko</td>\n",
              "      <td>19th May 2006</td>\n",
              "      <td>Kiev - London (Gatwick) in business class (in ...</td>\n",
              "      <td>NaN</td>\n",
              "      <td>NaN</td>\n",
              "      <td>NaN</td>\n",
              "      <td>NaN</td>\n",
              "      <td>NaN</td>\n",
              "      <td>NaN</td>\n",
              "      <td>NaN</td>\n",
              "      <td>NaN</td>\n",
              "      <td>NaN</td>\n",
              "      <td>NaN</td>\n",
              "      <td>NaN</td>\n",
              "      <td>no</td>\n",
              "    </tr>\n",
              "    <tr>\n",
              "      <th>131891</th>\n",
              "      <td>NaN</td>\n",
              "      <td>NaN</td>\n",
              "      <td>NaN</td>\n",
              "      <td>NaN</td>\n",
              "      <td>NaN</td>\n",
              "      <td>NaN</td>\n",
              "      <td>NaN</td>\n",
              "      <td>NaN</td>\n",
              "      <td>NaN</td>\n",
              "      <td>NaN</td>\n",
              "      <td>NaN</td>\n",
              "      <td>NaN</td>\n",
              "      <td>NaN</td>\n",
              "      <td>NaN</td>\n",
              "      <td>NaN</td>\n",
              "      <td>NaN</td>\n",
              "      <td>NaN</td>\n",
              "    </tr>\n",
              "    <tr>\n",
              "      <th>131892</th>\n",
              "      <td>Ukraine International</td>\n",
              "      <td>NaN</td>\n",
              "      <td>Volodya Bilotkach</td>\n",
              "      <td>29th April 2006</td>\n",
              "      <td>Several flights - KBP to AMS (3 times one way)...</td>\n",
              "      <td>NaN</td>\n",
              "      <td>NaN</td>\n",
              "      <td>NaN</td>\n",
              "      <td>NaN</td>\n",
              "      <td>NaN</td>\n",
              "      <td>NaN</td>\n",
              "      <td>NaN</td>\n",
              "      <td>NaN</td>\n",
              "      <td>NaN</td>\n",
              "      <td>NaN</td>\n",
              "      <td>NaN</td>\n",
              "      <td>no</td>\n",
              "    </tr>\n",
              "    <tr>\n",
              "      <th>131893</th>\n",
              "      <td>NaN</td>\n",
              "      <td>NaN</td>\n",
              "      <td>NaN</td>\n",
              "      <td>NaN</td>\n",
              "      <td>NaN</td>\n",
              "      <td>NaN</td>\n",
              "      <td>NaN</td>\n",
              "      <td>NaN</td>\n",
              "      <td>NaN</td>\n",
              "      <td>NaN</td>\n",
              "      <td>NaN</td>\n",
              "      <td>NaN</td>\n",
              "      <td>NaN</td>\n",
              "      <td>NaN</td>\n",
              "      <td>NaN</td>\n",
              "      <td>NaN</td>\n",
              "      <td>NaN</td>\n",
              "    </tr>\n",
              "    <tr>\n",
              "      <th>131894</th>\n",
              "      <td>Ukraine International</td>\n",
              "      <td>NaN</td>\n",
              "      <td>Kasper Hettinga</td>\n",
              "      <td>10th February 2006</td>\n",
              "      <td>KBP-AMS with UIA. Although it was a relatively...</td>\n",
              "      <td>NaN</td>\n",
              "      <td>NaN</td>\n",
              "      <td>NaN</td>\n",
              "      <td>NaN</td>\n",
              "      <td>NaN</td>\n",
              "      <td>NaN</td>\n",
              "      <td>NaN</td>\n",
              "      <td>NaN</td>\n",
              "      <td>NaN</td>\n",
              "      <td>NaN</td>\n",
              "      <td>NaN</td>\n",
              "      <td>no</td>\n",
              "    </tr>\n",
              "  </tbody>\n",
              "</table>\n",
              "<p>131895 rows × 17 columns</p>\n",
              "</div>\n",
              "    <div class=\"colab-df-buttons\">\n",
              "\n",
              "  <div class=\"colab-df-container\">\n",
              "    <button class=\"colab-df-convert\" onclick=\"convertToInteractive('df-75d906ac-9407-4d75-9a94-45304c4075b5')\"\n",
              "            title=\"Convert this dataframe to an interactive table.\"\n",
              "            style=\"display:none;\">\n",
              "\n",
              "  <svg xmlns=\"http://www.w3.org/2000/svg\" height=\"24px\" viewBox=\"0 -960 960 960\">\n",
              "    <path d=\"M120-120v-720h720v720H120Zm60-500h600v-160H180v160Zm220 220h160v-160H400v160Zm0 220h160v-160H400v160ZM180-400h160v-160H180v160Zm440 0h160v-160H620v160ZM180-180h160v-160H180v160Zm440 0h160v-160H620v160Z\"/>\n",
              "  </svg>\n",
              "    </button>\n",
              "\n",
              "  <style>\n",
              "    .colab-df-container {\n",
              "      display:flex;\n",
              "      gap: 12px;\n",
              "    }\n",
              "\n",
              "    .colab-df-convert {\n",
              "      background-color: #E8F0FE;\n",
              "      border: none;\n",
              "      border-radius: 50%;\n",
              "      cursor: pointer;\n",
              "      display: none;\n",
              "      fill: #1967D2;\n",
              "      height: 32px;\n",
              "      padding: 0 0 0 0;\n",
              "      width: 32px;\n",
              "    }\n",
              "\n",
              "    .colab-df-convert:hover {\n",
              "      background-color: #E2EBFA;\n",
              "      box-shadow: 0px 1px 2px rgba(60, 64, 67, 0.3), 0px 1px 3px 1px rgba(60, 64, 67, 0.15);\n",
              "      fill: #174EA6;\n",
              "    }\n",
              "\n",
              "    .colab-df-buttons div {\n",
              "      margin-bottom: 4px;\n",
              "    }\n",
              "\n",
              "    [theme=dark] .colab-df-convert {\n",
              "      background-color: #3B4455;\n",
              "      fill: #D2E3FC;\n",
              "    }\n",
              "\n",
              "    [theme=dark] .colab-df-convert:hover {\n",
              "      background-color: #434B5C;\n",
              "      box-shadow: 0px 1px 3px 1px rgba(0, 0, 0, 0.15);\n",
              "      filter: drop-shadow(0px 1px 2px rgba(0, 0, 0, 0.3));\n",
              "      fill: #FFFFFF;\n",
              "    }\n",
              "  </style>\n",
              "\n",
              "    <script>\n",
              "      const buttonEl =\n",
              "        document.querySelector('#df-75d906ac-9407-4d75-9a94-45304c4075b5 button.colab-df-convert');\n",
              "      buttonEl.style.display =\n",
              "        google.colab.kernel.accessAllowed ? 'block' : 'none';\n",
              "\n",
              "      async function convertToInteractive(key) {\n",
              "        const element = document.querySelector('#df-75d906ac-9407-4d75-9a94-45304c4075b5');\n",
              "        const dataTable =\n",
              "          await google.colab.kernel.invokeFunction('convertToInteractive',\n",
              "                                                    [key], {});\n",
              "        if (!dataTable) return;\n",
              "\n",
              "        const docLinkHtml = 'Like what you see? Visit the ' +\n",
              "          '<a target=\"_blank\" href=https://colab.research.google.com/notebooks/data_table.ipynb>data table notebook</a>'\n",
              "          + ' to learn more about interactive tables.';\n",
              "        element.innerHTML = '';\n",
              "        dataTable['output_type'] = 'display_data';\n",
              "        await google.colab.output.renderOutput(dataTable, element);\n",
              "        const docLink = document.createElement('div');\n",
              "        docLink.innerHTML = docLinkHtml;\n",
              "        element.appendChild(docLink);\n",
              "      }\n",
              "    </script>\n",
              "  </div>\n",
              "\n",
              "\n",
              "<div id=\"df-bbe9d773-2c2a-4ce5-999f-073e6b577497\">\n",
              "  <button class=\"colab-df-quickchart\" onclick=\"quickchart('df-bbe9d773-2c2a-4ce5-999f-073e6b577497')\"\n",
              "            title=\"Suggest charts\"\n",
              "            style=\"display:none;\">\n",
              "\n",
              "<svg xmlns=\"http://www.w3.org/2000/svg\" height=\"24px\"viewBox=\"0 0 24 24\"\n",
              "     width=\"24px\">\n",
              "    <g>\n",
              "        <path d=\"M19 3H5c-1.1 0-2 .9-2 2v14c0 1.1.9 2 2 2h14c1.1 0 2-.9 2-2V5c0-1.1-.9-2-2-2zM9 17H7v-7h2v7zm4 0h-2V7h2v10zm4 0h-2v-4h2v4z\"/>\n",
              "    </g>\n",
              "</svg>\n",
              "  </button>\n",
              "\n",
              "<style>\n",
              "  .colab-df-quickchart {\n",
              "      --bg-color: #E8F0FE;\n",
              "      --fill-color: #1967D2;\n",
              "      --hover-bg-color: #E2EBFA;\n",
              "      --hover-fill-color: #174EA6;\n",
              "      --disabled-fill-color: #AAA;\n",
              "      --disabled-bg-color: #DDD;\n",
              "  }\n",
              "\n",
              "  [theme=dark] .colab-df-quickchart {\n",
              "      --bg-color: #3B4455;\n",
              "      --fill-color: #D2E3FC;\n",
              "      --hover-bg-color: #434B5C;\n",
              "      --hover-fill-color: #FFFFFF;\n",
              "      --disabled-bg-color: #3B4455;\n",
              "      --disabled-fill-color: #666;\n",
              "  }\n",
              "\n",
              "  .colab-df-quickchart {\n",
              "    background-color: var(--bg-color);\n",
              "    border: none;\n",
              "    border-radius: 50%;\n",
              "    cursor: pointer;\n",
              "    display: none;\n",
              "    fill: var(--fill-color);\n",
              "    height: 32px;\n",
              "    padding: 0;\n",
              "    width: 32px;\n",
              "  }\n",
              "\n",
              "  .colab-df-quickchart:hover {\n",
              "    background-color: var(--hover-bg-color);\n",
              "    box-shadow: 0 1px 2px rgba(60, 64, 67, 0.3), 0 1px 3px 1px rgba(60, 64, 67, 0.15);\n",
              "    fill: var(--button-hover-fill-color);\n",
              "  }\n",
              "\n",
              "  .colab-df-quickchart-complete:disabled,\n",
              "  .colab-df-quickchart-complete:disabled:hover {\n",
              "    background-color: var(--disabled-bg-color);\n",
              "    fill: var(--disabled-fill-color);\n",
              "    box-shadow: none;\n",
              "  }\n",
              "\n",
              "  .colab-df-spinner {\n",
              "    border: 2px solid var(--fill-color);\n",
              "    border-color: transparent;\n",
              "    border-bottom-color: var(--fill-color);\n",
              "    animation:\n",
              "      spin 1s steps(1) infinite;\n",
              "  }\n",
              "\n",
              "  @keyframes spin {\n",
              "    0% {\n",
              "      border-color: transparent;\n",
              "      border-bottom-color: var(--fill-color);\n",
              "      border-left-color: var(--fill-color);\n",
              "    }\n",
              "    20% {\n",
              "      border-color: transparent;\n",
              "      border-left-color: var(--fill-color);\n",
              "      border-top-color: var(--fill-color);\n",
              "    }\n",
              "    30% {\n",
              "      border-color: transparent;\n",
              "      border-left-color: var(--fill-color);\n",
              "      border-top-color: var(--fill-color);\n",
              "      border-right-color: var(--fill-color);\n",
              "    }\n",
              "    40% {\n",
              "      border-color: transparent;\n",
              "      border-right-color: var(--fill-color);\n",
              "      border-top-color: var(--fill-color);\n",
              "    }\n",
              "    60% {\n",
              "      border-color: transparent;\n",
              "      border-right-color: var(--fill-color);\n",
              "    }\n",
              "    80% {\n",
              "      border-color: transparent;\n",
              "      border-right-color: var(--fill-color);\n",
              "      border-bottom-color: var(--fill-color);\n",
              "    }\n",
              "    90% {\n",
              "      border-color: transparent;\n",
              "      border-bottom-color: var(--fill-color);\n",
              "    }\n",
              "  }\n",
              "</style>\n",
              "\n",
              "  <script>\n",
              "    async function quickchart(key) {\n",
              "      const quickchartButtonEl =\n",
              "        document.querySelector('#' + key + ' button');\n",
              "      quickchartButtonEl.disabled = true;  // To prevent multiple clicks.\n",
              "      quickchartButtonEl.classList.add('colab-df-spinner');\n",
              "      try {\n",
              "        const charts = await google.colab.kernel.invokeFunction(\n",
              "            'suggestCharts', [key], {});\n",
              "      } catch (error) {\n",
              "        console.error('Error during call to suggestCharts:', error);\n",
              "      }\n",
              "      quickchartButtonEl.classList.remove('colab-df-spinner');\n",
              "      quickchartButtonEl.classList.add('colab-df-quickchart-complete');\n",
              "    }\n",
              "    (() => {\n",
              "      let quickchartButtonEl =\n",
              "        document.querySelector('#df-bbe9d773-2c2a-4ce5-999f-073e6b577497 button');\n",
              "      quickchartButtonEl.style.display =\n",
              "        google.colab.kernel.accessAllowed ? 'block' : 'none';\n",
              "    })();\n",
              "  </script>\n",
              "</div>\n",
              "\n",
              "  <div id=\"id_5ac73217-7e82-4055-bd23-2f778c99d60e\">\n",
              "    <style>\n",
              "      .colab-df-generate {\n",
              "        background-color: #E8F0FE;\n",
              "        border: none;\n",
              "        border-radius: 50%;\n",
              "        cursor: pointer;\n",
              "        display: none;\n",
              "        fill: #1967D2;\n",
              "        height: 32px;\n",
              "        padding: 0 0 0 0;\n",
              "        width: 32px;\n",
              "      }\n",
              "\n",
              "      .colab-df-generate:hover {\n",
              "        background-color: #E2EBFA;\n",
              "        box-shadow: 0px 1px 2px rgba(60, 64, 67, 0.3), 0px 1px 3px 1px rgba(60, 64, 67, 0.15);\n",
              "        fill: #174EA6;\n",
              "      }\n",
              "\n",
              "      [theme=dark] .colab-df-generate {\n",
              "        background-color: #3B4455;\n",
              "        fill: #D2E3FC;\n",
              "      }\n",
              "\n",
              "      [theme=dark] .colab-df-generate:hover {\n",
              "        background-color: #434B5C;\n",
              "        box-shadow: 0px 1px 3px 1px rgba(0, 0, 0, 0.15);\n",
              "        filter: drop-shadow(0px 1px 2px rgba(0, 0, 0, 0.3));\n",
              "        fill: #FFFFFF;\n",
              "      }\n",
              "    </style>\n",
              "    <button class=\"colab-df-generate\" onclick=\"generateWithVariable('df')\"\n",
              "            title=\"Generate code using this dataframe.\"\n",
              "            style=\"display:none;\">\n",
              "\n",
              "  <svg xmlns=\"http://www.w3.org/2000/svg\" height=\"24px\"viewBox=\"0 0 24 24\"\n",
              "       width=\"24px\">\n",
              "    <path d=\"M7,19H8.4L18.45,9,17,7.55,7,17.6ZM5,21V16.75L18.45,3.32a2,2,0,0,1,2.83,0l1.4,1.43a1.91,1.91,0,0,1,.58,1.4,1.91,1.91,0,0,1-.58,1.4L9.25,21ZM18.45,9,17,7.55Zm-12,3A5.31,5.31,0,0,0,4.9,8.1,5.31,5.31,0,0,0,1,6.5,5.31,5.31,0,0,0,4.9,4.9,5.31,5.31,0,0,0,6.5,1,5.31,5.31,0,0,0,8.1,4.9,5.31,5.31,0,0,0,12,6.5,5.46,5.46,0,0,0,6.5,12Z\"/>\n",
              "  </svg>\n",
              "    </button>\n",
              "    <script>\n",
              "      (() => {\n",
              "      const buttonEl =\n",
              "        document.querySelector('#id_5ac73217-7e82-4055-bd23-2f778c99d60e button.colab-df-generate');\n",
              "      buttonEl.style.display =\n",
              "        google.colab.kernel.accessAllowed ? 'block' : 'none';\n",
              "\n",
              "      buttonEl.onclick = () => {\n",
              "        google.colab.notebook.generateWithVariable('df');\n",
              "      }\n",
              "      })();\n",
              "    </script>\n",
              "  </div>\n",
              "\n",
              "    </div>\n",
              "  </div>\n"
            ]
          },
          "metadata": {},
          "execution_count": 5
        }
      ],
      "source": [
        "# Dataset First Look\n",
        "df1 = df.copy()\n",
        "df"
      ]
    },
    {
      "cell_type": "markdown",
      "metadata": {
        "id": "7hBIi_osiCS2"
      },
      "source": [
        "### Dataset Rows & Columns count"
      ]
    },
    {
      "cell_type": "code",
      "execution_count": 6,
      "metadata": {
        "id": "Kllu7SJgmLij",
        "colab": {
          "base_uri": "https://localhost:8080/"
        },
        "outputId": "f64edfde-ccc4-4454-c86b-9904c4b6de95"
      },
      "outputs": [
        {
          "output_type": "stream",
          "name": "stdout",
          "text": [
            "\n",
            "Number of rows = 131895\n",
            "Number of columns = 17\n",
            "\n"
          ]
        }
      ],
      "source": [
        "# Dataset Rows & Columns count\n",
        "\n",
        "print(f'''\n",
        "Number of rows = {df.shape[0]}\n",
        "Number of columns = {df.shape[1]}\n",
        "''')"
      ]
    },
    {
      "cell_type": "markdown",
      "metadata": {
        "id": "JlHwYmJAmNHm"
      },
      "source": [
        "### Dataset Information"
      ]
    },
    {
      "cell_type": "code",
      "execution_count": 7,
      "metadata": {
        "id": "e9hRXRi6meOf",
        "colab": {
          "base_uri": "https://localhost:8080/"
        },
        "outputId": "b4bd6c60-ab42-4528-c2de-fdaa12ad7661"
      },
      "outputs": [
        {
          "output_type": "stream",
          "name": "stdout",
          "text": [
            "<class 'pandas.core.frame.DataFrame'>\n",
            "RangeIndex: 131895 entries, 0 to 131894\n",
            "Data columns (total 17 columns):\n",
            " #   Column           Non-Null Count  Dtype  \n",
            "---  ------           --------------  -----  \n",
            " 0   airline          65947 non-null  object \n",
            " 1   overall          64017 non-null  float64\n",
            " 2   author           65947 non-null  object \n",
            " 3   review_date      65947 non-null  object \n",
            " 4   customer_review  65947 non-null  object \n",
            " 5   aircraft         19718 non-null  object \n",
            " 6   traveller_type   39755 non-null  object \n",
            " 7   cabin            63303 non-null  object \n",
            " 8   route            39726 non-null  object \n",
            " 9   date_flown       39633 non-null  object \n",
            " 10  seat_comfort     60681 non-null  float64\n",
            " 11  cabin_service    60715 non-null  float64\n",
            " 12  food_bev         52608 non-null  float64\n",
            " 13  entertainment    44193 non-null  float64\n",
            " 14  ground_service   39358 non-null  float64\n",
            " 15  value_for_money  63975 non-null  float64\n",
            " 16  recommended      64440 non-null  object \n",
            "dtypes: float64(7), object(10)\n",
            "memory usage: 17.1+ MB\n"
          ]
        }
      ],
      "source": [
        "# Dataset Info\n",
        "df.info()"
      ]
    },
    {
      "cell_type": "markdown",
      "metadata": {
        "id": "35m5QtbWiB9F"
      },
      "source": [
        "#### Duplicate Values"
      ]
    },
    {
      "cell_type": "code",
      "execution_count": 8,
      "metadata": {
        "id": "1sLdpKYkmox0",
        "colab": {
          "base_uri": "https://localhost:8080/",
          "height": 0
        },
        "outputId": "afe33fc4-cc16-477f-8b48-5077e4498e57"
      },
      "outputs": [
        {
          "output_type": "execute_result",
          "data": {
            "text/plain": [
              "       airline  overall author review_date customer_review aircraft  \\\n",
              "2          NaN      NaN    NaN         NaN             NaN      NaN   \n",
              "4          NaN      NaN    NaN         NaN             NaN      NaN   \n",
              "6          NaN      NaN    NaN         NaN             NaN      NaN   \n",
              "8          NaN      NaN    NaN         NaN             NaN      NaN   \n",
              "10         NaN      NaN    NaN         NaN             NaN      NaN   \n",
              "...        ...      ...    ...         ...             ...      ...   \n",
              "131885     NaN      NaN    NaN         NaN             NaN      NaN   \n",
              "131887     NaN      NaN    NaN         NaN             NaN      NaN   \n",
              "131889     NaN      NaN    NaN         NaN             NaN      NaN   \n",
              "131891     NaN      NaN    NaN         NaN             NaN      NaN   \n",
              "131893     NaN      NaN    NaN         NaN             NaN      NaN   \n",
              "\n",
              "       traveller_type cabin route date_flown  seat_comfort  cabin_service  \\\n",
              "2                 NaN   NaN   NaN        NaN           NaN            NaN   \n",
              "4                 NaN   NaN   NaN        NaN           NaN            NaN   \n",
              "6                 NaN   NaN   NaN        NaN           NaN            NaN   \n",
              "8                 NaN   NaN   NaN        NaN           NaN            NaN   \n",
              "10                NaN   NaN   NaN        NaN           NaN            NaN   \n",
              "...               ...   ...   ...        ...           ...            ...   \n",
              "131885            NaN   NaN   NaN        NaN           NaN            NaN   \n",
              "131887            NaN   NaN   NaN        NaN           NaN            NaN   \n",
              "131889            NaN   NaN   NaN        NaN           NaN            NaN   \n",
              "131891            NaN   NaN   NaN        NaN           NaN            NaN   \n",
              "131893            NaN   NaN   NaN        NaN           NaN            NaN   \n",
              "\n",
              "        food_bev  entertainment  ground_service  value_for_money recommended  \n",
              "2            NaN            NaN             NaN              NaN         NaN  \n",
              "4            NaN            NaN             NaN              NaN         NaN  \n",
              "6            NaN            NaN             NaN              NaN         NaN  \n",
              "8            NaN            NaN             NaN              NaN         NaN  \n",
              "10           NaN            NaN             NaN              NaN         NaN  \n",
              "...          ...            ...             ...              ...         ...  \n",
              "131885       NaN            NaN             NaN              NaN         NaN  \n",
              "131887       NaN            NaN             NaN              NaN         NaN  \n",
              "131889       NaN            NaN             NaN              NaN         NaN  \n",
              "131891       NaN            NaN             NaN              NaN         NaN  \n",
              "131893       NaN            NaN             NaN              NaN         NaN  \n",
              "\n",
              "[70711 rows x 17 columns]"
            ],
            "text/html": [
              "\n",
              "  <div id=\"df-cd52e36f-249b-49b4-a23b-65ef85314d0a\" class=\"colab-df-container\">\n",
              "    <div>\n",
              "<style scoped>\n",
              "    .dataframe tbody tr th:only-of-type {\n",
              "        vertical-align: middle;\n",
              "    }\n",
              "\n",
              "    .dataframe tbody tr th {\n",
              "        vertical-align: top;\n",
              "    }\n",
              "\n",
              "    .dataframe thead th {\n",
              "        text-align: right;\n",
              "    }\n",
              "</style>\n",
              "<table border=\"1\" class=\"dataframe\">\n",
              "  <thead>\n",
              "    <tr style=\"text-align: right;\">\n",
              "      <th></th>\n",
              "      <th>airline</th>\n",
              "      <th>overall</th>\n",
              "      <th>author</th>\n",
              "      <th>review_date</th>\n",
              "      <th>customer_review</th>\n",
              "      <th>aircraft</th>\n",
              "      <th>traveller_type</th>\n",
              "      <th>cabin</th>\n",
              "      <th>route</th>\n",
              "      <th>date_flown</th>\n",
              "      <th>seat_comfort</th>\n",
              "      <th>cabin_service</th>\n",
              "      <th>food_bev</th>\n",
              "      <th>entertainment</th>\n",
              "      <th>ground_service</th>\n",
              "      <th>value_for_money</th>\n",
              "      <th>recommended</th>\n",
              "    </tr>\n",
              "  </thead>\n",
              "  <tbody>\n",
              "    <tr>\n",
              "      <th>2</th>\n",
              "      <td>NaN</td>\n",
              "      <td>NaN</td>\n",
              "      <td>NaN</td>\n",
              "      <td>NaN</td>\n",
              "      <td>NaN</td>\n",
              "      <td>NaN</td>\n",
              "      <td>NaN</td>\n",
              "      <td>NaN</td>\n",
              "      <td>NaN</td>\n",
              "      <td>NaN</td>\n",
              "      <td>NaN</td>\n",
              "      <td>NaN</td>\n",
              "      <td>NaN</td>\n",
              "      <td>NaN</td>\n",
              "      <td>NaN</td>\n",
              "      <td>NaN</td>\n",
              "      <td>NaN</td>\n",
              "    </tr>\n",
              "    <tr>\n",
              "      <th>4</th>\n",
              "      <td>NaN</td>\n",
              "      <td>NaN</td>\n",
              "      <td>NaN</td>\n",
              "      <td>NaN</td>\n",
              "      <td>NaN</td>\n",
              "      <td>NaN</td>\n",
              "      <td>NaN</td>\n",
              "      <td>NaN</td>\n",
              "      <td>NaN</td>\n",
              "      <td>NaN</td>\n",
              "      <td>NaN</td>\n",
              "      <td>NaN</td>\n",
              "      <td>NaN</td>\n",
              "      <td>NaN</td>\n",
              "      <td>NaN</td>\n",
              "      <td>NaN</td>\n",
              "      <td>NaN</td>\n",
              "    </tr>\n",
              "    <tr>\n",
              "      <th>6</th>\n",
              "      <td>NaN</td>\n",
              "      <td>NaN</td>\n",
              "      <td>NaN</td>\n",
              "      <td>NaN</td>\n",
              "      <td>NaN</td>\n",
              "      <td>NaN</td>\n",
              "      <td>NaN</td>\n",
              "      <td>NaN</td>\n",
              "      <td>NaN</td>\n",
              "      <td>NaN</td>\n",
              "      <td>NaN</td>\n",
              "      <td>NaN</td>\n",
              "      <td>NaN</td>\n",
              "      <td>NaN</td>\n",
              "      <td>NaN</td>\n",
              "      <td>NaN</td>\n",
              "      <td>NaN</td>\n",
              "    </tr>\n",
              "    <tr>\n",
              "      <th>8</th>\n",
              "      <td>NaN</td>\n",
              "      <td>NaN</td>\n",
              "      <td>NaN</td>\n",
              "      <td>NaN</td>\n",
              "      <td>NaN</td>\n",
              "      <td>NaN</td>\n",
              "      <td>NaN</td>\n",
              "      <td>NaN</td>\n",
              "      <td>NaN</td>\n",
              "      <td>NaN</td>\n",
              "      <td>NaN</td>\n",
              "      <td>NaN</td>\n",
              "      <td>NaN</td>\n",
              "      <td>NaN</td>\n",
              "      <td>NaN</td>\n",
              "      <td>NaN</td>\n",
              "      <td>NaN</td>\n",
              "    </tr>\n",
              "    <tr>\n",
              "      <th>10</th>\n",
              "      <td>NaN</td>\n",
              "      <td>NaN</td>\n",
              "      <td>NaN</td>\n",
              "      <td>NaN</td>\n",
              "      <td>NaN</td>\n",
              "      <td>NaN</td>\n",
              "      <td>NaN</td>\n",
              "      <td>NaN</td>\n",
              "      <td>NaN</td>\n",
              "      <td>NaN</td>\n",
              "      <td>NaN</td>\n",
              "      <td>NaN</td>\n",
              "      <td>NaN</td>\n",
              "      <td>NaN</td>\n",
              "      <td>NaN</td>\n",
              "      <td>NaN</td>\n",
              "      <td>NaN</td>\n",
              "    </tr>\n",
              "    <tr>\n",
              "      <th>...</th>\n",
              "      <td>...</td>\n",
              "      <td>...</td>\n",
              "      <td>...</td>\n",
              "      <td>...</td>\n",
              "      <td>...</td>\n",
              "      <td>...</td>\n",
              "      <td>...</td>\n",
              "      <td>...</td>\n",
              "      <td>...</td>\n",
              "      <td>...</td>\n",
              "      <td>...</td>\n",
              "      <td>...</td>\n",
              "      <td>...</td>\n",
              "      <td>...</td>\n",
              "      <td>...</td>\n",
              "      <td>...</td>\n",
              "      <td>...</td>\n",
              "    </tr>\n",
              "    <tr>\n",
              "      <th>131885</th>\n",
              "      <td>NaN</td>\n",
              "      <td>NaN</td>\n",
              "      <td>NaN</td>\n",
              "      <td>NaN</td>\n",
              "      <td>NaN</td>\n",
              "      <td>NaN</td>\n",
              "      <td>NaN</td>\n",
              "      <td>NaN</td>\n",
              "      <td>NaN</td>\n",
              "      <td>NaN</td>\n",
              "      <td>NaN</td>\n",
              "      <td>NaN</td>\n",
              "      <td>NaN</td>\n",
              "      <td>NaN</td>\n",
              "      <td>NaN</td>\n",
              "      <td>NaN</td>\n",
              "      <td>NaN</td>\n",
              "    </tr>\n",
              "    <tr>\n",
              "      <th>131887</th>\n",
              "      <td>NaN</td>\n",
              "      <td>NaN</td>\n",
              "      <td>NaN</td>\n",
              "      <td>NaN</td>\n",
              "      <td>NaN</td>\n",
              "      <td>NaN</td>\n",
              "      <td>NaN</td>\n",
              "      <td>NaN</td>\n",
              "      <td>NaN</td>\n",
              "      <td>NaN</td>\n",
              "      <td>NaN</td>\n",
              "      <td>NaN</td>\n",
              "      <td>NaN</td>\n",
              "      <td>NaN</td>\n",
              "      <td>NaN</td>\n",
              "      <td>NaN</td>\n",
              "      <td>NaN</td>\n",
              "    </tr>\n",
              "    <tr>\n",
              "      <th>131889</th>\n",
              "      <td>NaN</td>\n",
              "      <td>NaN</td>\n",
              "      <td>NaN</td>\n",
              "      <td>NaN</td>\n",
              "      <td>NaN</td>\n",
              "      <td>NaN</td>\n",
              "      <td>NaN</td>\n",
              "      <td>NaN</td>\n",
              "      <td>NaN</td>\n",
              "      <td>NaN</td>\n",
              "      <td>NaN</td>\n",
              "      <td>NaN</td>\n",
              "      <td>NaN</td>\n",
              "      <td>NaN</td>\n",
              "      <td>NaN</td>\n",
              "      <td>NaN</td>\n",
              "      <td>NaN</td>\n",
              "    </tr>\n",
              "    <tr>\n",
              "      <th>131891</th>\n",
              "      <td>NaN</td>\n",
              "      <td>NaN</td>\n",
              "      <td>NaN</td>\n",
              "      <td>NaN</td>\n",
              "      <td>NaN</td>\n",
              "      <td>NaN</td>\n",
              "      <td>NaN</td>\n",
              "      <td>NaN</td>\n",
              "      <td>NaN</td>\n",
              "      <td>NaN</td>\n",
              "      <td>NaN</td>\n",
              "      <td>NaN</td>\n",
              "      <td>NaN</td>\n",
              "      <td>NaN</td>\n",
              "      <td>NaN</td>\n",
              "      <td>NaN</td>\n",
              "      <td>NaN</td>\n",
              "    </tr>\n",
              "    <tr>\n",
              "      <th>131893</th>\n",
              "      <td>NaN</td>\n",
              "      <td>NaN</td>\n",
              "      <td>NaN</td>\n",
              "      <td>NaN</td>\n",
              "      <td>NaN</td>\n",
              "      <td>NaN</td>\n",
              "      <td>NaN</td>\n",
              "      <td>NaN</td>\n",
              "      <td>NaN</td>\n",
              "      <td>NaN</td>\n",
              "      <td>NaN</td>\n",
              "      <td>NaN</td>\n",
              "      <td>NaN</td>\n",
              "      <td>NaN</td>\n",
              "      <td>NaN</td>\n",
              "      <td>NaN</td>\n",
              "      <td>NaN</td>\n",
              "    </tr>\n",
              "  </tbody>\n",
              "</table>\n",
              "<p>70711 rows × 17 columns</p>\n",
              "</div>\n",
              "    <div class=\"colab-df-buttons\">\n",
              "\n",
              "  <div class=\"colab-df-container\">\n",
              "    <button class=\"colab-df-convert\" onclick=\"convertToInteractive('df-cd52e36f-249b-49b4-a23b-65ef85314d0a')\"\n",
              "            title=\"Convert this dataframe to an interactive table.\"\n",
              "            style=\"display:none;\">\n",
              "\n",
              "  <svg xmlns=\"http://www.w3.org/2000/svg\" height=\"24px\" viewBox=\"0 -960 960 960\">\n",
              "    <path d=\"M120-120v-720h720v720H120Zm60-500h600v-160H180v160Zm220 220h160v-160H400v160Zm0 220h160v-160H400v160ZM180-400h160v-160H180v160Zm440 0h160v-160H620v160ZM180-180h160v-160H180v160Zm440 0h160v-160H620v160Z\"/>\n",
              "  </svg>\n",
              "    </button>\n",
              "\n",
              "  <style>\n",
              "    .colab-df-container {\n",
              "      display:flex;\n",
              "      gap: 12px;\n",
              "    }\n",
              "\n",
              "    .colab-df-convert {\n",
              "      background-color: #E8F0FE;\n",
              "      border: none;\n",
              "      border-radius: 50%;\n",
              "      cursor: pointer;\n",
              "      display: none;\n",
              "      fill: #1967D2;\n",
              "      height: 32px;\n",
              "      padding: 0 0 0 0;\n",
              "      width: 32px;\n",
              "    }\n",
              "\n",
              "    .colab-df-convert:hover {\n",
              "      background-color: #E2EBFA;\n",
              "      box-shadow: 0px 1px 2px rgba(60, 64, 67, 0.3), 0px 1px 3px 1px rgba(60, 64, 67, 0.15);\n",
              "      fill: #174EA6;\n",
              "    }\n",
              "\n",
              "    .colab-df-buttons div {\n",
              "      margin-bottom: 4px;\n",
              "    }\n",
              "\n",
              "    [theme=dark] .colab-df-convert {\n",
              "      background-color: #3B4455;\n",
              "      fill: #D2E3FC;\n",
              "    }\n",
              "\n",
              "    [theme=dark] .colab-df-convert:hover {\n",
              "      background-color: #434B5C;\n",
              "      box-shadow: 0px 1px 3px 1px rgba(0, 0, 0, 0.15);\n",
              "      filter: drop-shadow(0px 1px 2px rgba(0, 0, 0, 0.3));\n",
              "      fill: #FFFFFF;\n",
              "    }\n",
              "  </style>\n",
              "\n",
              "    <script>\n",
              "      const buttonEl =\n",
              "        document.querySelector('#df-cd52e36f-249b-49b4-a23b-65ef85314d0a button.colab-df-convert');\n",
              "      buttonEl.style.display =\n",
              "        google.colab.kernel.accessAllowed ? 'block' : 'none';\n",
              "\n",
              "      async function convertToInteractive(key) {\n",
              "        const element = document.querySelector('#df-cd52e36f-249b-49b4-a23b-65ef85314d0a');\n",
              "        const dataTable =\n",
              "          await google.colab.kernel.invokeFunction('convertToInteractive',\n",
              "                                                    [key], {});\n",
              "        if (!dataTable) return;\n",
              "\n",
              "        const docLinkHtml = 'Like what you see? Visit the ' +\n",
              "          '<a target=\"_blank\" href=https://colab.research.google.com/notebooks/data_table.ipynb>data table notebook</a>'\n",
              "          + ' to learn more about interactive tables.';\n",
              "        element.innerHTML = '';\n",
              "        dataTable['output_type'] = 'display_data';\n",
              "        await google.colab.output.renderOutput(dataTable, element);\n",
              "        const docLink = document.createElement('div');\n",
              "        docLink.innerHTML = docLinkHtml;\n",
              "        element.appendChild(docLink);\n",
              "      }\n",
              "    </script>\n",
              "  </div>\n",
              "\n",
              "\n",
              "<div id=\"df-9281567c-a8d4-429e-94a1-9aa444ac1496\">\n",
              "  <button class=\"colab-df-quickchart\" onclick=\"quickchart('df-9281567c-a8d4-429e-94a1-9aa444ac1496')\"\n",
              "            title=\"Suggest charts\"\n",
              "            style=\"display:none;\">\n",
              "\n",
              "<svg xmlns=\"http://www.w3.org/2000/svg\" height=\"24px\"viewBox=\"0 0 24 24\"\n",
              "     width=\"24px\">\n",
              "    <g>\n",
              "        <path d=\"M19 3H5c-1.1 0-2 .9-2 2v14c0 1.1.9 2 2 2h14c1.1 0 2-.9 2-2V5c0-1.1-.9-2-2-2zM9 17H7v-7h2v7zm4 0h-2V7h2v10zm4 0h-2v-4h2v4z\"/>\n",
              "    </g>\n",
              "</svg>\n",
              "  </button>\n",
              "\n",
              "<style>\n",
              "  .colab-df-quickchart {\n",
              "      --bg-color: #E8F0FE;\n",
              "      --fill-color: #1967D2;\n",
              "      --hover-bg-color: #E2EBFA;\n",
              "      --hover-fill-color: #174EA6;\n",
              "      --disabled-fill-color: #AAA;\n",
              "      --disabled-bg-color: #DDD;\n",
              "  }\n",
              "\n",
              "  [theme=dark] .colab-df-quickchart {\n",
              "      --bg-color: #3B4455;\n",
              "      --fill-color: #D2E3FC;\n",
              "      --hover-bg-color: #434B5C;\n",
              "      --hover-fill-color: #FFFFFF;\n",
              "      --disabled-bg-color: #3B4455;\n",
              "      --disabled-fill-color: #666;\n",
              "  }\n",
              "\n",
              "  .colab-df-quickchart {\n",
              "    background-color: var(--bg-color);\n",
              "    border: none;\n",
              "    border-radius: 50%;\n",
              "    cursor: pointer;\n",
              "    display: none;\n",
              "    fill: var(--fill-color);\n",
              "    height: 32px;\n",
              "    padding: 0;\n",
              "    width: 32px;\n",
              "  }\n",
              "\n",
              "  .colab-df-quickchart:hover {\n",
              "    background-color: var(--hover-bg-color);\n",
              "    box-shadow: 0 1px 2px rgba(60, 64, 67, 0.3), 0 1px 3px 1px rgba(60, 64, 67, 0.15);\n",
              "    fill: var(--button-hover-fill-color);\n",
              "  }\n",
              "\n",
              "  .colab-df-quickchart-complete:disabled,\n",
              "  .colab-df-quickchart-complete:disabled:hover {\n",
              "    background-color: var(--disabled-bg-color);\n",
              "    fill: var(--disabled-fill-color);\n",
              "    box-shadow: none;\n",
              "  }\n",
              "\n",
              "  .colab-df-spinner {\n",
              "    border: 2px solid var(--fill-color);\n",
              "    border-color: transparent;\n",
              "    border-bottom-color: var(--fill-color);\n",
              "    animation:\n",
              "      spin 1s steps(1) infinite;\n",
              "  }\n",
              "\n",
              "  @keyframes spin {\n",
              "    0% {\n",
              "      border-color: transparent;\n",
              "      border-bottom-color: var(--fill-color);\n",
              "      border-left-color: var(--fill-color);\n",
              "    }\n",
              "    20% {\n",
              "      border-color: transparent;\n",
              "      border-left-color: var(--fill-color);\n",
              "      border-top-color: var(--fill-color);\n",
              "    }\n",
              "    30% {\n",
              "      border-color: transparent;\n",
              "      border-left-color: var(--fill-color);\n",
              "      border-top-color: var(--fill-color);\n",
              "      border-right-color: var(--fill-color);\n",
              "    }\n",
              "    40% {\n",
              "      border-color: transparent;\n",
              "      border-right-color: var(--fill-color);\n",
              "      border-top-color: var(--fill-color);\n",
              "    }\n",
              "    60% {\n",
              "      border-color: transparent;\n",
              "      border-right-color: var(--fill-color);\n",
              "    }\n",
              "    80% {\n",
              "      border-color: transparent;\n",
              "      border-right-color: var(--fill-color);\n",
              "      border-bottom-color: var(--fill-color);\n",
              "    }\n",
              "    90% {\n",
              "      border-color: transparent;\n",
              "      border-bottom-color: var(--fill-color);\n",
              "    }\n",
              "  }\n",
              "</style>\n",
              "\n",
              "  <script>\n",
              "    async function quickchart(key) {\n",
              "      const quickchartButtonEl =\n",
              "        document.querySelector('#' + key + ' button');\n",
              "      quickchartButtonEl.disabled = true;  // To prevent multiple clicks.\n",
              "      quickchartButtonEl.classList.add('colab-df-spinner');\n",
              "      try {\n",
              "        const charts = await google.colab.kernel.invokeFunction(\n",
              "            'suggestCharts', [key], {});\n",
              "      } catch (error) {\n",
              "        console.error('Error during call to suggestCharts:', error);\n",
              "      }\n",
              "      quickchartButtonEl.classList.remove('colab-df-spinner');\n",
              "      quickchartButtonEl.classList.add('colab-df-quickchart-complete');\n",
              "    }\n",
              "    (() => {\n",
              "      let quickchartButtonEl =\n",
              "        document.querySelector('#df-9281567c-a8d4-429e-94a1-9aa444ac1496 button');\n",
              "      quickchartButtonEl.style.display =\n",
              "        google.colab.kernel.accessAllowed ? 'block' : 'none';\n",
              "    })();\n",
              "  </script>\n",
              "</div>\n",
              "\n",
              "    </div>\n",
              "  </div>\n"
            ]
          },
          "metadata": {},
          "execution_count": 8
        }
      ],
      "source": [
        "# Dataset Duplicate Value Count\n",
        "df[df.duplicated()]"
      ]
    },
    {
      "cell_type": "code",
      "source": [
        "df.drop(df[df.duplicated()].index, axis = 0, inplace = True)\n",
        "df.reset_index(inplace = True)\n",
        "df.drop('index', axis = 1, inplace = True)"
      ],
      "metadata": {
        "id": "CxqONhs3s7mE"
      },
      "execution_count": 9,
      "outputs": []
    },
    {
      "cell_type": "markdown",
      "metadata": {
        "id": "PoPl-ycgm1ru"
      },
      "source": [
        "#### Missing Values/Null Values"
      ]
    },
    {
      "cell_type": "code",
      "execution_count": 10,
      "metadata": {
        "id": "GgHWkxvamxVg",
        "colab": {
          "base_uri": "https://localhost:8080/",
          "height": 0
        },
        "outputId": "c92ce978-533c-4fd5-fc0e-7485553c0d37"
      },
      "outputs": [
        {
          "output_type": "execute_result",
          "data": {
            "text/plain": [
              "                 Null values in %\n",
              "aircraft                    69.78\n",
              "ground_service              39.25\n",
              "date_flown                  38.82\n",
              "route                       38.69\n",
              "traveller_type              38.64\n",
              "entertainment               34.25\n",
              "food_bev                    20.99\n",
              "seat_comfort                 8.13\n",
              "cabin_service                8.08\n",
              "cabin                        4.05\n",
              "value_for_money              3.04\n",
              "overall                      2.91\n",
              "recommended                  2.33\n",
              "customer_review              0.00\n",
              "review_date                  0.00\n",
              "author                       0.00\n",
              "airline                      0.00"
            ],
            "text/html": [
              "\n",
              "  <div id=\"df-c529ab2d-ad3a-4c8d-9615-6f589cf592d6\" class=\"colab-df-container\">\n",
              "    <div>\n",
              "<style scoped>\n",
              "    .dataframe tbody tr th:only-of-type {\n",
              "        vertical-align: middle;\n",
              "    }\n",
              "\n",
              "    .dataframe tbody tr th {\n",
              "        vertical-align: top;\n",
              "    }\n",
              "\n",
              "    .dataframe thead th {\n",
              "        text-align: right;\n",
              "    }\n",
              "</style>\n",
              "<table border=\"1\" class=\"dataframe\">\n",
              "  <thead>\n",
              "    <tr style=\"text-align: right;\">\n",
              "      <th></th>\n",
              "      <th>Null values in %</th>\n",
              "    </tr>\n",
              "  </thead>\n",
              "  <tbody>\n",
              "    <tr>\n",
              "      <th>aircraft</th>\n",
              "      <td>69.78</td>\n",
              "    </tr>\n",
              "    <tr>\n",
              "      <th>ground_service</th>\n",
              "      <td>39.25</td>\n",
              "    </tr>\n",
              "    <tr>\n",
              "      <th>date_flown</th>\n",
              "      <td>38.82</td>\n",
              "    </tr>\n",
              "    <tr>\n",
              "      <th>route</th>\n",
              "      <td>38.69</td>\n",
              "    </tr>\n",
              "    <tr>\n",
              "      <th>traveller_type</th>\n",
              "      <td>38.64</td>\n",
              "    </tr>\n",
              "    <tr>\n",
              "      <th>entertainment</th>\n",
              "      <td>34.25</td>\n",
              "    </tr>\n",
              "    <tr>\n",
              "      <th>food_bev</th>\n",
              "      <td>20.99</td>\n",
              "    </tr>\n",
              "    <tr>\n",
              "      <th>seat_comfort</th>\n",
              "      <td>8.13</td>\n",
              "    </tr>\n",
              "    <tr>\n",
              "      <th>cabin_service</th>\n",
              "      <td>8.08</td>\n",
              "    </tr>\n",
              "    <tr>\n",
              "      <th>cabin</th>\n",
              "      <td>4.05</td>\n",
              "    </tr>\n",
              "    <tr>\n",
              "      <th>value_for_money</th>\n",
              "      <td>3.04</td>\n",
              "    </tr>\n",
              "    <tr>\n",
              "      <th>overall</th>\n",
              "      <td>2.91</td>\n",
              "    </tr>\n",
              "    <tr>\n",
              "      <th>recommended</th>\n",
              "      <td>2.33</td>\n",
              "    </tr>\n",
              "    <tr>\n",
              "      <th>customer_review</th>\n",
              "      <td>0.00</td>\n",
              "    </tr>\n",
              "    <tr>\n",
              "      <th>review_date</th>\n",
              "      <td>0.00</td>\n",
              "    </tr>\n",
              "    <tr>\n",
              "      <th>author</th>\n",
              "      <td>0.00</td>\n",
              "    </tr>\n",
              "    <tr>\n",
              "      <th>airline</th>\n",
              "      <td>0.00</td>\n",
              "    </tr>\n",
              "  </tbody>\n",
              "</table>\n",
              "</div>\n",
              "    <div class=\"colab-df-buttons\">\n",
              "\n",
              "  <div class=\"colab-df-container\">\n",
              "    <button class=\"colab-df-convert\" onclick=\"convertToInteractive('df-c529ab2d-ad3a-4c8d-9615-6f589cf592d6')\"\n",
              "            title=\"Convert this dataframe to an interactive table.\"\n",
              "            style=\"display:none;\">\n",
              "\n",
              "  <svg xmlns=\"http://www.w3.org/2000/svg\" height=\"24px\" viewBox=\"0 -960 960 960\">\n",
              "    <path d=\"M120-120v-720h720v720H120Zm60-500h600v-160H180v160Zm220 220h160v-160H400v160Zm0 220h160v-160H400v160ZM180-400h160v-160H180v160Zm440 0h160v-160H620v160ZM180-180h160v-160H180v160Zm440 0h160v-160H620v160Z\"/>\n",
              "  </svg>\n",
              "    </button>\n",
              "\n",
              "  <style>\n",
              "    .colab-df-container {\n",
              "      display:flex;\n",
              "      gap: 12px;\n",
              "    }\n",
              "\n",
              "    .colab-df-convert {\n",
              "      background-color: #E8F0FE;\n",
              "      border: none;\n",
              "      border-radius: 50%;\n",
              "      cursor: pointer;\n",
              "      display: none;\n",
              "      fill: #1967D2;\n",
              "      height: 32px;\n",
              "      padding: 0 0 0 0;\n",
              "      width: 32px;\n",
              "    }\n",
              "\n",
              "    .colab-df-convert:hover {\n",
              "      background-color: #E2EBFA;\n",
              "      box-shadow: 0px 1px 2px rgba(60, 64, 67, 0.3), 0px 1px 3px 1px rgba(60, 64, 67, 0.15);\n",
              "      fill: #174EA6;\n",
              "    }\n",
              "\n",
              "    .colab-df-buttons div {\n",
              "      margin-bottom: 4px;\n",
              "    }\n",
              "\n",
              "    [theme=dark] .colab-df-convert {\n",
              "      background-color: #3B4455;\n",
              "      fill: #D2E3FC;\n",
              "    }\n",
              "\n",
              "    [theme=dark] .colab-df-convert:hover {\n",
              "      background-color: #434B5C;\n",
              "      box-shadow: 0px 1px 3px 1px rgba(0, 0, 0, 0.15);\n",
              "      filter: drop-shadow(0px 1px 2px rgba(0, 0, 0, 0.3));\n",
              "      fill: #FFFFFF;\n",
              "    }\n",
              "  </style>\n",
              "\n",
              "    <script>\n",
              "      const buttonEl =\n",
              "        document.querySelector('#df-c529ab2d-ad3a-4c8d-9615-6f589cf592d6 button.colab-df-convert');\n",
              "      buttonEl.style.display =\n",
              "        google.colab.kernel.accessAllowed ? 'block' : 'none';\n",
              "\n",
              "      async function convertToInteractive(key) {\n",
              "        const element = document.querySelector('#df-c529ab2d-ad3a-4c8d-9615-6f589cf592d6');\n",
              "        const dataTable =\n",
              "          await google.colab.kernel.invokeFunction('convertToInteractive',\n",
              "                                                    [key], {});\n",
              "        if (!dataTable) return;\n",
              "\n",
              "        const docLinkHtml = 'Like what you see? Visit the ' +\n",
              "          '<a target=\"_blank\" href=https://colab.research.google.com/notebooks/data_table.ipynb>data table notebook</a>'\n",
              "          + ' to learn more about interactive tables.';\n",
              "        element.innerHTML = '';\n",
              "        dataTable['output_type'] = 'display_data';\n",
              "        await google.colab.output.renderOutput(dataTable, element);\n",
              "        const docLink = document.createElement('div');\n",
              "        docLink.innerHTML = docLinkHtml;\n",
              "        element.appendChild(docLink);\n",
              "      }\n",
              "    </script>\n",
              "  </div>\n",
              "\n",
              "\n",
              "<div id=\"df-01927ee5-9015-4e8d-aa1f-34c3fcbbd067\">\n",
              "  <button class=\"colab-df-quickchart\" onclick=\"quickchart('df-01927ee5-9015-4e8d-aa1f-34c3fcbbd067')\"\n",
              "            title=\"Suggest charts\"\n",
              "            style=\"display:none;\">\n",
              "\n",
              "<svg xmlns=\"http://www.w3.org/2000/svg\" height=\"24px\"viewBox=\"0 0 24 24\"\n",
              "     width=\"24px\">\n",
              "    <g>\n",
              "        <path d=\"M19 3H5c-1.1 0-2 .9-2 2v14c0 1.1.9 2 2 2h14c1.1 0 2-.9 2-2V5c0-1.1-.9-2-2-2zM9 17H7v-7h2v7zm4 0h-2V7h2v10zm4 0h-2v-4h2v4z\"/>\n",
              "    </g>\n",
              "</svg>\n",
              "  </button>\n",
              "\n",
              "<style>\n",
              "  .colab-df-quickchart {\n",
              "      --bg-color: #E8F0FE;\n",
              "      --fill-color: #1967D2;\n",
              "      --hover-bg-color: #E2EBFA;\n",
              "      --hover-fill-color: #174EA6;\n",
              "      --disabled-fill-color: #AAA;\n",
              "      --disabled-bg-color: #DDD;\n",
              "  }\n",
              "\n",
              "  [theme=dark] .colab-df-quickchart {\n",
              "      --bg-color: #3B4455;\n",
              "      --fill-color: #D2E3FC;\n",
              "      --hover-bg-color: #434B5C;\n",
              "      --hover-fill-color: #FFFFFF;\n",
              "      --disabled-bg-color: #3B4455;\n",
              "      --disabled-fill-color: #666;\n",
              "  }\n",
              "\n",
              "  .colab-df-quickchart {\n",
              "    background-color: var(--bg-color);\n",
              "    border: none;\n",
              "    border-radius: 50%;\n",
              "    cursor: pointer;\n",
              "    display: none;\n",
              "    fill: var(--fill-color);\n",
              "    height: 32px;\n",
              "    padding: 0;\n",
              "    width: 32px;\n",
              "  }\n",
              "\n",
              "  .colab-df-quickchart:hover {\n",
              "    background-color: var(--hover-bg-color);\n",
              "    box-shadow: 0 1px 2px rgba(60, 64, 67, 0.3), 0 1px 3px 1px rgba(60, 64, 67, 0.15);\n",
              "    fill: var(--button-hover-fill-color);\n",
              "  }\n",
              "\n",
              "  .colab-df-quickchart-complete:disabled,\n",
              "  .colab-df-quickchart-complete:disabled:hover {\n",
              "    background-color: var(--disabled-bg-color);\n",
              "    fill: var(--disabled-fill-color);\n",
              "    box-shadow: none;\n",
              "  }\n",
              "\n",
              "  .colab-df-spinner {\n",
              "    border: 2px solid var(--fill-color);\n",
              "    border-color: transparent;\n",
              "    border-bottom-color: var(--fill-color);\n",
              "    animation:\n",
              "      spin 1s steps(1) infinite;\n",
              "  }\n",
              "\n",
              "  @keyframes spin {\n",
              "    0% {\n",
              "      border-color: transparent;\n",
              "      border-bottom-color: var(--fill-color);\n",
              "      border-left-color: var(--fill-color);\n",
              "    }\n",
              "    20% {\n",
              "      border-color: transparent;\n",
              "      border-left-color: var(--fill-color);\n",
              "      border-top-color: var(--fill-color);\n",
              "    }\n",
              "    30% {\n",
              "      border-color: transparent;\n",
              "      border-left-color: var(--fill-color);\n",
              "      border-top-color: var(--fill-color);\n",
              "      border-right-color: var(--fill-color);\n",
              "    }\n",
              "    40% {\n",
              "      border-color: transparent;\n",
              "      border-right-color: var(--fill-color);\n",
              "      border-top-color: var(--fill-color);\n",
              "    }\n",
              "    60% {\n",
              "      border-color: transparent;\n",
              "      border-right-color: var(--fill-color);\n",
              "    }\n",
              "    80% {\n",
              "      border-color: transparent;\n",
              "      border-right-color: var(--fill-color);\n",
              "      border-bottom-color: var(--fill-color);\n",
              "    }\n",
              "    90% {\n",
              "      border-color: transparent;\n",
              "      border-bottom-color: var(--fill-color);\n",
              "    }\n",
              "  }\n",
              "</style>\n",
              "\n",
              "  <script>\n",
              "    async function quickchart(key) {\n",
              "      const quickchartButtonEl =\n",
              "        document.querySelector('#' + key + ' button');\n",
              "      quickchartButtonEl.disabled = true;  // To prevent multiple clicks.\n",
              "      quickchartButtonEl.classList.add('colab-df-spinner');\n",
              "      try {\n",
              "        const charts = await google.colab.kernel.invokeFunction(\n",
              "            'suggestCharts', [key], {});\n",
              "      } catch (error) {\n",
              "        console.error('Error during call to suggestCharts:', error);\n",
              "      }\n",
              "      quickchartButtonEl.classList.remove('colab-df-spinner');\n",
              "      quickchartButtonEl.classList.add('colab-df-quickchart-complete');\n",
              "    }\n",
              "    (() => {\n",
              "      let quickchartButtonEl =\n",
              "        document.querySelector('#df-01927ee5-9015-4e8d-aa1f-34c3fcbbd067 button');\n",
              "      quickchartButtonEl.style.display =\n",
              "        google.colab.kernel.accessAllowed ? 'block' : 'none';\n",
              "    })();\n",
              "  </script>\n",
              "</div>\n",
              "\n",
              "  <div id=\"id_f36dc02d-de5a-49bd-8e3d-07730b043608\">\n",
              "    <style>\n",
              "      .colab-df-generate {\n",
              "        background-color: #E8F0FE;\n",
              "        border: none;\n",
              "        border-radius: 50%;\n",
              "        cursor: pointer;\n",
              "        display: none;\n",
              "        fill: #1967D2;\n",
              "        height: 32px;\n",
              "        padding: 0 0 0 0;\n",
              "        width: 32px;\n",
              "      }\n",
              "\n",
              "      .colab-df-generate:hover {\n",
              "        background-color: #E2EBFA;\n",
              "        box-shadow: 0px 1px 2px rgba(60, 64, 67, 0.3), 0px 1px 3px 1px rgba(60, 64, 67, 0.15);\n",
              "        fill: #174EA6;\n",
              "      }\n",
              "\n",
              "      [theme=dark] .colab-df-generate {\n",
              "        background-color: #3B4455;\n",
              "        fill: #D2E3FC;\n",
              "      }\n",
              "\n",
              "      [theme=dark] .colab-df-generate:hover {\n",
              "        background-color: #434B5C;\n",
              "        box-shadow: 0px 1px 3px 1px rgba(0, 0, 0, 0.15);\n",
              "        filter: drop-shadow(0px 1px 2px rgba(0, 0, 0, 0.3));\n",
              "        fill: #FFFFFF;\n",
              "      }\n",
              "    </style>\n",
              "    <button class=\"colab-df-generate\" onclick=\"generateWithVariable('df1')\"\n",
              "            title=\"Generate code using this dataframe.\"\n",
              "            style=\"display:none;\">\n",
              "\n",
              "  <svg xmlns=\"http://www.w3.org/2000/svg\" height=\"24px\"viewBox=\"0 0 24 24\"\n",
              "       width=\"24px\">\n",
              "    <path d=\"M7,19H8.4L18.45,9,17,7.55,7,17.6ZM5,21V16.75L18.45,3.32a2,2,0,0,1,2.83,0l1.4,1.43a1.91,1.91,0,0,1,.58,1.4,1.91,1.91,0,0,1-.58,1.4L9.25,21ZM18.45,9,17,7.55Zm-12,3A5.31,5.31,0,0,0,4.9,8.1,5.31,5.31,0,0,0,1,6.5,5.31,5.31,0,0,0,4.9,4.9,5.31,5.31,0,0,0,6.5,1,5.31,5.31,0,0,0,8.1,4.9,5.31,5.31,0,0,0,12,6.5,5.46,5.46,0,0,0,6.5,12Z\"/>\n",
              "  </svg>\n",
              "    </button>\n",
              "    <script>\n",
              "      (() => {\n",
              "      const buttonEl =\n",
              "        document.querySelector('#id_f36dc02d-de5a-49bd-8e3d-07730b043608 button.colab-df-generate');\n",
              "      buttonEl.style.display =\n",
              "        google.colab.kernel.accessAllowed ? 'block' : 'none';\n",
              "\n",
              "      buttonEl.onclick = () => {\n",
              "        google.colab.notebook.generateWithVariable('df1');\n",
              "      }\n",
              "      })();\n",
              "    </script>\n",
              "  </div>\n",
              "\n",
              "    </div>\n",
              "  </div>\n"
            ]
          },
          "metadata": {},
          "execution_count": 10
        }
      ],
      "source": [
        "# Missing Values/Null Values Count\n",
        "df1 = pd.DataFrame(round((df.isnull().sum()/len(df))*100, 2).sort_values(ascending = False)\n",
        "                  , columns = ['Null values in %'])\n",
        "\n",
        "df1"
      ]
    },
    {
      "cell_type": "code",
      "execution_count": 11,
      "metadata": {
        "id": "3q5wnI3om9sJ",
        "colab": {
          "base_uri": "https://localhost:8080/",
          "height": 0
        },
        "outputId": "bfeea9e8-406e-42b1-c9f9-8cc027a74703"
      },
      "outputs": [
        {
          "output_type": "display_data",
          "data": {
            "text/plain": [
              "<Figure size 1500x400 with 3 Axes>"
            ],
            "image/png": "[encoded data removed]"
          },
          "metadata": {}
        }
      ],
      "source": [
        "# Visualizing the missing values\n",
        "plt.subplot(1,2,1)\n",
        "sns.heatmap(df.isnull())\n",
        "\n",
        "plt.title('Null Values')\n",
        "\n",
        "from matplotlib import pyplot as plt\n",
        "plt.subplot(1,2,2)\n",
        "df1['Null values in %'].plot(kind='bar', figsize=(15, 4), title='Null values in %')\n",
        "plt.show()\n"
      ]
    },
    {
      "cell_type": "markdown",
      "metadata": {
        "id": "H0kj-8xxnORC"
      },
      "source": [
        "### What did you know about your dataset?"
      ]
    },
    {
      "cell_type": "markdown",
      "metadata": {
        "id": "gfoNAAC-nUe_"
      },
      "source": [
        "\n",
        "- Features containing null values from 70% to 20% which needs to be imputed before ML modelling.\n",
        "- Most of the columns have categorical data.\n",
        "- A feature named 'customer_review' has textual type of data.Natural Language tool kit will be needed/rquired to treat this feature.\n",
        "- The dataset also has time series feature which can be ustilized for time series analysis."
      ]
    },
    {
      "cell_type": "markdown",
      "metadata": {
        "id": "nA9Y7ga8ng1Z"
      },
      "source": [
        "## ***2. Understanding Your Variables***"
      ]
    },
    {
      "cell_type": "code",
      "execution_count": 12,
      "metadata": {
        "id": "j7xfkqrt5Ag5",
        "colab": {
          "base_uri": "https://localhost:8080/"
        },
        "outputId": "08476e14-a1f9-40c9-8ec3-47094d202a3c"
      },
      "outputs": [
        {
          "output_type": "execute_result",
          "data": {
            "text/plain": [
              "['airline',\n",
              " 'overall',\n",
              " 'author',\n",
              " 'review_date',\n",
              " 'customer_review',\n",
              " 'aircraft',\n",
              " 'traveller_type',\n",
              " 'cabin',\n",
              " 'route',\n",
              " 'date_flown',\n",
              " 'seat_comfort',\n",
              " 'cabin_service',\n",
              " 'food_bev',\n",
              " 'entertainment',\n",
              " 'ground_service',\n",
              " 'value_for_money',\n",
              " 'recommended']"
            ]
          },
          "metadata": {},
          "execution_count": 12
        }
      ],
      "source": [
        "# Dataset Columns\n",
        "list(df.columns)"
      ]
    },
    {
      "cell_type": "code",
      "execution_count": 13,
      "metadata": {
        "id": "DnOaZdaE5Q5t",
        "colab": {
          "base_uri": "https://localhost:8080/",
          "height": 0
        },
        "outputId": "0b0e18c0-f18d-4ee1-bf55-5cc5c75ea5dc"
      },
      "outputs": [
        {
          "output_type": "execute_result",
          "data": {
            "text/plain": [
              "            overall  seat_comfort  cabin_service      food_bev  entertainment  \\\n",
              "count  59401.000000  56211.000000   56240.000000  48341.000000   40230.000000   \n",
              "mean       5.164863      2.959278       3.200231      2.926956       2.887994   \n",
              "std        3.483701      1.436467       1.568429      1.483122       1.504452   \n",
              "min        1.000000      1.000000       1.000000      1.000000       1.000000   \n",
              "25%        1.000000      2.000000       2.000000      1.000000       1.000000   \n",
              "50%        5.000000      3.000000       3.000000      3.000000       3.000000   \n",
              "75%        9.000000      4.000000       5.000000      4.000000       4.000000   \n",
              "max       10.000000      5.000000       5.000000      5.000000       5.000000   \n",
              "\n",
              "       ground_service  value_for_money  \n",
              "count    37169.000000     59327.000000  \n",
              "mean         2.681347         2.950849  \n",
              "std          1.613995         1.588433  \n",
              "min          1.000000         1.000000  \n",
              "25%          1.000000         1.000000  \n",
              "50%          3.000000         3.000000  \n",
              "75%          4.000000         4.000000  \n",
              "max          5.000000         5.000000  "
            ],
            "text/html": [
              "\n",
              "  <div id=\"df-b53f78f2-75e4-489b-87fd-c9dce5b80797\" class=\"colab-df-container\">\n",
              "    <div>\n",
              "<style scoped>\n",
              "    .dataframe tbody tr th:only-of-type {\n",
              "        vertical-align: middle;\n",
              "    }\n",
              "\n",
              "    .dataframe tbody tr th {\n",
              "        vertical-align: top;\n",
              "    }\n",
              "\n",
              "    .dataframe thead th {\n",
              "        text-align: right;\n",
              "    }\n",
              "</style>\n",
              "<table border=\"1\" class=\"dataframe\">\n",
              "  <thead>\n",
              "    <tr style=\"text-align: right;\">\n",
              "      <th></th>\n",
              "      <th>overall</th>\n",
              "      <th>seat_comfort</th>\n",
              "      <th>cabin_service</th>\n",
              "      <th>food_bev</th>\n",
              "      <th>entertainment</th>\n",
              "      <th>ground_service</th>\n",
              "      <th>value_for_money</th>\n",
              "    </tr>\n",
              "  </thead>\n",
              "  <tbody>\n",
              "    <tr>\n",
              "      <th>count</th>\n",
              "      <td>59401.000000</td>\n",
              "      <td>56211.000000</td>\n",
              "      <td>56240.000000</td>\n",
              "      <td>48341.000000</td>\n",
              "      <td>40230.000000</td>\n",
              "      <td>37169.000000</td>\n",
              "      <td>59327.000000</td>\n",
              "    </tr>\n",
              "    <tr>\n",
              "      <th>mean</th>\n",
              "      <td>5.164863</td>\n",
              "      <td>2.959278</td>\n",
              "      <td>3.200231</td>\n",
              "      <td>2.926956</td>\n",
              "      <td>2.887994</td>\n",
              "      <td>2.681347</td>\n",
              "      <td>2.950849</td>\n",
              "    </tr>\n",
              "    <tr>\n",
              "      <th>std</th>\n",
              "      <td>3.483701</td>\n",
              "      <td>1.436467</td>\n",
              "      <td>1.568429</td>\n",
              "      <td>1.483122</td>\n",
              "      <td>1.504452</td>\n",
              "      <td>1.613995</td>\n",
              "      <td>1.588433</td>\n",
              "    </tr>\n",
              "    <tr>\n",
              "      <th>min</th>\n",
              "      <td>1.000000</td>\n",
              "      <td>1.000000</td>\n",
              "      <td>1.000000</td>\n",
              "      <td>1.000000</td>\n",
              "      <td>1.000000</td>\n",
              "      <td>1.000000</td>\n",
              "      <td>1.000000</td>\n",
              "    </tr>\n",
              "    <tr>\n",
              "      <th>25%</th>\n",
              "      <td>1.000000</td>\n",
              "      <td>2.000000</td>\n",
              "      <td>2.000000</td>\n",
              "      <td>1.000000</td>\n",
              "      <td>1.000000</td>\n",
              "      <td>1.000000</td>\n",
              "      <td>1.000000</td>\n",
              "    </tr>\n",
              "    <tr>\n",
              "      <th>50%</th>\n",
              "      <td>5.000000</td>\n",
              "      <td>3.000000</td>\n",
              "      <td>3.000000</td>\n",
              "      <td>3.000000</td>\n",
              "      <td>3.000000</td>\n",
              "      <td>3.000000</td>\n",
              "      <td>3.000000</td>\n",
              "    </tr>\n",
              "    <tr>\n",
              "      <th>75%</th>\n",
              "      <td>9.000000</td>\n",
              "      <td>4.000000</td>\n",
              "      <td>5.000000</td>\n",
              "      <td>4.000000</td>\n",
              "      <td>4.000000</td>\n",
              "      <td>4.000000</td>\n",
              "      <td>4.000000</td>\n",
              "    </tr>\n",
              "    <tr>\n",
              "      <th>max</th>\n",
              "      <td>10.000000</td>\n",
              "      <td>5.000000</td>\n",
              "      <td>5.000000</td>\n",
              "      <td>5.000000</td>\n",
              "      <td>5.000000</td>\n",
              "      <td>5.000000</td>\n",
              "      <td>5.000000</td>\n",
              "    </tr>\n",
              "  </tbody>\n",
              "</table>\n",
              "</div>\n",
              "    <div class=\"colab-df-buttons\">\n",
              "\n",
              "  <div class=\"colab-df-container\">\n",
              "    <button class=\"colab-df-convert\" onclick=\"convertToInteractive('df-b53f78f2-75e4-489b-87fd-c9dce5b80797')\"\n",
              "            title=\"Convert this dataframe to an interactive table.\"\n",
              "            style=\"display:none;\">\n",
              "\n",
              "  <svg xmlns=\"http://www.w3.org/2000/svg\" height=\"24px\" viewBox=\"0 -960 960 960\">\n",
              "    <path d=\"M120-120v-720h720v720H120Zm60-500h600v-160H180v160Zm220 220h160v-160H400v160Zm0 220h160v-160H400v160ZM180-400h160v-160H180v160Zm440 0h160v-160H620v160ZM180-180h160v-160H180v160Zm440 0h160v-160H620v160Z\"/>\n",
              "  </svg>\n",
              "    </button>\n",
              "\n",
              "  <style>\n",
              "    .colab-df-container {\n",
              "      display:flex;\n",
              "      gap: 12px;\n",
              "    }\n",
              "\n",
              "    .colab-df-convert {\n",
              "      background-color: #E8F0FE;\n",
              "      border: none;\n",
              "      border-radius: 50%;\n",
              "      cursor: pointer;\n",
              "      display: none;\n",
              "      fill: #1967D2;\n",
              "      height: 32px;\n",
              "      padding: 0 0 0 0;\n",
              "      width: 32px;\n",
              "    }\n",
              "\n",
              "    .colab-df-convert:hover {\n",
              "      background-color: #E2EBFA;\n",
              "      box-shadow: 0px 1px 2px rgba(60, 64, 67, 0.3), 0px 1px 3px 1px rgba(60, 64, 67, 0.15);\n",
              "      fill: #174EA6;\n",
              "    }\n",
              "\n",
              "    .colab-df-buttons div {\n",
              "      margin-bottom: 4px;\n",
              "    }\n",
              "\n",
              "    [theme=dark] .colab-df-convert {\n",
              "      background-color: #3B4455;\n",
              "      fill: #D2E3FC;\n",
              "    }\n",
              "\n",
              "    [theme=dark] .colab-df-convert:hover {\n",
              "      background-color: #434B5C;\n",
              "      box-shadow: 0px 1px 3px 1px rgba(0, 0, 0, 0.15);\n",
              "      filter: drop-shadow(0px 1px 2px rgba(0, 0, 0, 0.3));\n",
              "      fill: #FFFFFF;\n",
              "    }\n",
              "  </style>\n",
              "\n",
              "    <script>\n",
              "      const buttonEl =\n",
              "        document.querySelector('#df-b53f78f2-75e4-489b-87fd-c9dce5b80797 button.colab-df-convert');\n",
              "      buttonEl.style.display =\n",
              "        google.colab.kernel.accessAllowed ? 'block' : 'none';\n",
              "\n",
              "      async function convertToInteractive(key) {\n",
              "        const element = document.querySelector('#df-b53f78f2-75e4-489b-87fd-c9dce5b80797');\n",
              "        const dataTable =\n",
              "          await google.colab.kernel.invokeFunction('convertToInteractive',\n",
              "                                                    [key], {});\n",
              "        if (!dataTable) return;\n",
              "\n",
              "        const docLinkHtml = 'Like what you see? Visit the ' +\n",
              "          '<a target=\"_blank\" href=https://colab.research.google.com/notebooks/data_table.ipynb>data table notebook</a>'\n",
              "          + ' to learn more about interactive tables.';\n",
              "        element.innerHTML = '';\n",
              "        dataTable['output_type'] = 'display_data';\n",
              "        await google.colab.output.renderOutput(dataTable, element);\n",
              "        const docLink = document.createElement('div');\n",
              "        docLink.innerHTML = docLinkHtml;\n",
              "        element.appendChild(docLink);\n",
              "      }\n",
              "    </script>\n",
              "  </div>\n",
              "\n",
              "\n",
              "<div id=\"df-d6a57c23-0501-4cae-a0ee-eceece955eff\">\n",
              "  <button class=\"colab-df-quickchart\" onclick=\"quickchart('df-d6a57c23-0501-4cae-a0ee-eceece955eff')\"\n",
              "            title=\"Suggest charts\"\n",
              "            style=\"display:none;\">\n",
              "\n",
              "<svg xmlns=\"http://www.w3.org/2000/svg\" height=\"24px\"viewBox=\"0 0 24 24\"\n",
              "     width=\"24px\">\n",
              "    <g>\n",
              "        <path d=\"M19 3H5c-1.1 0-2 .9-2 2v14c0 1.1.9 2 2 2h14c1.1 0 2-.9 2-2V5c0-1.1-.9-2-2-2zM9 17H7v-7h2v7zm4 0h-2V7h2v10zm4 0h-2v-4h2v4z\"/>\n",
              "    </g>\n",
              "</svg>\n",
              "  </button>\n",
              "\n",
              "<style>\n",
              "  .colab-df-quickchart {\n",
              "      --bg-color: #E8F0FE;\n",
              "      --fill-color: #1967D2;\n",
              "      --hover-bg-color: #E2EBFA;\n",
              "      --hover-fill-color: #174EA6;\n",
              "      --disabled-fill-color: #AAA;\n",
              "      --disabled-bg-color: #DDD;\n",
              "  }\n",
              "\n",
              "  [theme=dark] .colab-df-quickchart {\n",
              "      --bg-color: #3B4455;\n",
              "      --fill-color: #D2E3FC;\n",
              "      --hover-bg-color: #434B5C;\n",
              "      --hover-fill-color: #FFFFFF;\n",
              "      --disabled-bg-color: #3B4455;\n",
              "      --disabled-fill-color: #666;\n",
              "  }\n",
              "\n",
              "  .colab-df-quickchart {\n",
              "    background-color: var(--bg-color);\n",
              "    border: none;\n",
              "    border-radius: 50%;\n",
              "    cursor: pointer;\n",
              "    display: none;\n",
              "    fill: var(--fill-color);\n",
              "    height: 32px;\n",
              "    padding: 0;\n",
              "    width: 32px;\n",
              "  }\n",
              "\n",
              "  .colab-df-quickchart:hover {\n",
              "    background-color: var(--hover-bg-color);\n",
              "    box-shadow: 0 1px 2px rgba(60, 64, 67, 0.3), 0 1px 3px 1px rgba(60, 64, 67, 0.15);\n",
              "    fill: var(--button-hover-fill-color);\n",
              "  }\n",
              "\n",
              "  .colab-df-quickchart-complete:disabled,\n",
              "  .colab-df-quickchart-complete:disabled:hover {\n",
              "    background-color: var(--disabled-bg-color);\n",
              "    fill: var(--disabled-fill-color);\n",
              "    box-shadow: none;\n",
              "  }\n",
              "\n",
              "  .colab-df-spinner {\n",
              "    border: 2px solid var(--fill-color);\n",
              "    border-color: transparent;\n",
              "    border-bottom-color: var(--fill-color);\n",
              "    animation:\n",
              "      spin 1s steps(1) infinite;\n",
              "  }\n",
              "\n",
              "  @keyframes spin {\n",
              "    0% {\n",
              "      border-color: transparent;\n",
              "      border-bottom-color: var(--fill-color);\n",
              "      border-left-color: var(--fill-color);\n",
              "    }\n",
              "    20% {\n",
              "      border-color: transparent;\n",
              "      border-left-color: var(--fill-color);\n",
              "      border-top-color: var(--fill-color);\n",
              "    }\n",
              "    30% {\n",
              "      border-color: transparent;\n",
              "      border-left-color: var(--fill-color);\n",
              "      border-top-color: var(--fill-color);\n",
              "      border-right-color: var(--fill-color);\n",
              "    }\n",
              "    40% {\n",
              "      border-color: transparent;\n",
              "      border-right-color: var(--fill-color);\n",
              "      border-top-color: var(--fill-color);\n",
              "    }\n",
              "    60% {\n",
              "      border-color: transparent;\n",
              "      border-right-color: var(--fill-color);\n",
              "    }\n",
              "    80% {\n",
              "      border-color: transparent;\n",
              "      border-right-color: var(--fill-color);\n",
              "      border-bottom-color: var(--fill-color);\n",
              "    }\n",
              "    90% {\n",
              "      border-color: transparent;\n",
              "      border-bottom-color: var(--fill-color);\n",
              "    }\n",
              "  }\n",
              "</style>\n",
              "\n",
              "  <script>\n",
              "    async function quickchart(key) {\n",
              "      const quickchartButtonEl =\n",
              "        document.querySelector('#' + key + ' button');\n",
              "      quickchartButtonEl.disabled = true;  // To prevent multiple clicks.\n",
              "      quickchartButtonEl.classList.add('colab-df-spinner');\n",
              "      try {\n",
              "        const charts = await google.colab.kernel.invokeFunction(\n",
              "            'suggestCharts', [key], {});\n",
              "      } catch (error) {\n",
              "        console.error('Error during call to suggestCharts:', error);\n",
              "      }\n",
              "      quickchartButtonEl.classList.remove('colab-df-spinner');\n",
              "      quickchartButtonEl.classList.add('colab-df-quickchart-complete');\n",
              "    }\n",
              "    (() => {\n",
              "      let quickchartButtonEl =\n",
              "        document.querySelector('#df-d6a57c23-0501-4cae-a0ee-eceece955eff button');\n",
              "      quickchartButtonEl.style.display =\n",
              "        google.colab.kernel.accessAllowed ? 'block' : 'none';\n",
              "    })();\n",
              "  </script>\n",
              "</div>\n",
              "\n",
              "    </div>\n",
              "  </div>\n"
            ]
          },
          "metadata": {},
          "execution_count": 13
        }
      ],
      "source": [
        "# Dataset Describe\n",
        "df.describe()"
      ]
    },
    {
      "cell_type": "markdown",
      "metadata": {
        "id": "PBTbrJXOngz2"
      },
      "source": [
        "### Variables Description"
      ]
    },
    {
      "cell_type": "markdown",
      "source": [
        "![image.png](data:image/png;base64,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)"
      ],
      "metadata": {
        "id": "_ArNHaHO2GEr"
      }
    },
    {
      "cell_type": "markdown",
      "metadata": {
        "id": "u3PMJOP6ngxN"
      },
      "source": [
        "### Check Unique Values for each variable."
      ]
    },
    {
      "cell_type": "code",
      "execution_count": 14,
      "metadata": {
        "id": "zms12Yq5n-jE",
        "colab": {
          "base_uri": "https://localhost:8080/",
          "height": 0
        },
        "outputId": "bcf1da21-2c61-4861-e2d3-5765aae5226b"
      },
      "outputs": [
        {
          "output_type": "execute_result",
          "data": {
            "text/plain": [
              "        Column Name  Unique Value Count\n",
              "0           airline                  82\n",
              "1           overall                  11\n",
              "2            author               44070\n",
              "3       review_date                3016\n",
              "4   customer_review               61173\n",
              "5          aircraft                2089\n",
              "6    traveller_type                   5\n",
              "7             cabin                   5\n",
              "8             route               24550\n",
              "9        date_flown                  64\n",
              "10     seat_comfort                   6\n",
              "11    cabin_service                   6\n",
              "12         food_bev                   6\n",
              "13    entertainment                   6\n",
              "14   ground_service                   6\n",
              "15  value_for_money                   6\n",
              "16      recommended                   3"
            ],
            "text/html": [
              "\n",
              "  <div id=\"df-92c8eaaa-c58b-4e54-b1f9-1df89995f29a\" class=\"colab-df-container\">\n",
              "    <div>\n",
              "<style scoped>\n",
              "    .dataframe tbody tr th:only-of-type {\n",
              "        vertical-align: middle;\n",
              "    }\n",
              "\n",
              "    .dataframe tbody tr th {\n",
              "        vertical-align: top;\n",
              "    }\n",
              "\n",
              "    .dataframe thead th {\n",
              "        text-align: right;\n",
              "    }\n",
              "</style>\n",
              "<table border=\"1\" class=\"dataframe\">\n",
              "  <thead>\n",
              "    <tr style=\"text-align: right;\">\n",
              "      <th></th>\n",
              "      <th>Column Name</th>\n",
              "      <th>Unique Value Count</th>\n",
              "    </tr>\n",
              "  </thead>\n",
              "  <tbody>\n",
              "    <tr>\n",
              "      <th>0</th>\n",
              "      <td>airline</td>\n",
              "      <td>82</td>\n",
              "    </tr>\n",
              "    <tr>\n",
              "      <th>1</th>\n",
              "      <td>overall</td>\n",
              "      <td>11</td>\n",
              "    </tr>\n",
              "    <tr>\n",
              "      <th>2</th>\n",
              "      <td>author</td>\n",
              "      <td>44070</td>\n",
              "    </tr>\n",
              "    <tr>\n",
              "      <th>3</th>\n",
              "      <td>review_date</td>\n",
              "      <td>3016</td>\n",
              "    </tr>\n",
              "    <tr>\n",
              "      <th>4</th>\n",
              "      <td>customer_review</td>\n",
              "      <td>61173</td>\n",
              "    </tr>\n",
              "    <tr>\n",
              "      <th>5</th>\n",
              "      <td>aircraft</td>\n",
              "      <td>2089</td>\n",
              "    </tr>\n",
              "    <tr>\n",
              "      <th>6</th>\n",
              "      <td>traveller_type</td>\n",
              "      <td>5</td>\n",
              "    </tr>\n",
              "    <tr>\n",
              "      <th>7</th>\n",
              "      <td>cabin</td>\n",
              "      <td>5</td>\n",
              "    </tr>\n",
              "    <tr>\n",
              "      <th>8</th>\n",
              "      <td>route</td>\n",
              "      <td>24550</td>\n",
              "    </tr>\n",
              "    <tr>\n",
              "      <th>9</th>\n",
              "      <td>date_flown</td>\n",
              "      <td>64</td>\n",
              "    </tr>\n",
              "    <tr>\n",
              "      <th>10</th>\n",
              "      <td>seat_comfort</td>\n",
              "      <td>6</td>\n",
              "    </tr>\n",
              "    <tr>\n",
              "      <th>11</th>\n",
              "      <td>cabin_service</td>\n",
              "      <td>6</td>\n",
              "    </tr>\n",
              "    <tr>\n",
              "      <th>12</th>\n",
              "      <td>food_bev</td>\n",
              "      <td>6</td>\n",
              "    </tr>\n",
              "    <tr>\n",
              "      <th>13</th>\n",
              "      <td>entertainment</td>\n",
              "      <td>6</td>\n",
              "    </tr>\n",
              "    <tr>\n",
              "      <th>14</th>\n",
              "      <td>ground_service</td>\n",
              "      <td>6</td>\n",
              "    </tr>\n",
              "    <tr>\n",
              "      <th>15</th>\n",
              "      <td>value_for_money</td>\n",
              "      <td>6</td>\n",
              "    </tr>\n",
              "    <tr>\n",
              "      <th>16</th>\n",
              "      <td>recommended</td>\n",
              "      <td>3</td>\n",
              "    </tr>\n",
              "  </tbody>\n",
              "</table>\n",
              "</div>\n",
              "    <div class=\"colab-df-buttons\">\n",
              "\n",
              "  <div class=\"colab-df-container\">\n",
              "    <button class=\"colab-df-convert\" onclick=\"convertToInteractive('df-92c8eaaa-c58b-4e54-b1f9-1df89995f29a')\"\n",
              "            title=\"Convert this dataframe to an interactive table.\"\n",
              "            style=\"display:none;\">\n",
              "\n",
              "  <svg xmlns=\"http://www.w3.org/2000/svg\" height=\"24px\" viewBox=\"0 -960 960 960\">\n",
              "    <path d=\"M120-120v-720h720v720H120Zm60-500h600v-160H180v160Zm220 220h160v-160H400v160Zm0 220h160v-160H400v160ZM180-400h160v-160H180v160Zm440 0h160v-160H620v160ZM180-180h160v-160H180v160Zm440 0h160v-160H620v160Z\"/>\n",
              "  </svg>\n",
              "    </button>\n",
              "\n",
              "  <style>\n",
              "    .colab-df-container {\n",
              "      display:flex;\n",
              "      gap: 12px;\n",
              "    }\n",
              "\n",
              "    .colab-df-convert {\n",
              "      background-color: #E8F0FE;\n",
              "      border: none;\n",
              "      border-radius: 50%;\n",
              "      cursor: pointer;\n",
              "      display: none;\n",
              "      fill: #1967D2;\n",
              "      height: 32px;\n",
              "      padding: 0 0 0 0;\n",
              "      width: 32px;\n",
              "    }\n",
              "\n",
              "    .colab-df-convert:hover {\n",
              "      background-color: #E2EBFA;\n",
              "      box-shadow: 0px 1px 2px rgba(60, 64, 67, 0.3), 0px 1px 3px 1px rgba(60, 64, 67, 0.15);\n",
              "      fill: #174EA6;\n",
              "    }\n",
              "\n",
              "    .colab-df-buttons div {\n",
              "      margin-bottom: 4px;\n",
              "    }\n",
              "\n",
              "    [theme=dark] .colab-df-convert {\n",
              "      background-color: #3B4455;\n",
              "      fill: #D2E3FC;\n",
              "    }\n",
              "\n",
              "    [theme=dark] .colab-df-convert:hover {\n",
              "      background-color: #434B5C;\n",
              "      box-shadow: 0px 1px 3px 1px rgba(0, 0, 0, 0.15);\n",
              "      filter: drop-shadow(0px 1px 2px rgba(0, 0, 0, 0.3));\n",
              "      fill: #FFFFFF;\n",
              "    }\n",
              "  </style>\n",
              "\n",
              "    <script>\n",
              "      const buttonEl =\n",
              "        document.querySelector('#df-92c8eaaa-c58b-4e54-b1f9-1df89995f29a button.colab-df-convert');\n",
              "      buttonEl.style.display =\n",
              "        google.colab.kernel.accessAllowed ? 'block' : 'none';\n",
              "\n",
              "      async function convertToInteractive(key) {\n",
              "        const element = document.querySelector('#df-92c8eaaa-c58b-4e54-b1f9-1df89995f29a');\n",
              "        const dataTable =\n",
              "          await google.colab.kernel.invokeFunction('convertToInteractive',\n",
              "                                                    [key], {});\n",
              "        if (!dataTable) return;\n",
              "\n",
              "        const docLinkHtml = 'Like what you see? Visit the ' +\n",
              "          '<a target=\"_blank\" href=https://colab.research.google.com/notebooks/data_table.ipynb>data table notebook</a>'\n",
              "          + ' to learn more about interactive tables.';\n",
              "        element.innerHTML = '';\n",
              "        dataTable['output_type'] = 'display_data';\n",
              "        await google.colab.output.renderOutput(dataTable, element);\n",
              "        const docLink = document.createElement('div');\n",
              "        docLink.innerHTML = docLinkHtml;\n",
              "        element.appendChild(docLink);\n",
              "      }\n",
              "    </script>\n",
              "  </div>\n",
              "\n",
              "\n",
              "<div id=\"df-da6ee402-34e2-468a-820a-bda9bcf25a87\">\n",
              "  <button class=\"colab-df-quickchart\" onclick=\"quickchart('df-da6ee402-34e2-468a-820a-bda9bcf25a87')\"\n",
              "            title=\"Suggest charts\"\n",
              "            style=\"display:none;\">\n",
              "\n",
              "<svg xmlns=\"http://www.w3.org/2000/svg\" height=\"24px\"viewBox=\"0 0 24 24\"\n",
              "     width=\"24px\">\n",
              "    <g>\n",
              "        <path d=\"M19 3H5c-1.1 0-2 .9-2 2v14c0 1.1.9 2 2 2h14c1.1 0 2-.9 2-2V5c0-1.1-.9-2-2-2zM9 17H7v-7h2v7zm4 0h-2V7h2v10zm4 0h-2v-4h2v4z\"/>\n",
              "    </g>\n",
              "</svg>\n",
              "  </button>\n",
              "\n",
              "<style>\n",
              "  .colab-df-quickchart {\n",
              "      --bg-color: #E8F0FE;\n",
              "      --fill-color: #1967D2;\n",
              "      --hover-bg-color: #E2EBFA;\n",
              "      --hover-fill-color: #174EA6;\n",
              "      --disabled-fill-color: #AAA;\n",
              "      --disabled-bg-color: #DDD;\n",
              "  }\n",
              "\n",
              "  [theme=dark] .colab-df-quickchart {\n",
              "      --bg-color: #3B4455;\n",
              "      --fill-color: #D2E3FC;\n",
              "      --hover-bg-color: #434B5C;\n",
              "      --hover-fill-color: #FFFFFF;\n",
              "      --disabled-bg-color: #3B4455;\n",
              "      --disabled-fill-color: #666;\n",
              "  }\n",
              "\n",
              "  .colab-df-quickchart {\n",
              "    background-color: var(--bg-color);\n",
              "    border: none;\n",
              "    border-radius: 50%;\n",
              "    cursor: pointer;\n",
              "    display: none;\n",
              "    fill: var(--fill-color);\n",
              "    height: 32px;\n",
              "    padding: 0;\n",
              "    width: 32px;\n",
              "  }\n",
              "\n",
              "  .colab-df-quickchart:hover {\n",
              "    background-color: var(--hover-bg-color);\n",
              "    box-shadow: 0 1px 2px rgba(60, 64, 67, 0.3), 0 1px 3px 1px rgba(60, 64, 67, 0.15);\n",
              "    fill: var(--button-hover-fill-color);\n",
              "  }\n",
              "\n",
              "  .colab-df-quickchart-complete:disabled,\n",
              "  .colab-df-quickchart-complete:disabled:hover {\n",
              "    background-color: var(--disabled-bg-color);\n",
              "    fill: var(--disabled-fill-color);\n",
              "    box-shadow: none;\n",
              "  }\n",
              "\n",
              "  .colab-df-spinner {\n",
              "    border: 2px solid var(--fill-color);\n",
              "    border-color: transparent;\n",
              "    border-bottom-color: var(--fill-color);\n",
              "    animation:\n",
              "      spin 1s steps(1) infinite;\n",
              "  }\n",
              "\n",
              "  @keyframes spin {\n",
              "    0% {\n",
              "      border-color: transparent;\n",
              "      border-bottom-color: var(--fill-color);\n",
              "      border-left-color: var(--fill-color);\n",
              "    }\n",
              "    20% {\n",
              "      border-color: transparent;\n",
              "      border-left-color: var(--fill-color);\n",
              "      border-top-color: var(--fill-color);\n",
              "    }\n",
              "    30% {\n",
              "      border-color: transparent;\n",
              "      border-left-color: var(--fill-color);\n",
              "      border-top-color: var(--fill-color);\n",
              "      border-right-color: var(--fill-color);\n",
              "    }\n",
              "    40% {\n",
              "      border-color: transparent;\n",
              "      border-right-color: var(--fill-color);\n",
              "      border-top-color: var(--fill-color);\n",
              "    }\n",
              "    60% {\n",
              "      border-color: transparent;\n",
              "      border-right-color: var(--fill-color);\n",
              "    }\n",
              "    80% {\n",
              "      border-color: transparent;\n",
              "      border-right-color: var(--fill-color);\n",
              "      border-bottom-color: var(--fill-color);\n",
              "    }\n",
              "    90% {\n",
              "      border-color: transparent;\n",
              "      border-bottom-color: var(--fill-color);\n",
              "    }\n",
              "  }\n",
              "</style>\n",
              "\n",
              "  <script>\n",
              "    async function quickchart(key) {\n",
              "      const quickchartButtonEl =\n",
              "        document.querySelector('#' + key + ' button');\n",
              "      quickchartButtonEl.disabled = true;  // To prevent multiple clicks.\n",
              "      quickchartButtonEl.classList.add('colab-df-spinner');\n",
              "      try {\n",
              "        const charts = await google.colab.kernel.invokeFunction(\n",
              "            'suggestCharts', [key], {});\n",
              "      } catch (error) {\n",
              "        console.error('Error during call to suggestCharts:', error);\n",
              "      }\n",
              "      quickchartButtonEl.classList.remove('colab-df-spinner');\n",
              "      quickchartButtonEl.classList.add('colab-df-quickchart-complete');\n",
              "    }\n",
              "    (() => {\n",
              "      let quickchartButtonEl =\n",
              "        document.querySelector('#df-da6ee402-34e2-468a-820a-bda9bcf25a87 button');\n",
              "      quickchartButtonEl.style.display =\n",
              "        google.colab.kernel.accessAllowed ? 'block' : 'none';\n",
              "    })();\n",
              "  </script>\n",
              "</div>\n",
              "\n",
              "    </div>\n",
              "  </div>\n"
            ]
          },
          "metadata": {},
          "execution_count": 14
        }
      ],
      "source": [
        "# Check Unique Values for each variable.\n",
        "lst  = [len(list(df[f'{i}'].unique())) for i in df.columns]\n",
        "pd.DataFrame(zip(df.columns, lst), columns = ['Column Name', \"Unique Value Count\"])"
      ]
    },
    {
      "cell_type": "markdown",
      "metadata": {
        "id": "dauF4eBmngu3"
      },
      "source": [
        "## 3. ***Data Wrangling***"
      ]
    },
    {
      "cell_type": "markdown",
      "metadata": {
        "id": "bKJF3rekwFvQ"
      },
      "source": [
        "### Data Wrangling Code"
      ]
    },
    {
      "cell_type": "code",
      "execution_count": 15,
      "metadata": {
        "id": "wk-9a2fpoLcV",
        "colab": {
          "base_uri": "https://localhost:8080/",
          "height": 0
        },
        "outputId": "54928786-fd16-4559-888d-c5f83cf834b1"
      },
      "outputs": [
        {
          "output_type": "execute_result",
          "data": {
            "text/plain": [
              "            airline  overall               author   review_date  \\\n",
              "0               NaN      NaN                  NaN           NaN   \n",
              "1  Turkish Airlines      7.0  Christopher Hackley  8th May 2019   \n",
              "2  Turkish Airlines      2.0        Adriana Pisoi  7th May 2019   \n",
              "3  Turkish Airlines      3.0            M Galerko  7th May 2019   \n",
              "4  Turkish Airlines     10.0          Zeshan Shah  6th May 2019   \n",
              "\n",
              "                                     customer_review aircraft  traveller_type  \\\n",
              "0                                                NaN      NaN             NaN   \n",
              "1  âœ… Trip Verified | London to Izmir via Istanb...      NaN        Business   \n",
              "2  âœ… Trip Verified | Istanbul to Bucharest. We ...      NaN  Family Leisure   \n",
              "3  âœ… Trip Verified | Rome to Prishtina via Ista...      NaN        Business   \n",
              "4  âœ… Trip Verified | Flew on Turkish Airlines I...     A330    Solo Leisure   \n",
              "\n",
              "           cabin                           route           date_flown  \\\n",
              "0            NaN                             NaN                  NaN   \n",
              "1  Economy Class    London to Izmir via Istanbul  2019-05-01 00:00:00   \n",
              "2  Economy Class           Istanbul to Bucharest  2019-05-01 00:00:00   \n",
              "3  Economy Class  Rome to Prishtina via Istanbul  2019-05-01 00:00:00   \n",
              "4  Economy Class    Washington Dulles to Karachi           April 2019   \n",
              "\n",
              "   seat_comfort  cabin_service  food_bev  entertainment  ground_service  \\\n",
              "0           NaN            NaN       NaN            NaN             NaN   \n",
              "1           4.0            5.0       4.0            4.0             2.0   \n",
              "2           4.0            1.0       1.0            1.0             1.0   \n",
              "3           1.0            4.0       1.0            3.0             1.0   \n",
              "4           4.0            5.0       5.0            5.0             5.0   \n",
              "\n",
              "   value_for_money recommended  \n",
              "0              NaN         NaN  \n",
              "1              4.0         yes  \n",
              "2              1.0          no  \n",
              "3              2.0          no  \n",
              "4              5.0         yes  "
            ],
            "text/html": [
              "\n",
              "  <div id=\"df-9c25a549-2f70-4d58-b891-54d379c30ecb\" class=\"colab-df-container\">\n",
              "    <div>\n",
              "<style scoped>\n",
              "    .dataframe tbody tr th:only-of-type {\n",
              "        vertical-align: middle;\n",
              "    }\n",
              "\n",
              "    .dataframe tbody tr th {\n",
              "        vertical-align: top;\n",
              "    }\n",
              "\n",
              "    .dataframe thead th {\n",
              "        text-align: right;\n",
              "    }\n",
              "</style>\n",
              "<table border=\"1\" class=\"dataframe\">\n",
              "  <thead>\n",
              "    <tr style=\"text-align: right;\">\n",
              "      <th></th>\n",
              "      <th>airline</th>\n",
              "      <th>overall</th>\n",
              "      <th>author</th>\n",
              "      <th>review_date</th>\n",
              "      <th>customer_review</th>\n",
              "      <th>aircraft</th>\n",
              "      <th>traveller_type</th>\n",
              "      <th>cabin</th>\n",
              "      <th>route</th>\n",
              "      <th>date_flown</th>\n",
              "      <th>seat_comfort</th>\n",
              "      <th>cabin_service</th>\n",
              "      <th>food_bev</th>\n",
              "      <th>entertainment</th>\n",
              "      <th>ground_service</th>\n",
              "      <th>value_for_money</th>\n",
              "      <th>recommended</th>\n",
              "    </tr>\n",
              "  </thead>\n",
              "  <tbody>\n",
              "    <tr>\n",
              "      <th>0</th>\n",
              "      <td>NaN</td>\n",
              "      <td>NaN</td>\n",
              "      <td>NaN</td>\n",
              "      <td>NaN</td>\n",
              "      <td>NaN</td>\n",
              "      <td>NaN</td>\n",
              "      <td>NaN</td>\n",
              "      <td>NaN</td>\n",
              "      <td>NaN</td>\n",
              "      <td>NaN</td>\n",
              "      <td>NaN</td>\n",
              "      <td>NaN</td>\n",
              "      <td>NaN</td>\n",
              "      <td>NaN</td>\n",
              "      <td>NaN</td>\n",
              "      <td>NaN</td>\n",
              "      <td>NaN</td>\n",
              "    </tr>\n",
              "    <tr>\n",
              "      <th>1</th>\n",
              "      <td>Turkish Airlines</td>\n",
              "      <td>7.0</td>\n",
              "      <td>Christopher Hackley</td>\n",
              "      <td>8th May 2019</td>\n",
              "      <td>âœ… Trip Verified | London to Izmir via Istanb...</td>\n",
              "      <td>NaN</td>\n",
              "      <td>Business</td>\n",
              "      <td>Economy Class</td>\n",
              "      <td>London to Izmir via Istanbul</td>\n",
              "      <td>2019-05-01 00:00:00</td>\n",
              "      <td>4.0</td>\n",
              "      <td>5.0</td>\n",
              "      <td>4.0</td>\n",
              "      <td>4.0</td>\n",
              "      <td>2.0</td>\n",
              "      <td>4.0</td>\n",
              "      <td>yes</td>\n",
              "    </tr>\n",
              "    <tr>\n",
              "      <th>2</th>\n",
              "      <td>Turkish Airlines</td>\n",
              "      <td>2.0</td>\n",
              "      <td>Adriana Pisoi</td>\n",
              "      <td>7th May 2019</td>\n",
              "      <td>âœ… Trip Verified | Istanbul to Bucharest. We ...</td>\n",
              "      <td>NaN</td>\n",
              "      <td>Family Leisure</td>\n",
              "      <td>Economy Class</td>\n",
              "      <td>Istanbul to Bucharest</td>\n",
              "      <td>2019-05-01 00:00:00</td>\n",
              "      <td>4.0</td>\n",
              "      <td>1.0</td>\n",
              "      <td>1.0</td>\n",
              "      <td>1.0</td>\n",
              "      <td>1.0</td>\n",
              "      <td>1.0</td>\n",
              "      <td>no</td>\n",
              "    </tr>\n",
              "    <tr>\n",
              "      <th>3</th>\n",
              "      <td>Turkish Airlines</td>\n",
              "      <td>3.0</td>\n",
              "      <td>M Galerko</td>\n",
              "      <td>7th May 2019</td>\n",
              "      <td>âœ… Trip Verified | Rome to Prishtina via Ista...</td>\n",
              "      <td>NaN</td>\n",
              "      <td>Business</td>\n",
              "      <td>Economy Class</td>\n",
              "      <td>Rome to Prishtina via Istanbul</td>\n",
              "      <td>2019-05-01 00:00:00</td>\n",
              "      <td>1.0</td>\n",
              "      <td>4.0</td>\n",
              "      <td>1.0</td>\n",
              "      <td>3.0</td>\n",
              "      <td>1.0</td>\n",
              "      <td>2.0</td>\n",
              "      <td>no</td>\n",
              "    </tr>\n",
              "    <tr>\n",
              "      <th>4</th>\n",
              "      <td>Turkish Airlines</td>\n",
              "      <td>10.0</td>\n",
              "      <td>Zeshan Shah</td>\n",
              "      <td>6th May 2019</td>\n",
              "      <td>âœ… Trip Verified | Flew on Turkish Airlines I...</td>\n",
              "      <td>A330</td>\n",
              "      <td>Solo Leisure</td>\n",
              "      <td>Economy Class</td>\n",
              "      <td>Washington Dulles to Karachi</td>\n",
              "      <td>April 2019</td>\n",
              "      <td>4.0</td>\n",
              "      <td>5.0</td>\n",
              "      <td>5.0</td>\n",
              "      <td>5.0</td>\n",
              "      <td>5.0</td>\n",
              "      <td>5.0</td>\n",
              "      <td>yes</td>\n",
              "    </tr>\n",
              "  </tbody>\n",
              "</table>\n",
              "</div>\n",
              "    <div class=\"colab-df-buttons\">\n",
              "\n",
              "  <div class=\"colab-df-container\">\n",
              "    <button class=\"colab-df-convert\" onclick=\"convertToInteractive('df-9c25a549-2f70-4d58-b891-54d379c30ecb')\"\n",
              "            title=\"Convert this dataframe to an interactive table.\"\n",
              "            style=\"display:none;\">\n",
              "\n",
              "  <svg xmlns=\"http://www.w3.org/2000/svg\" height=\"24px\" viewBox=\"0 -960 960 960\">\n",
              "    <path d=\"M120-120v-720h720v720H120Zm60-500h600v-160H180v160Zm220 220h160v-160H400v160Zm0 220h160v-160H400v160ZM180-400h160v-160H180v160Zm440 0h160v-160H620v160ZM180-180h160v-160H180v160Zm440 0h160v-160H620v160Z\"/>\n",
              "  </svg>\n",
              "    </button>\n",
              "\n",
              "  <style>\n",
              "    .colab-df-container {\n",
              "      display:flex;\n",
              "      gap: 12px;\n",
              "    }\n",
              "\n",
              "    .colab-df-convert {\n",
              "      background-color: #E8F0FE;\n",
              "      border: none;\n",
              "      border-radius: 50%;\n",
              "      cursor: pointer;\n",
              "      display: none;\n",
              "      fill: #1967D2;\n",
              "      height: 32px;\n",
              "      padding: 0 0 0 0;\n",
              "      width: 32px;\n",
              "    }\n",
              "\n",
              "    .colab-df-convert:hover {\n",
              "      background-color: #E2EBFA;\n",
              "      box-shadow: 0px 1px 2px rgba(60, 64, 67, 0.3), 0px 1px 3px 1px rgba(60, 64, 67, 0.15);\n",
              "      fill: #174EA6;\n",
              "    }\n",
              "\n",
              "    .colab-df-buttons div {\n",
              "      margin-bottom: 4px;\n",
              "    }\n",
              "\n",
              "    [theme=dark] .colab-df-convert {\n",
              "      background-color: #3B4455;\n",
              "      fill: #D2E3FC;\n",
              "    }\n",
              "\n",
              "    [theme=dark] .colab-df-convert:hover {\n",
              "      background-color: #434B5C;\n",
              "      box-shadow: 0px 1px 3px 1px rgba(0, 0, 0, 0.15);\n",
              "      filter: drop-shadow(0px 1px 2px rgba(0, 0, 0, 0.3));\n",
              "      fill: #FFFFFF;\n",
              "    }\n",
              "  </style>\n",
              "\n",
              "    <script>\n",
              "      const buttonEl =\n",
              "        document.querySelector('#df-9c25a549-2f70-4d58-b891-54d379c30ecb button.colab-df-convert');\n",
              "      buttonEl.style.display =\n",
              "        google.colab.kernel.accessAllowed ? 'block' : 'none';\n",
              "\n",
              "      async function convertToInteractive(key) {\n",
              "        const element = document.querySelector('#df-9c25a549-2f70-4d58-b891-54d379c30ecb');\n",
              "        const dataTable =\n",
              "          await google.colab.kernel.invokeFunction('convertToInteractive',\n",
              "                                                    [key], {});\n",
              "        if (!dataTable) return;\n",
              "\n",
              "        const docLinkHtml = 'Like what you see? Visit the ' +\n",
              "          '<a target=\"_blank\" href=https://colab.research.google.com/notebooks/data_table.ipynb>data table notebook</a>'\n",
              "          + ' to learn more about interactive tables.';\n",
              "        element.innerHTML = '';\n",
              "        dataTable['output_type'] = 'display_data';\n",
              "        await google.colab.output.renderOutput(dataTable, element);\n",
              "        const docLink = document.createElement('div');\n",
              "        docLink.innerHTML = docLinkHtml;\n",
              "        element.appendChild(docLink);\n",
              "      }\n",
              "    </script>\n",
              "  </div>\n",
              "\n",
              "\n",
              "<div id=\"df-a6f99554-69e3-4190-add7-f0ff1388b0e1\">\n",
              "  <button class=\"colab-df-quickchart\" onclick=\"quickchart('df-a6f99554-69e3-4190-add7-f0ff1388b0e1')\"\n",
              "            title=\"Suggest charts\"\n",
              "            style=\"display:none;\">\n",
              "\n",
              "<svg xmlns=\"http://www.w3.org/2000/svg\" height=\"24px\"viewBox=\"0 0 24 24\"\n",
              "     width=\"24px\">\n",
              "    <g>\n",
              "        <path d=\"M19 3H5c-1.1 0-2 .9-2 2v14c0 1.1.9 2 2 2h14c1.1 0 2-.9 2-2V5c0-1.1-.9-2-2-2zM9 17H7v-7h2v7zm4 0h-2V7h2v10zm4 0h-2v-4h2v4z\"/>\n",
              "    </g>\n",
              "</svg>\n",
              "  </button>\n",
              "\n",
              "<style>\n",
              "  .colab-df-quickchart {\n",
              "      --bg-color: #E8F0FE;\n",
              "      --fill-color: #1967D2;\n",
              "      --hover-bg-color: #E2EBFA;\n",
              "      --hover-fill-color: #174EA6;\n",
              "      --disabled-fill-color: #AAA;\n",
              "      --disabled-bg-color: #DDD;\n",
              "  }\n",
              "\n",
              "  [theme=dark] .colab-df-quickchart {\n",
              "      --bg-color: #3B4455;\n",
              "      --fill-color: #D2E3FC;\n",
              "      --hover-bg-color: #434B5C;\n",
              "      --hover-fill-color: #FFFFFF;\n",
              "      --disabled-bg-color: #3B4455;\n",
              "      --disabled-fill-color: #666;\n",
              "  }\n",
              "\n",
              "  .colab-df-quickchart {\n",
              "    background-color: var(--bg-color);\n",
              "    border: none;\n",
              "    border-radius: 50%;\n",
              "    cursor: pointer;\n",
              "    display: none;\n",
              "    fill: var(--fill-color);\n",
              "    height: 32px;\n",
              "    padding: 0;\n",
              "    width: 32px;\n",
              "  }\n",
              "\n",
              "  .colab-df-quickchart:hover {\n",
              "    background-color: var(--hover-bg-color);\n",
              "    box-shadow: 0 1px 2px rgba(60, 64, 67, 0.3), 0 1px 3px 1px rgba(60, 64, 67, 0.15);\n",
              "    fill: var(--button-hover-fill-color);\n",
              "  }\n",
              "\n",
              "  .colab-df-quickchart-complete:disabled,\n",
              "  .colab-df-quickchart-complete:disabled:hover {\n",
              "    background-color: var(--disabled-bg-color);\n",
              "    fill: var(--disabled-fill-color);\n",
              "    box-shadow: none;\n",
              "  }\n",
              "\n",
              "  .colab-df-spinner {\n",
              "    border: 2px solid var(--fill-color);\n",
              "    border-color: transparent;\n",
              "    border-bottom-color: var(--fill-color);\n",
              "    animation:\n",
              "      spin 1s steps(1) infinite;\n",
              "  }\n",
              "\n",
              "  @keyframes spin {\n",
              "    0% {\n",
              "      border-color: transparent;\n",
              "      border-bottom-color: var(--fill-color);\n",
              "      border-left-color: var(--fill-color);\n",
              "    }\n",
              "    20% {\n",
              "      border-color: transparent;\n",
              "      border-left-color: var(--fill-color);\n",
              "      border-top-color: var(--fill-color);\n",
              "    }\n",
              "    30% {\n",
              "      border-color: transparent;\n",
              "      border-left-color: var(--fill-color);\n",
              "      border-top-color: var(--fill-color);\n",
              "      border-right-color: var(--fill-color);\n",
              "    }\n",
              "    40% {\n",
              "      border-color: transparent;\n",
              "      border-right-color: var(--fill-color);\n",
              "      border-top-color: var(--fill-color);\n",
              "    }\n",
              "    60% {\n",
              "      border-color: transparent;\n",
              "      border-right-color: var(--fill-color);\n",
              "    }\n",
              "    80% {\n",
              "      border-color: transparent;\n",
              "      border-right-color: var(--fill-color);\n",
              "      border-bottom-color: var(--fill-color);\n",
              "    }\n",
              "    90% {\n",
              "      border-color: transparent;\n",
              "      border-bottom-color: var(--fill-color);\n",
              "    }\n",
              "  }\n",
              "</style>\n",
              "\n",
              "  <script>\n",
              "    async function quickchart(key) {\n",
              "      const quickchartButtonEl =\n",
              "        document.querySelector('#' + key + ' button');\n",
              "      quickchartButtonEl.disabled = true;  // To prevent multiple clicks.\n",
              "      quickchartButtonEl.classList.add('colab-df-spinner');\n",
              "      try {\n",
              "        const charts = await google.colab.kernel.invokeFunction(\n",
              "            'suggestCharts', [key], {});\n",
              "      } catch (error) {\n",
              "        console.error('Error during call to suggestCharts:', error);\n",
              "      }\n",
              "      quickchartButtonEl.classList.remove('colab-df-spinner');\n",
              "      quickchartButtonEl.classList.add('colab-df-quickchart-complete');\n",
              "    }\n",
              "    (() => {\n",
              "      let quickchartButtonEl =\n",
              "        document.querySelector('#df-a6f99554-69e3-4190-add7-f0ff1388b0e1 button');\n",
              "      quickchartButtonEl.style.display =\n",
              "        google.colab.kernel.accessAllowed ? 'block' : 'none';\n",
              "    })();\n",
              "  </script>\n",
              "</div>\n",
              "\n",
              "    </div>\n",
              "  </div>\n"
            ]
          },
          "metadata": {},
          "execution_count": 15
        }
      ],
      "source": [
        "# Write your code to make your dataset analysis ready.\n",
        "df.head()"
      ]
    },
    {
      "cell_type": "code",
      "source": [
        "# dropping first row since all the values are null in it\n",
        "df.drop(df[:1].index, axis = 0, inplace = True)\n"
      ],
      "metadata": {
        "id": "UWmrC1PqH5Qs"
      },
      "execution_count": 16,
      "outputs": []
    },
    {
      "cell_type": "code",
      "source": [
        "df.review_date = pd.to_datetime(df.review_date)\n",
        "pd.date_flown = pd.to_datetime(df.date_flown).describe()\n",
        "\n",
        "df.review_date.describe()"
      ],
      "metadata": {
        "colab": {
          "base_uri": "https://localhost:8080/"
        },
        "id": "Qh8vSA9-9ofX",
        "outputId": "c4c486cd-b4ab-4b06-80b0-00ae49038385"
      },
      "execution_count": 17,
      "outputs": [
        {
          "output_type": "execute_result",
          "data": {
            "text/plain": [
              "count                   61183\n",
              "unique                   3015\n",
              "top       2015-01-19 00:00:00\n",
              "freq                      198\n",
              "first     2002-08-25 00:00:00\n",
              "last      2019-06-29 00:00:00\n",
              "Name: review_date, dtype: object"
            ]
          },
          "metadata": {},
          "execution_count": 17
        }
      ]
    },
    {
      "cell_type": "code",
      "source": [
        "# The given data must from 2016 to 2019, anything outside this time zone is an impure data.\n",
        "print(df[df.review_date < pd.to_datetime('2006-01-1 00:00:00')].shape)\n",
        "\n",
        "df.drop(df[df.review_date < pd.to_datetime('2006-01-1 00:00:00')].index, axis = 0, inplace = True)\n",
        "df.reset_index(inplace = True)\n",
        "df.drop('index', axis = 1, inplace = True)"
      ],
      "metadata": {
        "colab": {
          "base_uri": "https://localhost:8080/"
        },
        "id": "WAEX4dMJ5bzD",
        "outputId": "113e3bab-0f59-4330-fb4a-493199cacf65"
      },
      "execution_count": 18,
      "outputs": [
        {
          "output_type": "stream",
          "name": "stdout",
          "text": [
            "(21, 17)\n"
          ]
        }
      ]
    },
    {
      "cell_type": "code",
      "source": [
        "# dropping the aircraft feature since 70% of its data are null values\n",
        "df.drop('aircraft', axis = 1, inplace = True)"
      ],
      "metadata": {
        "id": "5pUtczD39sGn"
      },
      "execution_count": 19,
      "outputs": []
    },
    {
      "cell_type": "code",
      "source": [
        "# Dropping route and author features since the are irrelevent.\n",
        "df.drop(['author', 'route'], axis = 1, inplace = True)"
      ],
      "metadata": {
        "id": "cIEb2LDvAs3E"
      },
      "execution_count": 20,
      "outputs": []
    },
    {
      "cell_type": "markdown",
      "metadata": {
        "id": "MSa1f5Uengrz"
      },
      "source": [
        "### What all manipulations have you done and insights you found?"
      ]
    },
    {
      "cell_type": "markdown",
      "metadata": {
        "id": "LbyXE7I1olp8"
      },
      "source": [
        "\n",
        "1.   Dropping dates that does not belong from the given timeline.\n",
        "2.   Dropping aircraft since 70% of its data is missing.\n",
        "3.   Dropping route and author features since the are irrelevent.\n",
        "\n"
      ]
    },
    {
      "cell_type": "markdown",
      "metadata": {
        "id": "GF8Ens_Soomf"
      },
      "source": [
        "## ***4. Data Vizualization, Storytelling & Experimenting with charts : Understand the relationships between variables***"
      ]
    },
    {
      "cell_type": "code",
      "source": [
        "plt.rcParams['figure.figsize'] = [15,5]"
      ],
      "metadata": {
        "id": "Lp1CWCBAEt9f"
      },
      "execution_count": 25,
      "outputs": []
    },
    {
      "cell_type": "markdown",
      "metadata": {
        "id": "0wOQAZs5pc--"
      },
      "source": [
        "#### Chart - 1"
      ]
    },
    {
      "cell_type": "code",
      "execution_count": null,
      "metadata": {
        "id": "7v_ESjsspbW7",
        "colab": {
          "base_uri": "https://localhost:8080/",
          "height": 487
        },
        "outputId": "d5319660-b8bf-4f45-9575-1b735afac968"
      },
      "outputs": [
        {
          "output_type": "display_data",
          "data": {
            "text/plain": [
              "<Figure size 1500x500 with 1 Axes>"
            ],
            "image/png": "[encoded data removed]"
          },
          "metadata": {}
        }
      ],
      "source": [
        "# Chart - 1 visualization code\n",
        "\n",
        "sns.countplot(x = df.overall, hue = df.recommended)\n",
        "\n",
        "plt.title('Overall Rating Distr.')\n",
        "plt.xlabel('Overall Rating')\n",
        "plt.ylabel('Count')\n",
        "plt.show()"
      ]
    },
    {
      "cell_type": "markdown",
      "metadata": {
        "id": "C_j1G7yiqdRP"
      },
      "source": [
        "\n",
        "\n",
        "- The above bar chart proves the most obvious point that the people how who give less rating are more likely to not recommend the airline.\n",
        "\n"
      ]
    },
    {
      "cell_type": "markdown",
      "metadata": {
        "id": "KSlN3yHqYklG"
      },
      "source": [
        "#### Chart - 2"
      ]
    },
    {
      "cell_type": "code",
      "source": [
        "temp = df.groupby('traveller_type')['seat_comfort',\t'cabin_service',\t'food_bev',\t'entertainment',\t'ground_service',\t'value_for_money'].mean()"
      ],
      "metadata": {
        "id": "E8UurDxnHkBH"
      },
      "execution_count": null,
      "outputs": []
    },
    {
      "cell_type": "code",
      "source": [
        "temp"
      ],
      "metadata": {
        "colab": {
          "base_uri": "https://localhost:8080/",
          "height": 206
        },
        "id": "PM8dYiwAKDRa",
        "outputId": "890b2c33-2709-4442-e355-059c0a19016c"
      },
      "execution_count": null,
      "outputs": [
        {
          "output_type": "execute_result",
          "data": {
            "text/plain": [
              "                seat_comfort  cabin_service  food_bev  entertainment  \\\n",
              "traveller_type                                                         \n",
              "Business            2.815212       3.058761  2.740353       2.750625   \n",
              "Couple Leisure      2.672804       2.963430  2.697708       2.782134   \n",
              "Family Leisure      2.713915       2.960728  2.726238       2.814699   \n",
              "Solo Leisure        3.001255       3.275181  3.028380       3.013535   \n",
              "\n",
              "                ground_service  value_for_money  \n",
              "traveller_type                                   \n",
              "Business              2.617735         2.625407  \n",
              "Couple Leisure        2.559405         2.655222  \n",
              "Family Leisure        2.554802         2.640997  \n",
              "Solo Leisure          2.862550         2.972007  "
            ],
            "text/html": [
              "\n",
              "  <div id=\"df-54edcfd2-b622-436a-aee2-6af29bd376b6\" class=\"colab-df-container\">\n",
              "    <div>\n",
              "<style scoped>\n",
              "    .dataframe tbody tr th:only-of-type {\n",
              "        vertical-align: middle;\n",
              "    }\n",
              "\n",
              "    .dataframe tbody tr th {\n",
              "        vertical-align: top;\n",
              "    }\n",
              "\n",
              "    .dataframe thead th {\n",
              "        text-align: right;\n",
              "    }\n",
              "</style>\n",
              "<table border=\"1\" class=\"dataframe\">\n",
              "  <thead>\n",
              "    <tr style=\"text-align: right;\">\n",
              "      <th></th>\n",
              "      <th>seat_comfort</th>\n",
              "      <th>cabin_service</th>\n",
              "      <th>food_bev</th>\n",
              "      <th>entertainment</th>\n",
              "      <th>ground_service</th>\n",
              "      <th>value_for_money</th>\n",
              "    </tr>\n",
              "    <tr>\n",
              "      <th>traveller_type</th>\n",
              "      <th></th>\n",
              "      <th></th>\n",
              "      <th></th>\n",
              "      <th></th>\n",
              "      <th></th>\n",
              "      <th></th>\n",
              "    </tr>\n",
              "  </thead>\n",
              "  <tbody>\n",
              "    <tr>\n",
              "      <th>Business</th>\n",
              "      <td>2.815212</td>\n",
              "      <td>3.058761</td>\n",
              "      <td>2.740353</td>\n",
              "      <td>2.750625</td>\n",
              "      <td>2.617735</td>\n",
              "      <td>2.625407</td>\n",
              "    </tr>\n",
              "    <tr>\n",
              "      <th>Couple Leisure</th>\n",
              "      <td>2.672804</td>\n",
              "      <td>2.963430</td>\n",
              "      <td>2.697708</td>\n",
              "      <td>2.782134</td>\n",
              "      <td>2.559405</td>\n",
              "      <td>2.655222</td>\n",
              "    </tr>\n",
              "    <tr>\n",
              "      <th>Family Leisure</th>\n",
              "      <td>2.713915</td>\n",
              "      <td>2.960728</td>\n",
              "      <td>2.726238</td>\n",
              "      <td>2.814699</td>\n",
              "      <td>2.554802</td>\n",
              "      <td>2.640997</td>\n",
              "    </tr>\n",
              "    <tr>\n",
              "      <th>Solo Leisure</th>\n",
              "      <td>3.001255</td>\n",
              "      <td>3.275181</td>\n",
              "      <td>3.028380</td>\n",
              "      <td>3.013535</td>\n",
              "      <td>2.862550</td>\n",
              "      <td>2.972007</td>\n",
              "    </tr>\n",
              "  </tbody>\n",
              "</table>\n",
              "</div>\n",
              "    <div class=\"colab-df-buttons\">\n",
              "\n",
              "  <div class=\"colab-df-container\">\n",
              "    <button class=\"colab-df-convert\" onclick=\"convertToInteractive('df-54edcfd2-b622-436a-aee2-6af29bd376b6')\"\n",
              "            title=\"Convert this dataframe to an interactive table.\"\n",
              "            style=\"display:none;\">\n",
              "\n",
              "  <svg xmlns=\"http://www.w3.org/2000/svg\" height=\"24px\" viewBox=\"0 -960 960 960\">\n",
              "    <path d=\"M120-120v-720h720v720H120Zm60-500h600v-160H180v160Zm220 220h160v-160H400v160Zm0 220h160v-160H400v160ZM180-400h160v-160H180v160Zm440 0h160v-160H620v160ZM180-180h160v-160H180v160Zm440 0h160v-160H620v160Z\"/>\n",
              "  </svg>\n",
              "    </button>\n",
              "\n",
              "  <style>\n",
              "    .colab-df-container {\n",
              "      display:flex;\n",
              "      gap: 12px;\n",
              "    }\n",
              "\n",
              "    .colab-df-convert {\n",
              "      background-color: #E8F0FE;\n",
              "      border: none;\n",
              "      border-radius: 50%;\n",
              "      cursor: pointer;\n",
              "      display: none;\n",
              "      fill: #1967D2;\n",
              "      height: 32px;\n",
              "      padding: 0 0 0 0;\n",
              "      width: 32px;\n",
              "    }\n",
              "\n",
              "    .colab-df-convert:hover {\n",
              "      background-color: #E2EBFA;\n",
              "      box-shadow: 0px 1px 2px rgba(60, 64, 67, 0.3), 0px 1px 3px 1px rgba(60, 64, 67, 0.15);\n",
              "      fill: #174EA6;\n",
              "    }\n",
              "\n",
              "    .colab-df-buttons div {\n",
              "      margin-bottom: 4px;\n",
              "    }\n",
              "\n",
              "    [theme=dark] .colab-df-convert {\n",
              "      background-color: #3B4455;\n",
              "      fill: #D2E3FC;\n",
              "    }\n",
              "\n",
              "    [theme=dark] .colab-df-convert:hover {\n",
              "      background-color: #434B5C;\n",
              "      box-shadow: 0px 1px 3px 1px rgba(0, 0, 0, 0.15);\n",
              "      filter: drop-shadow(0px 1px 2px rgba(0, 0, 0, 0.3));\n",
              "      fill: #FFFFFF;\n",
              "    }\n",
              "  </style>\n",
              "\n",
              "    <script>\n",
              "      const buttonEl =\n",
              "        document.querySelector('#df-54edcfd2-b622-436a-aee2-6af29bd376b6 button.colab-df-convert');\n",
              "      buttonEl.style.display =\n",
              "        google.colab.kernel.accessAllowed ? 'block' : 'none';\n",
              "\n",
              "      async function convertToInteractive(key) {\n",
              "        const element = document.querySelector('#df-54edcfd2-b622-436a-aee2-6af29bd376b6');\n",
              "        const dataTable =\n",
              "          await google.colab.kernel.invokeFunction('convertToInteractive',\n",
              "                                                    [key], {});\n",
              "        if (!dataTable) return;\n",
              "\n",
              "        const docLinkHtml = 'Like what you see? Visit the ' +\n",
              "          '<a target=\"_blank\" href=https://colab.research.google.com/notebooks/data_table.ipynb>data table notebook</a>'\n",
              "          + ' to learn more about interactive tables.';\n",
              "        element.innerHTML = '';\n",
              "        dataTable['output_type'] = 'display_data';\n",
              "        await google.colab.output.renderOutput(dataTable, element);\n",
              "        const docLink = document.createElement('div');\n",
              "        docLink.innerHTML = docLinkHtml;\n",
              "        element.appendChild(docLink);\n",
              "      }\n",
              "    </script>\n",
              "  </div>\n",
              "\n",
              "\n",
              "<div id=\"df-1d55d9dc-821f-4617-b3a9-e6c8b6e6ae36\">\n",
              "  <button class=\"colab-df-quickchart\" onclick=\"quickchart('df-1d55d9dc-821f-4617-b3a9-e6c8b6e6ae36')\"\n",
              "            title=\"Suggest charts\"\n",
              "            style=\"display:none;\">\n",
              "\n",
              "<svg xmlns=\"http://www.w3.org/2000/svg\" height=\"24px\"viewBox=\"0 0 24 24\"\n",
              "     width=\"24px\">\n",
              "    <g>\n",
              "        <path d=\"M19 3H5c-1.1 0-2 .9-2 2v14c0 1.1.9 2 2 2h14c1.1 0 2-.9 2-2V5c0-1.1-.9-2-2-2zM9 17H7v-7h2v7zm4 0h-2V7h2v10zm4 0h-2v-4h2v4z\"/>\n",
              "    </g>\n",
              "</svg>\n",
              "  </button>\n",
              "\n",
              "<style>\n",
              "  .colab-df-quickchart {\n",
              "      --bg-color: #E8F0FE;\n",
              "      --fill-color: #1967D2;\n",
              "      --hover-bg-color: #E2EBFA;\n",
              "      --hover-fill-color: #174EA6;\n",
              "      --disabled-fill-color: #AAA;\n",
              "      --disabled-bg-color: #DDD;\n",
              "  }\n",
              "\n",
              "  [theme=dark] .colab-df-quickchart {\n",
              "      --bg-color: #3B4455;\n",
              "      --fill-color: #D2E3FC;\n",
              "      --hover-bg-color: #434B5C;\n",
              "      --hover-fill-color: #FFFFFF;\n",
              "      --disabled-bg-color: #3B4455;\n",
              "      --disabled-fill-color: #666;\n",
              "  }\n",
              "\n",
              "  .colab-df-quickchart {\n",
              "    background-color: var(--bg-color);\n",
              "    border: none;\n",
              "    border-radius: 50%;\n",
              "    cursor: pointer;\n",
              "    display: none;\n",
              "    fill: var(--fill-color);\n",
              "    height: 32px;\n",
              "    padding: 0;\n",
              "    width: 32px;\n",
              "  }\n",
              "\n",
              "  .colab-df-quickchart:hover {\n",
              "    background-color: var(--hover-bg-color);\n",
              "    box-shadow: 0 1px 2px rgba(60, 64, 67, 0.3), 0 1px 3px 1px rgba(60, 64, 67, 0.15);\n",
              "    fill: var(--button-hover-fill-color);\n",
              "  }\n",
              "\n",
              "  .colab-df-quickchart-complete:disabled,\n",
              "  .colab-df-quickchart-complete:disabled:hover {\n",
              "    background-color: var(--disabled-bg-color);\n",
              "    fill: var(--disabled-fill-color);\n",
              "    box-shadow: none;\n",
              "  }\n",
              "\n",
              "  .colab-df-spinner {\n",
              "    border: 2px solid var(--fill-color);\n",
              "    border-color: transparent;\n",
              "    border-bottom-color: var(--fill-color);\n",
              "    animation:\n",
              "      spin 1s steps(1) infinite;\n",
              "  }\n",
              "\n",
              "  @keyframes spin {\n",
              "    0% {\n",
              "      border-color: transparent;\n",
              "      border-bottom-color: var(--fill-color);\n",
              "      border-left-color: var(--fill-color);\n",
              "    }\n",
              "    20% {\n",
              "      border-color: transparent;\n",
              "      border-left-color: var(--fill-color);\n",
              "      border-top-color: var(--fill-color);\n",
              "    }\n",
              "    30% {\n",
              "      border-color: transparent;\n",
              "      border-left-color: var(--fill-color);\n",
              "      border-top-color: var(--fill-color);\n",
              "      border-right-color: var(--fill-color);\n",
              "    }\n",
              "    40% {\n",
              "      border-color: transparent;\n",
              "      border-right-color: var(--fill-color);\n",
              "      border-top-color: var(--fill-color);\n",
              "    }\n",
              "    60% {\n",
              "      border-color: transparent;\n",
              "      border-right-color: var(--fill-color);\n",
              "    }\n",
              "    80% {\n",
              "      border-color: transparent;\n",
              "      border-right-color: var(--fill-color);\n",
              "      border-bottom-color: var(--fill-color);\n",
              "    }\n",
              "    90% {\n",
              "      border-color: transparent;\n",
              "      border-bottom-color: var(--fill-color);\n",
              "    }\n",
              "  }\n",
              "</style>\n",
              "\n",
              "  <script>\n",
              "    async function quickchart(key) {\n",
              "      const quickchartButtonEl =\n",
              "        document.querySelector('#' + key + ' button');\n",
              "      quickchartButtonEl.disabled = true;  // To prevent multiple clicks.\n",
              "      quickchartButtonEl.classList.add('colab-df-spinner');\n",
              "      try {\n",
              "        const charts = await google.colab.kernel.invokeFunction(\n",
              "            'suggestCharts', [key], {});\n",
              "      } catch (error) {\n",
              "        console.error('Error during call to suggestCharts:', error);\n",
              "      }\n",
              "      quickchartButtonEl.classList.remove('colab-df-spinner');\n",
              "      quickchartButtonEl.classList.add('colab-df-quickchart-complete');\n",
              "    }\n",
              "    (() => {\n",
              "      let quickchartButtonEl =\n",
              "        document.querySelector('#df-1d55d9dc-821f-4617-b3a9-e6c8b6e6ae36 button');\n",
              "      quickchartButtonEl.style.display =\n",
              "        google.colab.kernel.accessAllowed ? 'block' : 'none';\n",
              "    })();\n",
              "  </script>\n",
              "</div>\n",
              "\n",
              "  <div id=\"id_d3204989-9fc9-415d-bac0-78094662876e\">\n",
              "    <style>\n",
              "      .colab-df-generate {\n",
              "        background-color: #E8F0FE;\n",
              "        border: none;\n",
              "        border-radius: 50%;\n",
              "        cursor: pointer;\n",
              "        display: none;\n",
              "        fill: #1967D2;\n",
              "        height: 32px;\n",
              "        padding: 0 0 0 0;\n",
              "        width: 32px;\n",
              "      }\n",
              "\n",
              "      .colab-df-generate:hover {\n",
              "        background-color: #E2EBFA;\n",
              "        box-shadow: 0px 1px 2px rgba(60, 64, 67, 0.3), 0px 1px 3px 1px rgba(60, 64, 67, 0.15);\n",
              "        fill: #174EA6;\n",
              "      }\n",
              "\n",
              "      [theme=dark] .colab-df-generate {\n",
              "        background-color: #3B4455;\n",
              "        fill: #D2E3FC;\n",
              "      }\n",
              "\n",
              "      [theme=dark] .colab-df-generate:hover {\n",
              "        background-color: #434B5C;\n",
              "        box-shadow: 0px 1px 3px 1px rgba(0, 0, 0, 0.15);\n",
              "        filter: drop-shadow(0px 1px 2px rgba(0, 0, 0, 0.3));\n",
              "        fill: #FFFFFF;\n",
              "      }\n",
              "    </style>\n",
              "    <button class=\"colab-df-generate\" onclick=\"generateWithVariable('temp')\"\n",
              "            title=\"Generate code using this dataframe.\"\n",
              "            style=\"display:none;\">\n",
              "\n",
              "  <svg xmlns=\"http://www.w3.org/2000/svg\" height=\"24px\"viewBox=\"0 0 24 24\"\n",
              "       width=\"24px\">\n",
              "    <path d=\"M7,19H8.4L18.45,9,17,7.55,7,17.6ZM5,21V16.75L18.45,3.32a2,2,0,0,1,2.83,0l1.4,1.43a1.91,1.91,0,0,1,.58,1.4,1.91,1.91,0,0,1-.58,1.4L9.25,21ZM18.45,9,17,7.55Zm-12,3A5.31,5.31,0,0,0,4.9,8.1,5.31,5.31,0,0,0,1,6.5,5.31,5.31,0,0,0,4.9,4.9,5.31,5.31,0,0,0,6.5,1,5.31,5.31,0,0,0,8.1,4.9,5.31,5.31,0,0,0,12,6.5,5.46,5.46,0,0,0,6.5,12Z\"/>\n",
              "  </svg>\n",
              "    </button>\n",
              "    <script>\n",
              "      (() => {\n",
              "      const buttonEl =\n",
              "        document.querySelector('#id_d3204989-9fc9-415d-bac0-78094662876e button.colab-df-generate');\n",
              "      buttonEl.style.display =\n",
              "        google.colab.kernel.accessAllowed ? 'block' : 'none';\n",
              "\n",
              "      buttonEl.onclick = () => {\n",
              "        google.colab.notebook.generateWithVariable('temp');\n",
              "      }\n",
              "      })();\n",
              "    </script>\n",
              "  </div>\n",
              "\n",
              "    </div>\n",
              "  </div>\n"
            ]
          },
          "metadata": {},
          "execution_count": 124
        }
      ]
    },
    {
      "cell_type": "code",
      "source": [
        "sns.heatmap(temp, annot=True, vmax=5, vmin=0)\n",
        "\n",
        "plt.title('Avg. rating of services given different types of travellers')\n",
        "plt.ylabel('Traveller Type')\n",
        "plt.xlabel('Sevices')\n",
        "plt.show()"
      ],
      "metadata": {
        "colab": {
          "base_uri": "https://localhost:8080/",
          "height": 487
        },
        "id": "szEzefomIfWE",
        "outputId": "4d37680d-7ba5-4347-828d-c12473c8515b"
      },
      "execution_count": null,
      "outputs": [
        {
          "output_type": "display_data",
          "data": {
            "text/plain": [
              "<Figure size 1500x500 with 2 Axes>"
            ],
            "image/png": "[encoded data removed]"
          },
          "metadata": {}
        }
      ]
    },
    {
      "cell_type": "markdown",
      "metadata": {
        "id": "PSx9atu2YklI"
      },
      "source": [
        "- Above heatmap is perfect to descibe the key areas to improve or work on, on sevices for different types of travellers.\n",
        "- Most of the services provided by all airlines do score average\n",
        " with few scoring below average."
      ]
    },
    {
      "cell_type": "markdown",
      "metadata": {
        "id": "EM7whBJCYoAo"
      },
      "source": [
        "#### Chart - 3"
      ]
    },
    {
      "cell_type": "code",
      "execution_count": null,
      "metadata": {
        "id": "t6GMdE67YoAp"
      },
      "outputs": [],
      "source": [
        "# Chart - 3 visualization code\n",
        "temp = df.groupby('cabin')['seat_comfort',\t'cabin_service',\t'food_bev',\t'entertainment',\t'ground_service',\t'value_for_money'].mean()"
      ]
    },
    {
      "cell_type": "code",
      "source": [
        "temp\n"
      ],
      "metadata": {
        "colab": {
          "base_uri": "https://localhost:8080/",
          "height": 206
        },
        "id": "UHmV_L4TPKV4",
        "outputId": "ad93716c-4d56-4d24-c5f8-23279f7b8df9"
      },
      "execution_count": null,
      "outputs": [
        {
          "output_type": "execute_result",
          "data": {
            "text/plain": [
              "                 seat_comfort  cabin_service  food_bev  entertainment  \\\n",
              "cabin                                                                   \n",
              "Business Class       3.621666       3.855782  3.525108       3.356407   \n",
              "Economy Class        2.792234       3.045822  2.776919       2.758083   \n",
              "First Class          3.737727       3.778077  3.384295       3.280827   \n",
              "Premium Economy      3.101946       3.298052  2.919603       3.038980   \n",
              "\n",
              "                 ground_service  value_for_money  \n",
              "cabin                                             \n",
              "Business Class         3.401077         3.503296  \n",
              "Economy Class          2.503103         2.828056  \n",
              "First Class            3.379085         3.365598  \n",
              "Premium Economy        3.042809         2.968905  "
            ],
            "text/html": [
              "\n",
              "  <div id=\"df-61b9122e-3e43-4ffb-befd-f6897ef5de88\" class=\"colab-df-container\">\n",
              "    <div>\n",
              "<style scoped>\n",
              "    .dataframe tbody tr th:only-of-type {\n",
              "        vertical-align: middle;\n",
              "    }\n",
              "\n",
              "    .dataframe tbody tr th {\n",
              "        vertical-align: top;\n",
              "    }\n",
              "\n",
              "    .dataframe thead th {\n",
              "        text-align: right;\n",
              "    }\n",
              "</style>\n",
              "<table border=\"1\" class=\"dataframe\">\n",
              "  <thead>\n",
              "    <tr style=\"text-align: right;\">\n",
              "      <th></th>\n",
              "      <th>seat_comfort</th>\n",
              "      <th>cabin_service</th>\n",
              "      <th>food_bev</th>\n",
              "      <th>entertainment</th>\n",
              "      <th>ground_service</th>\n",
              "      <th>value_for_money</th>\n",
              "    </tr>\n",
              "    <tr>\n",
              "      <th>cabin</th>\n",
              "      <th></th>\n",
              "      <th></th>\n",
              "      <th></th>\n",
              "      <th></th>\n",
              "      <th></th>\n",
              "      <th></th>\n",
              "    </tr>\n",
              "  </thead>\n",
              "  <tbody>\n",
              "    <tr>\n",
              "      <th>Business Class</th>\n",
              "      <td>3.621666</td>\n",
              "      <td>3.855782</td>\n",
              "      <td>3.525108</td>\n",
              "      <td>3.356407</td>\n",
              "      <td>3.401077</td>\n",
              "      <td>3.503296</td>\n",
              "    </tr>\n",
              "    <tr>\n",
              "      <th>Economy Class</th>\n",
              "      <td>2.792234</td>\n",
              "      <td>3.045822</td>\n",
              "      <td>2.776919</td>\n",
              "      <td>2.758083</td>\n",
              "      <td>2.503103</td>\n",
              "      <td>2.828056</td>\n",
              "    </tr>\n",
              "    <tr>\n",
              "      <th>First Class</th>\n",
              "      <td>3.737727</td>\n",
              "      <td>3.778077</td>\n",
              "      <td>3.384295</td>\n",
              "      <td>3.280827</td>\n",
              "      <td>3.379085</td>\n",
              "      <td>3.365598</td>\n",
              "    </tr>\n",
              "    <tr>\n",
              "      <th>Premium Economy</th>\n",
              "      <td>3.101946</td>\n",
              "      <td>3.298052</td>\n",
              "      <td>2.919603</td>\n",
              "      <td>3.038980</td>\n",
              "      <td>3.042809</td>\n",
              "      <td>2.968905</td>\n",
              "    </tr>\n",
              "  </tbody>\n",
              "</table>\n",
              "</div>\n",
              "    <div class=\"colab-df-buttons\">\n",
              "\n",
              "  <div class=\"colab-df-container\">\n",
              "    <button class=\"colab-df-convert\" onclick=\"convertToInteractive('df-61b9122e-3e43-4ffb-befd-f6897ef5de88')\"\n",
              "            title=\"Convert this dataframe to an interactive table.\"\n",
              "            style=\"display:none;\">\n",
              "\n",
              "  <svg xmlns=\"http://www.w3.org/2000/svg\" height=\"24px\" viewBox=\"0 -960 960 960\">\n",
              "    <path d=\"M120-120v-720h720v720H120Zm60-500h600v-160H180v160Zm220 220h160v-160H400v160Zm0 220h160v-160H400v160ZM180-400h160v-160H180v160Zm440 0h160v-160H620v160ZM180-180h160v-160H180v160Zm440 0h160v-160H620v160Z\"/>\n",
              "  </svg>\n",
              "    </button>\n",
              "\n",
              "  <style>\n",
              "    .colab-df-container {\n",
              "      display:flex;\n",
              "      gap: 12px;\n",
              "    }\n",
              "\n",
              "    .colab-df-convert {\n",
              "      background-color: #E8F0FE;\n",
              "      border: none;\n",
              "      border-radius: 50%;\n",
              "      cursor: pointer;\n",
              "      display: none;\n",
              "      fill: #1967D2;\n",
              "      height: 32px;\n",
              "      padding: 0 0 0 0;\n",
              "      width: 32px;\n",
              "    }\n",
              "\n",
              "    .colab-df-convert:hover {\n",
              "      background-color: #E2EBFA;\n",
              "      box-shadow: 0px 1px 2px rgba(60, 64, 67, 0.3), 0px 1px 3px 1px rgba(60, 64, 67, 0.15);\n",
              "      fill: #174EA6;\n",
              "    }\n",
              "\n",
              "    .colab-df-buttons div {\n",
              "      margin-bottom: 4px;\n",
              "    }\n",
              "\n",
              "    [theme=dark] .colab-df-convert {\n",
              "      background-color: #3B4455;\n",
              "      fill: #D2E3FC;\n",
              "    }\n",
              "\n",
              "    [theme=dark] .colab-df-convert:hover {\n",
              "      background-color: #434B5C;\n",
              "      box-shadow: 0px 1px 3px 1px rgba(0, 0, 0, 0.15);\n",
              "      filter: drop-shadow(0px 1px 2px rgba(0, 0, 0, 0.3));\n",
              "      fill: #FFFFFF;\n",
              "    }\n",
              "  </style>\n",
              "\n",
              "    <script>\n",
              "      const buttonEl =\n",
              "        document.querySelector('#df-61b9122e-3e43-4ffb-befd-f6897ef5de88 button.colab-df-convert');\n",
              "      buttonEl.style.display =\n",
              "        google.colab.kernel.accessAllowed ? 'block' : 'none';\n",
              "\n",
              "      async function convertToInteractive(key) {\n",
              "        const element = document.querySelector('#df-61b9122e-3e43-4ffb-befd-f6897ef5de88');\n",
              "        const dataTable =\n",
              "          await google.colab.kernel.invokeFunction('convertToInteractive',\n",
              "                                                    [key], {});\n",
              "        if (!dataTable) return;\n",
              "\n",
              "        const docLinkHtml = 'Like what you see? Visit the ' +\n",
              "          '<a target=\"_blank\" href=https://colab.research.google.com/notebooks/data_table.ipynb>data table notebook</a>'\n",
              "          + ' to learn more about interactive tables.';\n",
              "        element.innerHTML = '';\n",
              "        dataTable['output_type'] = 'display_data';\n",
              "        await google.colab.output.renderOutput(dataTable, element);\n",
              "        const docLink = document.createElement('div');\n",
              "        docLink.innerHTML = docLinkHtml;\n",
              "        element.appendChild(docLink);\n",
              "      }\n",
              "    </script>\n",
              "  </div>\n",
              "\n",
              "\n",
              "<div id=\"df-a27dd6c6-fc0d-4812-b23f-b65a88dc4bed\">\n",
              "  <button class=\"colab-df-quickchart\" onclick=\"quickchart('df-a27dd6c6-fc0d-4812-b23f-b65a88dc4bed')\"\n",
              "            title=\"Suggest charts\"\n",
              "            style=\"display:none;\">\n",
              "\n",
              "<svg xmlns=\"http://www.w3.org/2000/svg\" height=\"24px\"viewBox=\"0 0 24 24\"\n",
              "     width=\"24px\">\n",
              "    <g>\n",
              "        <path d=\"M19 3H5c-1.1 0-2 .9-2 2v14c0 1.1.9 2 2 2h14c1.1 0 2-.9 2-2V5c0-1.1-.9-2-2-2zM9 17H7v-7h2v7zm4 0h-2V7h2v10zm4 0h-2v-4h2v4z\"/>\n",
              "    </g>\n",
              "</svg>\n",
              "  </button>\n",
              "\n",
              "<style>\n",
              "  .colab-df-quickchart {\n",
              "      --bg-color: #E8F0FE;\n",
              "      --fill-color: #1967D2;\n",
              "      --hover-bg-color: #E2EBFA;\n",
              "      --hover-fill-color: #174EA6;\n",
              "      --disabled-fill-color: #AAA;\n",
              "      --disabled-bg-color: #DDD;\n",
              "  }\n",
              "\n",
              "  [theme=dark] .colab-df-quickchart {\n",
              "      --bg-color: #3B4455;\n",
              "      --fill-color: #D2E3FC;\n",
              "      --hover-bg-color: #434B5C;\n",
              "      --hover-fill-color: #FFFFFF;\n",
              "      --disabled-bg-color: #3B4455;\n",
              "      --disabled-fill-color: #666;\n",
              "  }\n",
              "\n",
              "  .colab-df-quickchart {\n",
              "    background-color: var(--bg-color);\n",
              "    border: none;\n",
              "    border-radius: 50%;\n",
              "    cursor: pointer;\n",
              "    display: none;\n",
              "    fill: var(--fill-color);\n",
              "    height: 32px;\n",
              "    padding: 0;\n",
              "    width: 32px;\n",
              "  }\n",
              "\n",
              "  .colab-df-quickchart:hover {\n",
              "    background-color: var(--hover-bg-color);\n",
              "    box-shadow: 0 1px 2px rgba(60, 64, 67, 0.3), 0 1px 3px 1px rgba(60, 64, 67, 0.15);\n",
              "    fill: var(--button-hover-fill-color);\n",
              "  }\n",
              "\n",
              "  .colab-df-quickchart-complete:disabled,\n",
              "  .colab-df-quickchart-complete:disabled:hover {\n",
              "    background-color: var(--disabled-bg-color);\n",
              "    fill: var(--disabled-fill-color);\n",
              "    box-shadow: none;\n",
              "  }\n",
              "\n",
              "  .colab-df-spinner {\n",
              "    border: 2px solid var(--fill-color);\n",
              "    border-color: transparent;\n",
              "    border-bottom-color: var(--fill-color);\n",
              "    animation:\n",
              "      spin 1s steps(1) infinite;\n",
              "  }\n",
              "\n",
              "  @keyframes spin {\n",
              "    0% {\n",
              "      border-color: transparent;\n",
              "      border-bottom-color: var(--fill-color);\n",
              "      border-left-color: var(--fill-color);\n",
              "    }\n",
              "    20% {\n",
              "      border-color: transparent;\n",
              "      border-left-color: var(--fill-color);\n",
              "      border-top-color: var(--fill-color);\n",
              "    }\n",
              "    30% {\n",
              "      border-color: transparent;\n",
              "      border-left-color: var(--fill-color);\n",
              "      border-top-color: var(--fill-color);\n",
              "      border-right-color: var(--fill-color);\n",
              "    }\n",
              "    40% {\n",
              "      border-color: transparent;\n",
              "      border-right-color: var(--fill-color);\n",
              "      border-top-color: var(--fill-color);\n",
              "    }\n",
              "    60% {\n",
              "      border-color: transparent;\n",
              "      border-right-color: var(--fill-color);\n",
              "    }\n",
              "    80% {\n",
              "      border-color: transparent;\n",
              "      border-right-color: var(--fill-color);\n",
              "      border-bottom-color: var(--fill-color);\n",
              "    }\n",
              "    90% {\n",
              "      border-color: transparent;\n",
              "      border-bottom-color: var(--fill-color);\n",
              "    }\n",
              "  }\n",
              "</style>\n",
              "\n",
              "  <script>\n",
              "    async function quickchart(key) {\n",
              "      const quickchartButtonEl =\n",
              "        document.querySelector('#' + key + ' button');\n",
              "      quickchartButtonEl.disabled = true;  // To prevent multiple clicks.\n",
              "      quickchartButtonEl.classList.add('colab-df-spinner');\n",
              "      try {\n",
              "        const charts = await google.colab.kernel.invokeFunction(\n",
              "            'suggestCharts', [key], {});\n",
              "      } catch (error) {\n",
              "        console.error('Error during call to suggestCharts:', error);\n",
              "      }\n",
              "      quickchartButtonEl.classList.remove('colab-df-spinner');\n",
              "      quickchartButtonEl.classList.add('colab-df-quickchart-complete');\n",
              "    }\n",
              "    (() => {\n",
              "      let quickchartButtonEl =\n",
              "        document.querySelector('#df-a27dd6c6-fc0d-4812-b23f-b65a88dc4bed button');\n",
              "      quickchartButtonEl.style.display =\n",
              "        google.colab.kernel.accessAllowed ? 'block' : 'none';\n",
              "    })();\n",
              "  </script>\n",
              "</div>\n",
              "\n",
              "  <div id=\"id_efd1ca5f-6b4d-479c-b828-673c31239ba0\">\n",
              "    <style>\n",
              "      .colab-df-generate {\n",
              "        background-color: #E8F0FE;\n",
              "        border: none;\n",
              "        border-radius: 50%;\n",
              "        cursor: pointer;\n",
              "        display: none;\n",
              "        fill: #1967D2;\n",
              "        height: 32px;\n",
              "        padding: 0 0 0 0;\n",
              "        width: 32px;\n",
              "      }\n",
              "\n",
              "      .colab-df-generate:hover {\n",
              "        background-color: #E2EBFA;\n",
              "        box-shadow: 0px 1px 2px rgba(60, 64, 67, 0.3), 0px 1px 3px 1px rgba(60, 64, 67, 0.15);\n",
              "        fill: #174EA6;\n",
              "      }\n",
              "\n",
              "      [theme=dark] .colab-df-generate {\n",
              "        background-color: #3B4455;\n",
              "        fill: #D2E3FC;\n",
              "      }\n",
              "\n",
              "      [theme=dark] .colab-df-generate:hover {\n",
              "        background-color: #434B5C;\n",
              "        box-shadow: 0px 1px 3px 1px rgba(0, 0, 0, 0.15);\n",
              "        filter: drop-shadow(0px 1px 2px rgba(0, 0, 0, 0.3));\n",
              "        fill: #FFFFFF;\n",
              "      }\n",
              "    </style>\n",
              "    <button class=\"colab-df-generate\" onclick=\"generateWithVariable('temp')\"\n",
              "            title=\"Generate code using this dataframe.\"\n",
              "            style=\"display:none;\">\n",
              "\n",
              "  <svg xmlns=\"http://www.w3.org/2000/svg\" height=\"24px\"viewBox=\"0 0 24 24\"\n",
              "       width=\"24px\">\n",
              "    <path d=\"M7,19H8.4L18.45,9,17,7.55,7,17.6ZM5,21V16.75L18.45,3.32a2,2,0,0,1,2.83,0l1.4,1.43a1.91,1.91,0,0,1,.58,1.4,1.91,1.91,0,0,1-.58,1.4L9.25,21ZM18.45,9,17,7.55Zm-12,3A5.31,5.31,0,0,0,4.9,8.1,5.31,5.31,0,0,0,1,6.5,5.31,5.31,0,0,0,4.9,4.9,5.31,5.31,0,0,0,6.5,1,5.31,5.31,0,0,0,8.1,4.9,5.31,5.31,0,0,0,12,6.5,5.46,5.46,0,0,0,6.5,12Z\"/>\n",
              "  </svg>\n",
              "    </button>\n",
              "    <script>\n",
              "      (() => {\n",
              "      const buttonEl =\n",
              "        document.querySelector('#id_efd1ca5f-6b4d-479c-b828-673c31239ba0 button.colab-df-generate');\n",
              "      buttonEl.style.display =\n",
              "        google.colab.kernel.accessAllowed ? 'block' : 'none';\n",
              "\n",
              "      buttonEl.onclick = () => {\n",
              "        google.colab.notebook.generateWithVariable('temp');\n",
              "      }\n",
              "      })();\n",
              "    </script>\n",
              "  </div>\n",
              "\n",
              "    </div>\n",
              "  </div>\n"
            ]
          },
          "metadata": {},
          "execution_count": 72
        }
      ]
    },
    {
      "cell_type": "code",
      "source": [
        "sns.heatmap(temp, annot=True)"
      ],
      "metadata": {
        "colab": {
          "base_uri": "https://localhost:8080/",
          "height": 462
        },
        "id": "jR7JPYVQPPdb",
        "outputId": "cf692d63-9ed9-470b-9868-d6ab62529296"
      },
      "execution_count": null,
      "outputs": [
        {
          "output_type": "execute_result",
          "data": {
            "text/plain": [
              "<Axes: ylabel='cabin'>"
            ]
          },
          "metadata": {},
          "execution_count": 73
        },
        {
          "output_type": "display_data",
          "data": {
            "text/plain": [
              "<Figure size 1500x500 with 2 Axes>"
            ],
            "image/png": "[encoded data removed]"
          },
          "metadata": {}
        }
      ]
    },
    {
      "cell_type": "markdown",
      "metadata": {
        "id": "5dBItgRVYoAp"
      },
      "source": [
        "- This heatmap describes the performance of all services provided for different classes.\n",
        "- Ground services of economy class has the lowest of rating among all.\n",
        "\n"
      ]
    },
    {
      "cell_type": "markdown",
      "metadata": {
        "id": "4Of9eVA-YrdM"
      },
      "source": [
        "#### Chart - 4"
      ]
    },
    {
      "cell_type": "code",
      "execution_count": null,
      "metadata": {
        "id": "irlUoxc8YrdO",
        "colab": {
          "base_uri": "https://localhost:8080/",
          "height": 482
        },
        "outputId": "40f2456c-18cf-4246-b4a3-74fa2b9bfbe9"
      },
      "outputs": [
        {
          "output_type": "execute_result",
          "data": {
            "text/plain": [
              "<Axes: xlabel='review_date', ylabel='count'>"
            ]
          },
          "metadata": {},
          "execution_count": 86
        },
        {
          "output_type": "display_data",
          "data": {
            "text/plain": [
              "<Figure size 1500x500 with 1 Axes>"
            ],
            "image/png": "[encoded data removed]"
          },
          "metadata": {}
        }
      ],
      "source": [
        "# Chart - 4 visualization code\n",
        "sns.countplot(x = df.review_date.dt.month, hue = df.recommended)"
      ]
    },
    {
      "cell_type": "markdown",
      "metadata": {
        "id": "aJRCwT6DYrdO"
      },
      "source": [
        "- Monthly Destribution of tickets sold and referrals."
      ]
    },
    {
      "cell_type": "markdown",
      "metadata": {
        "id": "bamQiAODYuh1"
      },
      "source": [
        "#### Chart - 5"
      ]
    },
    {
      "cell_type": "code",
      "execution_count": 30,
      "metadata": {
        "id": "TIJwrbroYuh3",
        "colab": {
          "base_uri": "https://localhost:8080/",
          "height": 487
        },
        "outputId": "f0bc2f49-01c6-4adb-e00e-21ed98dda597"
      },
      "outputs": [
        {
          "output_type": "display_data",
          "data": {
            "text/plain": [
              "<Figure size 1500x500 with 1 Axes>"
            ],
            "image/png": "[encoded data removed]"
          },
          "metadata": {}
        }
      ],
      "source": [
        "# Chart - 5 visualization code\n",
        "sns.countplot(x = df.review_date.dt.year, hue = df.recommended)\n",
        "\n",
        "plt.title('Yearly Sales distribution with referral classification')\n",
        "plt.xlabel('Review Year')\n",
        "plt.ylabel('Review Count')\n",
        "plt.show()"
      ]
    },
    {
      "cell_type": "markdown",
      "metadata": {
        "id": "dcxuIMRPYuh3"
      },
      "source": [
        "- Yearly Sales distribution with referral classification.\n",
        "- A huge spike can seen in sales after 2011"
      ]
    },
    {
      "cell_type": "markdown",
      "metadata": {
        "id": "OH-pJp9IphqM"
      },
      "source": [
        "#### Chart - 6"
      ]
    },
    {
      "cell_type": "code",
      "execution_count": 31,
      "metadata": {
        "id": "kuRf4wtuphqN",
        "colab": {
          "base_uri": "https://localhost:8080/",
          "height": 487
        },
        "outputId": "6a7ab8f6-3595-45da-c3b7-4d24bd58ede2"
      },
      "outputs": [
        {
          "output_type": "display_data",
          "data": {
            "text/plain": [
              "<Figure size 1500x500 with 1 Axes>"
            ],
            "image/png": "[encoded data removed]"
          },
          "metadata": {}
        }
      ],
      "source": [
        "# Chart - 6 visualization code\n",
        "sns.countplot(x = df.review_date.dt.day, hue = df.recommended)\n",
        "\n",
        "plt.title('Daily Sales distribution with referral classification')\n",
        "plt.xlabel('Day of month')\n",
        "plt.ylabel('Review Count')\n",
        "plt.show()"
      ]
    },
    {
      "cell_type": "markdown",
      "metadata": {
        "id": "PIIx-8_IphqN"
      },
      "source": [
        "#### Chart - 7"
      ]
    },
    {
      "cell_type": "code",
      "execution_count": 32,
      "metadata": {
        "id": "lqAIGUfyphqO",
        "colab": {
          "base_uri": "https://localhost:8080/",
          "height": 487
        },
        "outputId": "2a06fa8f-1821-47c9-fc26-078e225dfaa1"
      },
      "outputs": [
        {
          "output_type": "display_data",
          "data": {
            "text/plain": [
              "<Figure size 1500x500 with 1 Axes>"
            ],
            "image/png": "[encoded data removed]"
          },
          "metadata": {}
        }
      ],
      "source": [
        "# Chart - 7 visualization code\n",
        "sns.countplot(x = df.review_date.dt.weekday, hue = df.recommended)\n",
        "\n",
        "plt.xticks([0,1,2,3,4,5,6],[ 'Mon', 'Tue', 'Wed', 'Thu', 'Fri', 'Sat', 'Sun'])\n",
        "plt.title('Weekly Sales distribution with referral classification')\n",
        "plt.xlabel('Week')\n",
        "plt.ylabel('Review Count')\n",
        "plt.show()"
      ]
    },
    {
      "cell_type": "markdown",
      "metadata": {
        "id": "BZR9WyysphqO"
      },
      "source": [
        "#### Chart - 8"
      ]
    },
    {
      "cell_type": "code",
      "execution_count": 40,
      "metadata": {
        "id": "TdPTWpAVphqO",
        "colab": {
          "base_uri": "https://localhost:8080/",
          "height": 487
        },
        "outputId": "995b83ef-0860-4a12-b0ec-c8cad52577b8"
      },
      "outputs": [
        {
          "output_type": "display_data",
          "data": {
            "text/plain": [
              "<Figure size 1500x500 with 1 Axes>"
            ],
            "image/png": "[encoded data removed]"
          },
          "metadata": {}
        }
      ],
      "source": [
        "# Chart - 8 visualization code\n",
        "sns.countplot(x = df.cabin, hue = df.traveller_type)\n",
        "\n",
        "plt.title('Sales distribution of different classes with type of traveller')\n",
        "plt.xlabel('Class')\n",
        "plt.ylabel('Sales count')\n",
        "plt.grid()\n",
        "plt.show()"
      ]
    },
    {
      "cell_type": "markdown",
      "metadata": {
        "id": "Ob8u6rCTphqO"
      },
      "source": [
        "- Solo leisure are the most common type traveller that can be seen across all classes.\n",
        "- Economy class has the heighest number of sales as it has most number of availability."
      ]
    },
    {
      "cell_type": "markdown",
      "metadata": {
        "id": "NC_X3p0fY2L0"
      },
      "source": [
        "#### Chart - 9 - Correlation Heatmap"
      ]
    },
    {
      "cell_type": "code",
      "execution_count": 42,
      "metadata": {
        "id": "xyC9zolEZNRQ",
        "colab": {
          "base_uri": "https://localhost:8080/",
          "height": 451
        },
        "outputId": "77e50fbb-3cf2-407e-d6b3-ae8de016a873"
      },
      "outputs": [
        {
          "output_type": "display_data",
          "data": {
            "text/plain": [
              "<Figure size 1500x500 with 2 Axes>"
            ],
            "image/png": "[encoded data removed]"
          },
          "metadata": {}
        }
      ],
      "source": [
        "# Correlation Heatmap visualization code\n",
        "sns.heatmap(abs(df.corr()), annot = True)\n",
        "plt.show()"
      ]
    },
    {
      "cell_type": "markdown",
      "metadata": {
        "id": "DVPuT8LYZNRQ"
      },
      "source": [
        "- Overall feature is highly correlated to almost all the other features."
      ]
    },
    {
      "cell_type": "markdown",
      "metadata": {
        "id": "yLjJCtPM0KBk"
      },
      "source": [
        "## ***5. Feature Engineering & Data Pre-processing***"
      ]
    },
    {
      "cell_type": "markdown",
      "metadata": {
        "id": "xiyOF9F70UgQ"
      },
      "source": [
        "### 1. Handling Missing Values"
      ]
    },
    {
      "cell_type": "code",
      "execution_count": 43,
      "metadata": {
        "id": "iRsAHk1K0fpS",
        "colab": {
          "base_uri": "https://localhost:8080/"
        },
        "outputId": "441c1e36-91b8-449c-df8b-2395ca512361"
      },
      "outputs": [
        {
          "output_type": "execute_result",
          "data": {
            "text/plain": [
              "airline                0\n",
              "overall             1761\n",
              "review_date            0\n",
              "customer_review        0\n",
              "traveller_type     23622\n",
              "cabin               2457\n",
              "date_flown         23728\n",
              "seat_comfort        4951\n",
              "cabin_service       4922\n",
              "food_bev           12821\n",
              "entertainment      20932\n",
              "ground_service     23993\n",
              "value_for_money     1835\n",
              "recommended         1422\n",
              "dtype: int64"
            ]
          },
          "metadata": {},
          "execution_count": 43
        }
      ],
      "source": [
        "# Handling Missing Values & Missing Value Imputation\n",
        "df.isnull().sum()"
      ]
    },
    {
      "cell_type": "markdown",
      "metadata": {
        "id": "7wuGOrhz0itI"
      },
      "source": [
        "#### What all missing value imputation techniques have you used and why did you use those techniques?"
      ]
    },
    {
      "cell_type": "markdown",
      "metadata": {
        "id": "1ixusLtI0pqI"
      },
      "source": [
        "Answer Here."
      ]
    },
    {
      "cell_type": "markdown",
      "metadata": {
        "id": "id1riN9m0vUs"
      },
      "source": [
        "### 2. Handling Outliers"
      ]
    },
    {
      "cell_type": "code",
      "execution_count": null,
      "metadata": {
        "id": "M6w2CzZf04JK"
      },
      "outputs": [],
      "source": [
        "# Handling Outliers & Outlier treatments"
      ]
    },
    {
      "cell_type": "markdown",
      "metadata": {
        "id": "578E2V7j08f6"
      },
      "source": [
        "##### What all outlier treatment techniques have you used and why did you use those techniques?"
      ]
    },
    {
      "cell_type": "markdown",
      "metadata": {
        "id": "uGZz5OrT1HH-"
      },
      "source": [
        "Answer Here."
      ]
    },
    {
      "cell_type": "markdown",
      "metadata": {
        "id": "89xtkJwZ18nB"
      },
      "source": [
        "### 3. Categorical Encoding"
      ]
    },
    {
      "cell_type": "code",
      "execution_count": null,
      "metadata": {
        "id": "21JmIYMG2hEo"
      },
      "outputs": [],
      "source": [
        "# Encode your categorical columns"
      ]
    },
    {
      "cell_type": "markdown",
      "metadata": {
        "id": "67NQN5KX2AMe"
      },
      "source": [
        "#### What all categorical encoding techniques have you used & why did you use those techniques?"
      ]
    },
    {
      "cell_type": "markdown",
      "metadata": {
        "id": "UDaue5h32n_G"
      },
      "source": [
        "Answer Here."
      ]
    },
    {
      "cell_type": "markdown",
      "metadata": {
        "id": "Iwf50b-R2tYG"
      },
      "source": [
        "### 4. Textual Data Preprocessing\n",
        "(It's mandatory for textual dataset i.e., NLP, Sentiment Analysis, Text Clustering etc.)"
      ]
    },
    {
      "cell_type": "markdown",
      "metadata": {
        "id": "GMQiZwjn3iu7"
      },
      "source": [
        "#### 1. Expand Contraction"
      ]
    },
    {
      "cell_type": "code",
      "execution_count": null,
      "metadata": {
        "id": "PTouz10C3oNN"
      },
      "outputs": [],
      "source": [
        "# Expand Contraction"
      ]
    },
    {
      "cell_type": "markdown",
      "metadata": {
        "id": "WVIkgGqN3qsr"
      },
      "source": [
        "#### 2. Lower Casing"
      ]
    },
    {
      "cell_type": "code",
      "execution_count": null,
      "metadata": {
        "id": "88JnJ1jN3w7j"
      },
      "outputs": [],
      "source": [
        "# Lower Casing"
      ]
    },
    {
      "cell_type": "markdown",
      "metadata": {
        "id": "XkPnILGE3zoT"
      },
      "source": [
        "#### 3. Removing Punctuations"
      ]
    },
    {
      "cell_type": "code",
      "execution_count": null,
      "metadata": {
        "id": "vqbBqNaA33c0"
      },
      "outputs": [],
      "source": [
        "# Remove Punctuations"
      ]
    },
    {
      "cell_type": "markdown",
      "metadata": {
        "id": "Hlsf0x5436Go"
      },
      "source": [
        "#### 4. Removing URLs & Removing words and digits contain digits."
      ]
    },
    {
      "cell_type": "code",
      "execution_count": null,
      "metadata": {
        "id": "2sxKgKxu4Ip3"
      },
      "outputs": [],
      "source": [
        "# Remove URLs & Remove words and digits contain digits"
      ]
    },
    {
      "cell_type": "markdown",
      "metadata": {
        "id": "mT9DMSJo4nBL"
      },
      "source": [
        "#### 5. Removing Stopwords & Removing White spaces"
      ]
    },
    {
      "cell_type": "code",
      "execution_count": null,
      "metadata": {
        "id": "T2LSJh154s8W"
      },
      "outputs": [],
      "source": [
        "# Remove Stopwords"
      ]
    },
    {
      "cell_type": "code",
      "execution_count": null,
      "metadata": {
        "id": "EgLJGffy4vm0"
      },
      "outputs": [],
      "source": [
        "# Remove White spaces"
      ]
    },
    {
      "cell_type": "markdown",
      "metadata": {
        "id": "c49ITxTc407N"
      },
      "source": [
        "#### 6. Rephrase Text"
      ]
    },
    {
      "cell_type": "code",
      "execution_count": null,
      "metadata": {
        "id": "foqY80Qu48N2"
      },
      "outputs": [],
      "source": [
        "# Rephrase Text"
      ]
    },
    {
      "cell_type": "markdown",
      "metadata": {
        "id": "OeJFEK0N496M"
      },
      "source": [
        "#### 7. Tokenization"
      ]
    },
    {
      "cell_type": "code",
      "execution_count": null,
      "metadata": {
        "id": "ijx1rUOS5CUU"
      },
      "outputs": [],
      "source": [
        "# Tokenization"
      ]
    },
    {
      "cell_type": "markdown",
      "metadata": {
        "id": "9ExmJH0g5HBk"
      },
      "source": [
        "#### 8. Text Normalization"
      ]
    },
    {
      "cell_type": "code",
      "execution_count": null,
      "metadata": {
        "id": "AIJ1a-Zc5PY8"
      },
      "outputs": [],
      "source": [
        "# Normalizing Text (i.e., Stemming, Lemmatization etc.)"
      ]
    },
    {
      "cell_type": "markdown",
      "metadata": {
        "id": "cJNqERVU536h"
      },
      "source": [
        "##### Which text normalization technique have you used and why?"
      ]
    },
    {
      "cell_type": "markdown",
      "metadata": {
        "id": "Z9jKVxE06BC1"
      },
      "source": [
        "Answer Here."
      ]
    },
    {
      "cell_type": "markdown",
      "metadata": {
        "id": "k5UmGsbsOxih"
      },
      "source": [
        "#### 9. Part of speech tagging"
      ]
    },
    {
      "cell_type": "code",
      "execution_count": null,
      "metadata": {
        "id": "btT3ZJBAO6Ik"
      },
      "outputs": [],
      "source": [
        "# POS Taging"
      ]
    },
    {
      "cell_type": "markdown",
      "metadata": {
        "id": "T0VqWOYE6DLQ"
      },
      "source": [
        "#### 10. Text Vectorization"
      ]
    },
    {
      "cell_type": "code",
      "execution_count": null,
      "metadata": {
        "id": "yBRtdhth6JDE"
      },
      "outputs": [],
      "source": [
        "# Vectorizing Text"
      ]
    },
    {
      "cell_type": "markdown",
      "metadata": {
        "id": "qBMux9mC6MCf"
      },
      "source": [
        "##### Which text vectorization technique have you used and why?"
      ]
    },
    {
      "cell_type": "markdown",
      "metadata": {
        "id": "su2EnbCh6UKQ"
      },
      "source": [
        "Answer Here."
      ]
    },
    {
      "cell_type": "markdown",
      "metadata": {
        "id": "-oLEiFgy-5Pf"
      },
      "source": [
        "### 4. Feature Manipulation & Selection"
      ]
    },
    {
      "cell_type": "markdown",
      "metadata": {
        "id": "C74aWNz2AliB"
      },
      "source": [
        "#### 1. Feature Manipulation"
      ]
    },
    {
      "cell_type": "code",
      "execution_count": null,
      "metadata": {
        "id": "h1qC4yhBApWC"
      },
      "outputs": [],
      "source": [
        "# Manipulate Features to minimize feature correlation and create new features"
      ]
    },
    {
      "cell_type": "markdown",
      "metadata": {
        "id": "2DejudWSA-a0"
      },
      "source": [
        "#### 2. Feature Selection"
      ]
    },
    {
      "cell_type": "code",
      "execution_count": null,
      "metadata": {
        "id": "YLhe8UmaBCEE"
      },
      "outputs": [],
      "source": [
        "# Select your features wisely to avoid overfitting"
      ]
    },
    {
      "cell_type": "markdown",
      "metadata": {
        "id": "pEMng2IbBLp7"
      },
      "source": [
        "##### What all feature selection methods have you used  and why?"
      ]
    },
    {
      "cell_type": "markdown",
      "metadata": {
        "id": "rb2Lh6Z8BgGs"
      },
      "source": [
        "Answer Here."
      ]
    },
    {
      "cell_type": "markdown",
      "metadata": {
        "id": "rAdphbQ9Bhjc"
      },
      "source": [
        "##### Which all features you found important and why?"
      ]
    },
    {
      "cell_type": "markdown",
      "metadata": {
        "id": "fGgaEstsBnaf"
      },
      "source": [
        "Answer Here."
      ]
    },
    {
      "cell_type": "markdown",
      "metadata": {
        "id": "TNVZ9zx19K6k"
      },
      "source": [
        "### 5. Data Transformation"
      ]
    },
    {
      "cell_type": "markdown",
      "metadata": {
        "id": "nqoHp30x9hH9"
      },
      "source": [
        "#### Do you think that your data needs to be transformed? If yes, which transformation have you used. Explain Why?"
      ]
    },
    {
      "cell_type": "code",
      "execution_count": null,
      "metadata": {
        "id": "I6quWQ1T9rtH"
      },
      "outputs": [],
      "source": [
        "# Transform Your data"
      ]
    },
    {
      "cell_type": "markdown",
      "metadata": {
        "id": "rMDnDkt2B6du"
      },
      "source": [
        "### 6. Data Scaling"
      ]
    },
    {
      "cell_type": "code",
      "execution_count": null,
      "metadata": {
        "id": "dL9LWpySC6x_"
      },
      "outputs": [],
      "source": [
        "# Scaling your data"
      ]
    },
    {
      "cell_type": "markdown",
      "metadata": {
        "id": "yiiVWRdJDDil"
      },
      "source": [
        "##### Which method have you used to scale you data and why?"
      ]
    },
    {
      "cell_type": "markdown",
      "metadata": {
        "id": "1UUpS68QDMuG"
      },
      "source": [
        "### 7. Dimesionality Reduction"
      ]
    },
    {
      "cell_type": "markdown",
      "metadata": {
        "id": "kexQrXU-DjzY"
      },
      "source": [
        "##### Do you think that dimensionality reduction is needed? Explain Why?"
      ]
    },
    {
      "cell_type": "markdown",
      "metadata": {
        "id": "GGRlBsSGDtTQ"
      },
      "source": [
        "Answer Here."
      ]
    },
    {
      "cell_type": "code",
      "execution_count": null,
      "metadata": {
        "id": "kQfvxBBHDvCa"
      },
      "outputs": [],
      "source": [
        "# DImensionality Reduction (If needed)"
      ]
    },
    {
      "cell_type": "markdown",
      "metadata": {
        "id": "T5CmagL3EC8N"
      },
      "source": [
        "##### Which dimensionality reduction technique have you used and why? (If dimensionality reduction done on dataset.)"
      ]
    },
    {
      "cell_type": "markdown",
      "metadata": {
        "id": "ZKr75IDuEM7t"
      },
      "source": [
        "Answer Here."
      ]
    },
    {
      "cell_type": "markdown",
      "metadata": {
        "id": "BhH2vgX9EjGr"
      },
      "source": [
        "### 8. Data Splitting"
      ]
    },
    {
      "cell_type": "code",
      "execution_count": null,
      "metadata": {
        "id": "0CTyd2UwEyNM"
      },
      "outputs": [],
      "source": [
        "# Split your data to train and test. Choose Splitting ratio wisely."
      ]
    },
    {
      "cell_type": "markdown",
      "metadata": {
        "id": "qjKvONjwE8ra"
      },
      "source": [
        "##### What data splitting ratio have you used and why?"
      ]
    },
    {
      "cell_type": "markdown",
      "metadata": {
        "id": "Y2lJ8cobFDb_"
      },
      "source": [
        "Answer Here."
      ]
    },
    {
      "cell_type": "markdown",
      "metadata": {
        "id": "P1XJ9OREExlT"
      },
      "source": [
        "### 9. Handling Imbalanced Dataset"
      ]
    },
    {
      "cell_type": "markdown",
      "metadata": {
        "id": "VFOzZv6IFROw"
      },
      "source": [
        "##### Do you think the dataset is imbalanced? Explain Why."
      ]
    },
    {
      "cell_type": "markdown",
      "metadata": {
        "id": "GeKDIv7pFgcC"
      },
      "source": [
        "Answer Here."
      ]
    },
    {
      "cell_type": "code",
      "execution_count": null,
      "metadata": {
        "id": "nQsRhhZLFiDs"
      },
      "outputs": [],
      "source": [
        "# Handling Imbalanced Dataset (If needed)"
      ]
    },
    {
      "cell_type": "markdown",
      "metadata": {
        "id": "TIqpNgepFxVj"
      },
      "source": [
        "##### What technique did you use to handle the imbalance dataset and why? (If needed to be balanced)"
      ]
    },
    {
      "cell_type": "markdown",
      "metadata": {
        "id": "qbet1HwdGDTz"
      },
      "source": [
        "Answer Here."
      ]
    },
    {
      "cell_type": "markdown",
      "metadata": {
        "id": "VfCC591jGiD4"
      },
      "source": [
        "## ***6. ML Model Implementation***"
      ]
    },
    {
      "cell_type": "markdown",
      "metadata": {
        "id": "OB4l2ZhMeS1U"
      },
      "source": [
        "### ML Model - 1"
      ]
    },
    {
      "cell_type": "code",
      "execution_count": null,
      "metadata": {
        "id": "7ebyywQieS1U"
      },
      "outputs": [],
      "source": [
        "# ML Model - 1 Implementation\n",
        "\n",
        "# Fit the Algorithm\n",
        "\n",
        "# Predict on the model"
      ]
    },
    {
      "cell_type": "markdown",
      "metadata": {
        "id": "ArJBuiUVfxKd"
      },
      "source": [
        "#### 1. Explain the ML Model used and it's performance using Evaluation metric Score Chart."
      ]
    },
    {
      "cell_type": "code",
      "execution_count": null,
      "metadata": {
        "id": "rqD5ZohzfxKe"
      },
      "outputs": [],
      "source": [
        "# Visualizing evaluation Metric Score chart"
      ]
    },
    {
      "cell_type": "markdown",
      "metadata": {
        "id": "4qY1EAkEfxKe"
      },
      "source": [
        "#### 2. Cross- Validation & Hyperparameter Tuning"
      ]
    },
    {
      "cell_type": "code",
      "execution_count": null,
      "metadata": {
        "id": "Dy61ujd6fxKe"
      },
      "outputs": [],
      "source": [
        "# ML Model - 1 Implementation with hyperparameter optimization techniques (i.e., GridSearch CV, RandomSearch CV, Bayesian Optimization etc.)\n",
        "\n",
        "# Fit the Algorithm\n",
        "\n",
        "# Predict on the model"
      ]
    },
    {
      "cell_type": "markdown",
      "metadata": {
        "id": "PiV4Ypx8fxKe"
      },
      "source": [
        "##### Which hyperparameter optimization technique have you used and why?"
      ]
    },
    {
      "cell_type": "markdown",
      "metadata": {
        "id": "negyGRa7fxKf"
      },
      "source": [
        "Answer Here."
      ]
    },
    {
      "cell_type": "markdown",
      "metadata": {
        "id": "TfvqoZmBfxKf"
      },
      "source": [
        "##### Have you seen any improvement? Note down the improvement with updates Evaluation metric Score Chart."
      ]
    },
    {
      "cell_type": "markdown",
      "metadata": {
        "id": "OaLui8CcfxKf"
      },
      "source": [
        "Answer Here."
      ]
    },
    {
      "cell_type": "markdown",
      "metadata": {
        "id": "dJ2tPlVmpsJ0"
      },
      "source": [
        "### ML Model - 2"
      ]
    },
    {
      "cell_type": "markdown",
      "metadata": {
        "id": "JWYfwnehpsJ1"
      },
      "source": [
        "#### 1. Explain the ML Model used and it's performance using Evaluation metric Score Chart."
      ]
    },
    {
      "cell_type": "code",
      "execution_count": null,
      "metadata": {
        "id": "yEl-hgQWpsJ1"
      },
      "outputs": [],
      "source": [
        "# Visualizing evaluation Metric Score chart"
      ]
    },
    {
      "cell_type": "markdown",
      "metadata": {
        "id": "-jK_YjpMpsJ2"
      },
      "source": [
        "#### 2. Cross- Validation & Hyperparameter Tuning"
      ]
    },
    {
      "cell_type": "code",
      "execution_count": null,
      "metadata": {
        "id": "Dn0EOfS6psJ2"
      },
      "outputs": [],
      "source": [
        "# ML Model - 1 Implementation with hyperparameter optimization techniques (i.e., GridSearch CV, RandomSearch CV, Bayesian Optimization etc.)\n",
        "\n",
        "# Fit the Algorithm\n",
        "\n",
        "# Predict on the model"
      ]
    },
    {
      "cell_type": "markdown",
      "metadata": {
        "id": "HAih1iBOpsJ2"
      },
      "source": [
        "##### Which hyperparameter optimization technique have you used and why?"
      ]
    },
    {
      "cell_type": "markdown",
      "metadata": {
        "id": "9kBgjYcdpsJ2"
      },
      "source": [
        "Answer Here."
      ]
    },
    {
      "cell_type": "markdown",
      "metadata": {
        "id": "zVGeBEFhpsJ2"
      },
      "source": [
        "##### Have you seen any improvement? Note down the improvement with updates Evaluation metric Score Chart."
      ]
    },
    {
      "cell_type": "markdown",
      "metadata": {
        "id": "74yRdG6UpsJ3"
      },
      "source": [
        "Answer Here."
      ]
    },
    {
      "cell_type": "markdown",
      "metadata": {
        "id": "bmKjuQ-FpsJ3"
      },
      "source": [
        "#### 3. Explain each evaluation metric's indication towards business and the business impact pf the ML model used."
      ]
    },
    {
      "cell_type": "markdown",
      "metadata": {
        "id": "BDKtOrBQpsJ3"
      },
      "source": [
        "Answer Here."
      ]
    },
    {
      "cell_type": "markdown",
      "metadata": {
        "id": "Fze-IPXLpx6K"
      },
      "source": [
        "### ML Model - 3"
      ]
    },
    {
      "cell_type": "code",
      "execution_count": null,
      "metadata": {
        "id": "FFrSXAtrpx6M"
      },
      "outputs": [],
      "source": [
        "# ML Model - 3 Implementation\n",
        "\n",
        "# Fit the Algorithm\n",
        "\n",
        "# Predict on the model"
      ]
    },
    {
      "cell_type": "markdown",
      "metadata": {
        "id": "7AN1z2sKpx6M"
      },
      "source": [
        "#### 1. Explain the ML Model used and it's performance using Evaluation metric Score Chart."
      ]
    },
    {
      "cell_type": "code",
      "execution_count": null,
      "metadata": {
        "id": "xIY4lxxGpx6M"
      },
      "outputs": [],
      "source": [
        "# Visualizing evaluation Metric Score chart"
      ]
    },
    {
      "cell_type": "markdown",
      "metadata": {
        "id": "9PIHJqyupx6M"
      },
      "source": [
        "#### 2. Cross- Validation & Hyperparameter Tuning"
      ]
    },
    {
      "cell_type": "code",
      "execution_count": null,
      "metadata": {
        "id": "eSVXuaSKpx6M"
      },
      "outputs": [],
      "source": [
        "# ML Model - 3 Implementation with hyperparameter optimization techniques (i.e., GridSearch CV, RandomSearch CV, Bayesian Optimization etc.)\n",
        "\n",
        "# Fit the Algorithm\n",
        "\n",
        "# Predict on the model"
      ]
    },
    {
      "cell_type": "markdown",
      "metadata": {
        "id": "_-qAgymDpx6N"
      },
      "source": [
        "##### Which hyperparameter optimization technique have you used and why?"
      ]
    },
    {
      "cell_type": "markdown",
      "metadata": {
        "id": "lQMffxkwpx6N"
      },
      "source": [
        "Answer Here."
      ]
    },
    {
      "cell_type": "markdown",
      "metadata": {
        "id": "Z-hykwinpx6N"
      },
      "source": [
        "##### Have you seen any improvement? Note down the improvement with updates Evaluation metric Score Chart."
      ]
    },
    {
      "cell_type": "markdown",
      "metadata": {
        "id": "MzVzZC6opx6N"
      },
      "source": [
        "Answer Here."
      ]
    },
    {
      "cell_type": "markdown",
      "metadata": {
        "id": "h_CCil-SKHpo"
      },
      "source": [
        "### 1. Which Evaluation metrics did you consider for a positive business impact and why?"
      ]
    },
    {
      "cell_type": "markdown",
      "metadata": {
        "id": "jHVz9hHDKFms"
      },
      "source": [
        "Answer Here."
      ]
    },
    {
      "cell_type": "markdown",
      "metadata": {
        "id": "cBFFvTBNJzUa"
      },
      "source": [
        "### 2. Which ML model did you choose from the above created models as your final prediction model and why?"
      ]
    },
    {
      "cell_type": "markdown",
      "metadata": {
        "id": "6ksF5Q1LKTVm"
      },
      "source": [
        "Answer Here."
      ]
    },
    {
      "cell_type": "markdown",
      "metadata": {
        "id": "HvGl1hHyA_VK"
      },
      "source": [
        "### 3. Explain the model which you have used and the feature importance using any model explainability tool?"
      ]
    },
    {
      "cell_type": "markdown",
      "metadata": {
        "id": "YnvVTiIxBL-C"
      },
      "source": [
        "Answer Here."
      ]
    },
    {
      "cell_type": "markdown",
      "metadata": {
        "id": "EyNgTHvd2WFk"
      },
      "source": [
        "## ***8.*** ***Future Work (Optional)***"
      ]
    },
    {
      "cell_type": "markdown",
      "metadata": {
        "id": "KH5McJBi2d8v"
      },
      "source": [
        "### 1. Save the best performing ml model in a pickle file or joblib file format for deployment process.\n"
      ]
    },
    {
      "cell_type": "code",
      "execution_count": null,
      "metadata": {
        "id": "bQIANRl32f4J"
      },
      "outputs": [],
      "source": [
        "# Save the File"
      ]
    },
    {
      "cell_type": "markdown",
      "metadata": {
        "id": "iW_Lq9qf2h6X"
      },
      "source": [
        "### 2. Again Load the saved model file and try to predict unseen data for a sanity check.\n"
      ]
    },
    {
      "cell_type": "code",
      "execution_count": null,
      "metadata": {
        "id": "oEXk9ydD2nVC"
      },
      "outputs": [],
      "source": [
        "# Load the File and predict unseen data."
      ]
    },
    {
      "cell_type": "markdown",
      "metadata": {
        "id": "-Kee-DAl2viO"
      },
      "source": [
        "### ***Congrats! Your model is successfully created and ready for deployment on a live server for a real user interaction !!!***"
      ]
    },
    {
      "cell_type": "markdown",
      "metadata": {
        "id": "gCX9965dhzqZ"
      },
      "source": [
        "# **Conclusion**"
      ]
    },
    {
      "cell_type": "markdown",
      "metadata": {
        "id": "Fjb1IsQkh3yE"
      },
      "source": [
        "Write the conclusion here."
      ]
    },
    {
      "cell_type": "markdown",
      "metadata": {
        "id": "gIfDvo9L0UH2"
      },
      "source": [
        "### ***Hurrah! You have successfully completed your Machine Learning Capstone Project !!!***"
      ]
    }
  ],
  "metadata": {
    "colab": {
      "collapsed_sections": [
        "vncDsAP0Gaoa",
        "w6K7xa23Elo4",
        "HhfV-JJviCcP",
        "Y3lxredqlCYt",
        "3RnN4peoiCZX",
        "x71ZqKXriCWQ",
        "7hBIi_osiCS2",
        "JlHwYmJAmNHm",
        "35m5QtbWiB9F",
        "PoPl-ycgm1ru",
        "nA9Y7ga8ng1Z",
        "PBTbrJXOngz2",
        "u3PMJOP6ngxN",
        "bKJF3rekwFvQ",
        "0wOQAZs5pc--",
        "KSlN3yHqYklG",
        "EM7whBJCYoAo",
        "4Of9eVA-YrdM",
        "bamQiAODYuh1",
        "OH-pJp9IphqM",
        "PIIx-8_IphqN",
        "7wuGOrhz0itI",
        "id1riN9m0vUs",
        "578E2V7j08f6",
        "89xtkJwZ18nB",
        "67NQN5KX2AMe",
        "Iwf50b-R2tYG",
        "GMQiZwjn3iu7",
        "WVIkgGqN3qsr",
        "XkPnILGE3zoT",
        "Hlsf0x5436Go",
        "mT9DMSJo4nBL",
        "c49ITxTc407N",
        "OeJFEK0N496M",
        "9ExmJH0g5HBk",
        "cJNqERVU536h",
        "k5UmGsbsOxih",
        "T0VqWOYE6DLQ",
        "qBMux9mC6MCf",
        "-oLEiFgy-5Pf",
        "C74aWNz2AliB",
        "2DejudWSA-a0",
        "pEMng2IbBLp7",
        "rAdphbQ9Bhjc",
        "TNVZ9zx19K6k",
        "nqoHp30x9hH9",
        "rMDnDkt2B6du",
        "yiiVWRdJDDil",
        "1UUpS68QDMuG",
        "kexQrXU-DjzY",
        "T5CmagL3EC8N",
        "BhH2vgX9EjGr",
        "qjKvONjwE8ra",
        "P1XJ9OREExlT",
        "VFOzZv6IFROw",
        "TIqpNgepFxVj",
        "VfCC591jGiD4",
        "OB4l2ZhMeS1U",
        "ArJBuiUVfxKd",
        "4qY1EAkEfxKe",
        "PiV4Ypx8fxKe",
        "TfvqoZmBfxKf",
        "dJ2tPlVmpsJ0",
        "JWYfwnehpsJ1",
        "-jK_YjpMpsJ2",
        "HAih1iBOpsJ2",
        "zVGeBEFhpsJ2",
        "bmKjuQ-FpsJ3",
        "Fze-IPXLpx6K",
        "7AN1z2sKpx6M",
        "9PIHJqyupx6M",
        "_-qAgymDpx6N",
        "Z-hykwinpx6N",
        "h_CCil-SKHpo",
        "cBFFvTBNJzUa",
        "HvGl1hHyA_VK",
        "EyNgTHvd2WFk",
        "KH5McJBi2d8v",
        "iW_Lq9qf2h6X",
        "-Kee-DAl2viO",
        "gCX9965dhzqZ",
        "gIfDvo9L0UH2"
      ],
      "provenance": [],
      "include_colab_link": true
    },
    "kernelspec": {
      "display_name": "Python 3",
      "name": "python3"
    },
    "language_info": {
      "codemirror_mode": {
        "name": "ipython",
        "version": 3
      },
      "file_extension": ".py",
      "mimetype": "text/x-python",
      "name": "python",
      "nbconvert_exporter": "python",
      "pygments_lexer": "ipython3",
      "version": "3.11.3"
    }
  },
  "nbformat": 4,
  "nbformat_minor": 0
}