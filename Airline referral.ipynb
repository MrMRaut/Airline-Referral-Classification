{
 "cells": [
  {
   "cell_type": "code",
   "execution_count": 1,
   "id": "2e786317",
   "metadata": {},
   "outputs": [],
   "source": [
    "import pandas as pd\n",
    "import numpy as np\n",
    "import seaborn as sns\n",
    "import matplotlib.pyplot as plt\n",
    "%matplotlib inline\n",
    "import warnings\n",
    "warnings.filterwarnings('ignore')\n",
    "\n",
    "## Scikit Learn\n",
    "\n",
    "from sklearn.model_selection import train_test_split,cross_val_score, GridSearchCV\n",
    "from sklearn.metrics import *\n",
    "from sklearn.tree import DecisionTreeRegressor\n",
    "from sklearn.feature_selection import RFE\n",
    "from sklearn.preprocessing import MinMaxScaler,StandardScaler,OneHotEncoder   ### onrhot convert 0&1\n",
    "from sklearn.compose import ColumnTransformer#### col tranform\n",
    "from sklearn.feature_selection import SelectFromModel\n",
    "import joblib\n",
    "import datetime \n",
    "\n",
    "from sklearn import datasets\n",
    "from sklearn.svm import SVC\n",
    "from sklearn.svm import SVR\n",
    "from sklearn.metrics import roc_curve, auc\n",
    "from sklearn.preprocessing import label_binarize\n",
    "from sklearn.multiclass import OneVsRestClassifier\n",
    "\n",
    "from sklearn.linear_model import LogisticRegression\n",
    "\n",
    "from collections import Counter\n",
    "from sklearn import model_selection, naive_bayes, svm, metrics, feature_extraction\n",
    "\n",
    "\n",
    "## Statsmodel\n",
    "import statsmodels.api as sm"
   ]
  },
  {
   "cell_type": "code",
   "execution_count": 2,
   "id": "6f818fc9",
   "metadata": {},
   "outputs": [],
   "source": [
    "df = pd.read_excel(r'C:\\Users\\Hp\\Downloads\\Practice Data frames\\Database\\data_airline_reviews.xlsx')"
   ]
  },
  {
   "cell_type": "code",
   "execution_count": 3,
   "id": "207daa77",
   "metadata": {},
   "outputs": [
    {
     "data": {
      "text/html": [
       "<div>\n",
       "<style scoped>\n",
       "    .dataframe tbody tr th:only-of-type {\n",
       "        vertical-align: middle;\n",
       "    }\n",
       "\n",
       "    .dataframe tbody tr th {\n",
       "        vertical-align: top;\n",
       "    }\n",
       "\n",
       "    .dataframe thead th {\n",
       "        text-align: right;\n",
       "    }\n",
       "</style>\n",
       "<table border=\"1\" class=\"dataframe\">\n",
       "  <thead>\n",
       "    <tr style=\"text-align: right;\">\n",
       "      <th></th>\n",
       "      <th>airline</th>\n",
       "      <th>overall</th>\n",
       "      <th>author</th>\n",
       "      <th>review_date</th>\n",
       "      <th>customer_review</th>\n",
       "      <th>aircraft</th>\n",
       "      <th>traveller_type</th>\n",
       "      <th>cabin</th>\n",
       "      <th>route</th>\n",
       "      <th>date_flown</th>\n",
       "      <th>seat_comfort</th>\n",
       "      <th>cabin_service</th>\n",
       "      <th>food_bev</th>\n",
       "      <th>entertainment</th>\n",
       "      <th>ground_service</th>\n",
       "      <th>value_for_money</th>\n",
       "      <th>recommended</th>\n",
       "    </tr>\n",
       "  </thead>\n",
       "  <tbody>\n",
       "    <tr>\n",
       "      <th>0</th>\n",
       "      <td>NaN</td>\n",
       "      <td>NaN</td>\n",
       "      <td>NaN</td>\n",
       "      <td>NaN</td>\n",
       "      <td>NaN</td>\n",
       "      <td>NaN</td>\n",
       "      <td>NaN</td>\n",
       "      <td>NaN</td>\n",
       "      <td>NaN</td>\n",
       "      <td>NaN</td>\n",
       "      <td>NaN</td>\n",
       "      <td>NaN</td>\n",
       "      <td>NaN</td>\n",
       "      <td>NaN</td>\n",
       "      <td>NaN</td>\n",
       "      <td>NaN</td>\n",
       "      <td>NaN</td>\n",
       "    </tr>\n",
       "    <tr>\n",
       "      <th>1</th>\n",
       "      <td>Turkish Airlines</td>\n",
       "      <td>7.0</td>\n",
       "      <td>Christopher Hackley</td>\n",
       "      <td>8th May 2019</td>\n",
       "      <td>âœ… Trip Verified | London to Izmir via Istanb...</td>\n",
       "      <td>NaN</td>\n",
       "      <td>Business</td>\n",
       "      <td>Economy Class</td>\n",
       "      <td>London to Izmir via Istanbul</td>\n",
       "      <td>2019-05-01 00:00:00</td>\n",
       "      <td>4.0</td>\n",
       "      <td>5.0</td>\n",
       "      <td>4.0</td>\n",
       "      <td>4.0</td>\n",
       "      <td>2.0</td>\n",
       "      <td>4.0</td>\n",
       "      <td>yes</td>\n",
       "    </tr>\n",
       "    <tr>\n",
       "      <th>2</th>\n",
       "      <td>NaN</td>\n",
       "      <td>NaN</td>\n",
       "      <td>NaN</td>\n",
       "      <td>NaN</td>\n",
       "      <td>NaN</td>\n",
       "      <td>NaN</td>\n",
       "      <td>NaN</td>\n",
       "      <td>NaN</td>\n",
       "      <td>NaN</td>\n",
       "      <td>NaN</td>\n",
       "      <td>NaN</td>\n",
       "      <td>NaN</td>\n",
       "      <td>NaN</td>\n",
       "      <td>NaN</td>\n",
       "      <td>NaN</td>\n",
       "      <td>NaN</td>\n",
       "      <td>NaN</td>\n",
       "    </tr>\n",
       "    <tr>\n",
       "      <th>3</th>\n",
       "      <td>Turkish Airlines</td>\n",
       "      <td>2.0</td>\n",
       "      <td>Adriana Pisoi</td>\n",
       "      <td>7th May 2019</td>\n",
       "      <td>âœ… Trip Verified | Istanbul to Bucharest. We ...</td>\n",
       "      <td>NaN</td>\n",
       "      <td>Family Leisure</td>\n",
       "      <td>Economy Class</td>\n",
       "      <td>Istanbul to Bucharest</td>\n",
       "      <td>2019-05-01 00:00:00</td>\n",
       "      <td>4.0</td>\n",
       "      <td>1.0</td>\n",
       "      <td>1.0</td>\n",
       "      <td>1.0</td>\n",
       "      <td>1.0</td>\n",
       "      <td>1.0</td>\n",
       "      <td>no</td>\n",
       "    </tr>\n",
       "    <tr>\n",
       "      <th>4</th>\n",
       "      <td>NaN</td>\n",
       "      <td>NaN</td>\n",
       "      <td>NaN</td>\n",
       "      <td>NaN</td>\n",
       "      <td>NaN</td>\n",
       "      <td>NaN</td>\n",
       "      <td>NaN</td>\n",
       "      <td>NaN</td>\n",
       "      <td>NaN</td>\n",
       "      <td>NaN</td>\n",
       "      <td>NaN</td>\n",
       "      <td>NaN</td>\n",
       "      <td>NaN</td>\n",
       "      <td>NaN</td>\n",
       "      <td>NaN</td>\n",
       "      <td>NaN</td>\n",
       "      <td>NaN</td>\n",
       "    </tr>\n",
       "    <tr>\n",
       "      <th>...</th>\n",
       "      <td>...</td>\n",
       "      <td>...</td>\n",
       "      <td>...</td>\n",
       "      <td>...</td>\n",
       "      <td>...</td>\n",
       "      <td>...</td>\n",
       "      <td>...</td>\n",
       "      <td>...</td>\n",
       "      <td>...</td>\n",
       "      <td>...</td>\n",
       "      <td>...</td>\n",
       "      <td>...</td>\n",
       "      <td>...</td>\n",
       "      <td>...</td>\n",
       "      <td>...</td>\n",
       "      <td>...</td>\n",
       "      <td>...</td>\n",
       "    </tr>\n",
       "    <tr>\n",
       "      <th>131890</th>\n",
       "      <td>Ukraine International</td>\n",
       "      <td>NaN</td>\n",
       "      <td>Andriy Yesypenko</td>\n",
       "      <td>19th May 2006</td>\n",
       "      <td>Kiev - London (Gatwick) in business class (in ...</td>\n",
       "      <td>NaN</td>\n",
       "      <td>NaN</td>\n",
       "      <td>NaN</td>\n",
       "      <td>NaN</td>\n",
       "      <td>NaN</td>\n",
       "      <td>NaN</td>\n",
       "      <td>NaN</td>\n",
       "      <td>NaN</td>\n",
       "      <td>NaN</td>\n",
       "      <td>NaN</td>\n",
       "      <td>NaN</td>\n",
       "      <td>no</td>\n",
       "    </tr>\n",
       "    <tr>\n",
       "      <th>131891</th>\n",
       "      <td>NaN</td>\n",
       "      <td>NaN</td>\n",
       "      <td>NaN</td>\n",
       "      <td>NaN</td>\n",
       "      <td>NaN</td>\n",
       "      <td>NaN</td>\n",
       "      <td>NaN</td>\n",
       "      <td>NaN</td>\n",
       "      <td>NaN</td>\n",
       "      <td>NaN</td>\n",
       "      <td>NaN</td>\n",
       "      <td>NaN</td>\n",
       "      <td>NaN</td>\n",
       "      <td>NaN</td>\n",
       "      <td>NaN</td>\n",
       "      <td>NaN</td>\n",
       "      <td>NaN</td>\n",
       "    </tr>\n",
       "    <tr>\n",
       "      <th>131892</th>\n",
       "      <td>Ukraine International</td>\n",
       "      <td>NaN</td>\n",
       "      <td>Volodya Bilotkach</td>\n",
       "      <td>29th April 2006</td>\n",
       "      <td>Several flights - KBP to AMS (3 times one way)...</td>\n",
       "      <td>NaN</td>\n",
       "      <td>NaN</td>\n",
       "      <td>NaN</td>\n",
       "      <td>NaN</td>\n",
       "      <td>NaN</td>\n",
       "      <td>NaN</td>\n",
       "      <td>NaN</td>\n",
       "      <td>NaN</td>\n",
       "      <td>NaN</td>\n",
       "      <td>NaN</td>\n",
       "      <td>NaN</td>\n",
       "      <td>no</td>\n",
       "    </tr>\n",
       "    <tr>\n",
       "      <th>131893</th>\n",
       "      <td>NaN</td>\n",
       "      <td>NaN</td>\n",
       "      <td>NaN</td>\n",
       "      <td>NaN</td>\n",
       "      <td>NaN</td>\n",
       "      <td>NaN</td>\n",
       "      <td>NaN</td>\n",
       "      <td>NaN</td>\n",
       "      <td>NaN</td>\n",
       "      <td>NaN</td>\n",
       "      <td>NaN</td>\n",
       "      <td>NaN</td>\n",
       "      <td>NaN</td>\n",
       "      <td>NaN</td>\n",
       "      <td>NaN</td>\n",
       "      <td>NaN</td>\n",
       "      <td>NaN</td>\n",
       "    </tr>\n",
       "    <tr>\n",
       "      <th>131894</th>\n",
       "      <td>Ukraine International</td>\n",
       "      <td>NaN</td>\n",
       "      <td>Kasper Hettinga</td>\n",
       "      <td>10th February 2006</td>\n",
       "      <td>KBP-AMS with UIA. Although it was a relatively...</td>\n",
       "      <td>NaN</td>\n",
       "      <td>NaN</td>\n",
       "      <td>NaN</td>\n",
       "      <td>NaN</td>\n",
       "      <td>NaN</td>\n",
       "      <td>NaN</td>\n",
       "      <td>NaN</td>\n",
       "      <td>NaN</td>\n",
       "      <td>NaN</td>\n",
       "      <td>NaN</td>\n",
       "      <td>NaN</td>\n",
       "      <td>no</td>\n",
       "    </tr>\n",
       "  </tbody>\n",
       "</table>\n",
       "<p>131895 rows × 17 columns</p>\n",
       "</div>"
      ],
      "text/plain": [
       "                      airline  overall               author  \\\n",
       "0                         NaN      NaN                  NaN   \n",
       "1            Turkish Airlines      7.0  Christopher Hackley   \n",
       "2                         NaN      NaN                  NaN   \n",
       "3            Turkish Airlines      2.0        Adriana Pisoi   \n",
       "4                         NaN      NaN                  NaN   \n",
       "...                       ...      ...                  ...   \n",
       "131890  Ukraine International      NaN     Andriy Yesypenko   \n",
       "131891                    NaN      NaN                  NaN   \n",
       "131892  Ukraine International      NaN    Volodya Bilotkach   \n",
       "131893                    NaN      NaN                  NaN   \n",
       "131894  Ukraine International      NaN      Kasper Hettinga   \n",
       "\n",
       "               review_date                                    customer_review  \\\n",
       "0                      NaN                                                NaN   \n",
       "1             8th May 2019  âœ… Trip Verified | London to Izmir via Istanb...   \n",
       "2                      NaN                                                NaN   \n",
       "3             7th May 2019  âœ… Trip Verified | Istanbul to Bucharest. We ...   \n",
       "4                      NaN                                                NaN   \n",
       "...                    ...                                                ...   \n",
       "131890       19th May 2006  Kiev - London (Gatwick) in business class (in ...   \n",
       "131891                 NaN                                                NaN   \n",
       "131892     29th April 2006  Several flights - KBP to AMS (3 times one way)...   \n",
       "131893                 NaN                                                NaN   \n",
       "131894  10th February 2006  KBP-AMS with UIA. Although it was a relatively...   \n",
       "\n",
       "       aircraft  traveller_type          cabin                         route  \\\n",
       "0           NaN             NaN            NaN                           NaN   \n",
       "1           NaN        Business  Economy Class  London to Izmir via Istanbul   \n",
       "2           NaN             NaN            NaN                           NaN   \n",
       "3           NaN  Family Leisure  Economy Class         Istanbul to Bucharest   \n",
       "4           NaN             NaN            NaN                           NaN   \n",
       "...         ...             ...            ...                           ...   \n",
       "131890      NaN             NaN            NaN                           NaN   \n",
       "131891      NaN             NaN            NaN                           NaN   \n",
       "131892      NaN             NaN            NaN                           NaN   \n",
       "131893      NaN             NaN            NaN                           NaN   \n",
       "131894      NaN             NaN            NaN                           NaN   \n",
       "\n",
       "                 date_flown  seat_comfort  cabin_service  food_bev  \\\n",
       "0                       NaN           NaN            NaN       NaN   \n",
       "1       2019-05-01 00:00:00           4.0            5.0       4.0   \n",
       "2                       NaN           NaN            NaN       NaN   \n",
       "3       2019-05-01 00:00:00           4.0            1.0       1.0   \n",
       "4                       NaN           NaN            NaN       NaN   \n",
       "...                     ...           ...            ...       ...   \n",
       "131890                  NaN           NaN            NaN       NaN   \n",
       "131891                  NaN           NaN            NaN       NaN   \n",
       "131892                  NaN           NaN            NaN       NaN   \n",
       "131893                  NaN           NaN            NaN       NaN   \n",
       "131894                  NaN           NaN            NaN       NaN   \n",
       "\n",
       "        entertainment  ground_service  value_for_money recommended  \n",
       "0                 NaN             NaN              NaN         NaN  \n",
       "1                 4.0             2.0              4.0         yes  \n",
       "2                 NaN             NaN              NaN         NaN  \n",
       "3                 1.0             1.0              1.0          no  \n",
       "4                 NaN             NaN              NaN         NaN  \n",
       "...               ...             ...              ...         ...  \n",
       "131890            NaN             NaN              NaN          no  \n",
       "131891            NaN             NaN              NaN         NaN  \n",
       "131892            NaN             NaN              NaN          no  \n",
       "131893            NaN             NaN              NaN         NaN  \n",
       "131894            NaN             NaN              NaN          no  \n",
       "\n",
       "[131895 rows x 17 columns]"
      ]
     },
     "execution_count": 3,
     "metadata": {},
     "output_type": "execute_result"
    }
   ],
   "source": [
    "df"
   ]
  },
  {
   "cell_type": "code",
   "execution_count": 4,
   "id": "a76a04f6",
   "metadata": {},
   "outputs": [
    {
     "data": {
      "text/plain": [
       "((131895, 17),\n",
       " airline             65948\n",
       " customer_review     65948\n",
       " author              65948\n",
       " review_date         65948\n",
       " recommended         67455\n",
       " overall             67878\n",
       " value_for_money     67920\n",
       " cabin               68592\n",
       " cabin_service       71180\n",
       " seat_comfort        71214\n",
       " food_bev            79287\n",
       " entertainment       87702\n",
       " traveller_type      92140\n",
       " route               92169\n",
       " date_flown          92262\n",
       " ground_service      92537\n",
       " aircraft           112177\n",
       " dtype: int64)"
      ]
     },
     "execution_count": 4,
     "metadata": {},
     "output_type": "execute_result"
    }
   ],
   "source": [
    "df.shape,df.isnull().sum().sort_values()"
   ]
  },
  {
   "cell_type": "code",
   "execution_count": 5,
   "id": "f237083d",
   "metadata": {},
   "outputs": [],
   "source": [
    "# Due to presence of null rows after every row the size of the original dataset was 131895 \n",
    "# After treating null rows we should expect around half of the original data set which is around 131865/2 = 65932.5"
   ]
  },
  {
   "cell_type": "code",
   "execution_count": 6,
   "id": "5a56c63c",
   "metadata": {},
   "outputs": [
    {
     "data": {
      "text/plain": [
       "(65947, 17)"
      ]
     },
     "execution_count": 6,
     "metadata": {},
     "output_type": "execute_result"
    }
   ],
   "source": [
    "df = df[df.airline.notnull()]\n",
    "df.shape"
   ]
  },
  {
   "cell_type": "code",
   "execution_count": 7,
   "id": "d421bf82",
   "metadata": {},
   "outputs": [],
   "source": [
    "dfn = df.copy() # Backup variable"
   ]
  },
  {
   "cell_type": "code",
   "execution_count": 8,
   "id": "9a219c52",
   "metadata": {},
   "outputs": [],
   "source": [
    "df = dfn.copy()"
   ]
  },
  {
   "cell_type": "code",
   "execution_count": 9,
   "id": "7c832703",
   "metadata": {
    "scrolled": false
   },
   "outputs": [
    {
     "data": {
      "text/plain": [
       "<Axes: >"
      ]
     },
     "execution_count": 9,
     "metadata": {},
     "output_type": "execute_result"
    },
    {
     "data": {
      "image/png": "[encoded data removed]",
      "text/plain": [
       "<Figure size 640x480 with 2 Axes>"
      ]
     },
     "metadata": {},
     "output_type": "display_data"
    }
   ],
   "source": [
    "sns.heatmap(df.isnull())"
   ]
  },
  {
   "cell_type": "code",
   "execution_count": 10,
   "id": "fb3af218",
   "metadata": {
    "scrolled": false
   },
   "outputs": [
    {
     "data": {
      "text/html": [
       "<div>\n",
       "<style scoped>\n",
       "    .dataframe tbody tr th:only-of-type {\n",
       "        vertical-align: middle;\n",
       "    }\n",
       "\n",
       "    .dataframe tbody tr th {\n",
       "        vertical-align: top;\n",
       "    }\n",
       "\n",
       "    .dataframe thead th {\n",
       "        text-align: right;\n",
       "    }\n",
       "</style>\n",
       "<table border=\"1\" class=\"dataframe\">\n",
       "  <thead>\n",
       "    <tr style=\"text-align: right;\">\n",
       "      <th></th>\n",
       "      <th>Data Type</th>\n",
       "      <th>Null Count</th>\n",
       "      <th>Null Count %</th>\n",
       "    </tr>\n",
       "  </thead>\n",
       "  <tbody>\n",
       "    <tr>\n",
       "      <th>aircraft</th>\n",
       "      <td>object</td>\n",
       "      <td>46229</td>\n",
       "      <td>70.1</td>\n",
       "    </tr>\n",
       "    <tr>\n",
       "      <th>ground_service</th>\n",
       "      <td>float64</td>\n",
       "      <td>26589</td>\n",
       "      <td>40.32</td>\n",
       "    </tr>\n",
       "    <tr>\n",
       "      <th>date_flown</th>\n",
       "      <td>object</td>\n",
       "      <td>26314</td>\n",
       "      <td>39.9</td>\n",
       "    </tr>\n",
       "    <tr>\n",
       "      <th>route</th>\n",
       "      <td>object</td>\n",
       "      <td>26221</td>\n",
       "      <td>39.76</td>\n",
       "    </tr>\n",
       "    <tr>\n",
       "      <th>traveller_type</th>\n",
       "      <td>object</td>\n",
       "      <td>26192</td>\n",
       "      <td>39.72</td>\n",
       "    </tr>\n",
       "    <tr>\n",
       "      <th>entertainment</th>\n",
       "      <td>float64</td>\n",
       "      <td>21754</td>\n",
       "      <td>32.99</td>\n",
       "    </tr>\n",
       "    <tr>\n",
       "      <th>food_bev</th>\n",
       "      <td>float64</td>\n",
       "      <td>13339</td>\n",
       "      <td>20.23</td>\n",
       "    </tr>\n",
       "    <tr>\n",
       "      <th>seat_comfort</th>\n",
       "      <td>float64</td>\n",
       "      <td>5266</td>\n",
       "      <td>7.99</td>\n",
       "    </tr>\n",
       "    <tr>\n",
       "      <th>cabin_service</th>\n",
       "      <td>float64</td>\n",
       "      <td>5232</td>\n",
       "      <td>7.93</td>\n",
       "    </tr>\n",
       "    <tr>\n",
       "      <th>cabin</th>\n",
       "      <td>object</td>\n",
       "      <td>2644</td>\n",
       "      <td>4.01</td>\n",
       "    </tr>\n",
       "    <tr>\n",
       "      <th>value_for_money</th>\n",
       "      <td>float64</td>\n",
       "      <td>1972</td>\n",
       "      <td>2.99</td>\n",
       "    </tr>\n",
       "    <tr>\n",
       "      <th>overall</th>\n",
       "      <td>float64</td>\n",
       "      <td>1930</td>\n",
       "      <td>2.93</td>\n",
       "    </tr>\n",
       "    <tr>\n",
       "      <th>recommended</th>\n",
       "      <td>object</td>\n",
       "      <td>1507</td>\n",
       "      <td>2.29</td>\n",
       "    </tr>\n",
       "    <tr>\n",
       "      <th>customer_review</th>\n",
       "      <td>object</td>\n",
       "      <td>0</td>\n",
       "      <td>0.0</td>\n",
       "    </tr>\n",
       "    <tr>\n",
       "      <th>review_date</th>\n",
       "      <td>object</td>\n",
       "      <td>0</td>\n",
       "      <td>0.0</td>\n",
       "    </tr>\n",
       "    <tr>\n",
       "      <th>author</th>\n",
       "      <td>object</td>\n",
       "      <td>0</td>\n",
       "      <td>0.0</td>\n",
       "    </tr>\n",
       "    <tr>\n",
       "      <th>airline</th>\n",
       "      <td>object</td>\n",
       "      <td>0</td>\n",
       "      <td>0.0</td>\n",
       "    </tr>\n",
       "  </tbody>\n",
       "</table>\n",
       "</div>"
      ],
      "text/plain": [
       "                Data Type Null Count  Null Count %\n",
       "aircraft           object       46229         70.1\n",
       "ground_service    float64       26589        40.32\n",
       "date_flown         object       26314         39.9\n",
       "route              object       26221        39.76\n",
       "traveller_type     object       26192        39.72\n",
       "entertainment     float64       21754        32.99\n",
       "food_bev          float64       13339        20.23\n",
       "seat_comfort      float64        5266         7.99\n",
       "cabin_service     float64        5232         7.93\n",
       "cabin              object        2644         4.01\n",
       "value_for_money   float64        1972         2.99\n",
       "overall           float64        1930         2.93\n",
       "recommended        object        1507         2.29\n",
       "customer_review    object           0          0.0\n",
       "review_date        object           0          0.0\n",
       "author             object           0          0.0\n",
       "airline            object           0          0.0"
      ]
     },
     "execution_count": 10,
     "metadata": {},
     "output_type": "execute_result"
    }
   ],
   "source": [
    "x = pd.DataFrame([df.dtypes, df.isnull().sum(), round((df.isnull().sum()*100/len(df)), 2)]).transpose()\n",
    "x.rename(columns={0:'Data Type', 1:'Null Count ', 2:'Null Count %'}, inplace = True)\n",
    "x.sort_values(by = ['Null Count %'], ascending = False)\n"
   ]
  },
  {
   "cell_type": "code",
   "execution_count": 11,
   "id": "bca335bc",
   "metadata": {},
   "outputs": [
    {
     "data": {
      "text/plain": [
       "(24549, 2088)"
      ]
     },
     "execution_count": 11,
     "metadata": {},
     "output_type": "execute_result"
    }
   ],
   "source": [
    "df.route.nunique(), df.aircraft.nunique()"
   ]
  },
  {
   "cell_type": "code",
   "execution_count": 12,
   "id": "03152ae7",
   "metadata": {},
   "outputs": [],
   "source": [
    "# Dropping unnecessary features\n",
    "df.drop(['aircraft', 'route', 'date_flown'], axis = 1, inplace = True)"
   ]
  },
  {
   "cell_type": "code",
   "execution_count": 13,
   "id": "9fc03fa5",
   "metadata": {},
   "outputs": [
    {
     "data": {
      "image/png": "[encoded data removed]",
      "text/plain": [
       "<Figure size 1000x600 with 1 Axes>"
      ]
     },
     "metadata": {},
     "output_type": "display_data"
    }
   ],
   "source": [
    "plt.figure(figsize=(10, 6))\n",
    "sns.countplot(x = df.traveller_type , hue = df['cabin'], saturation=.8)\n",
    "plt.grid()\n",
    "plt.show()"
   ]
  },
  {
   "cell_type": "code",
   "execution_count": 14,
   "id": "2004067c",
   "metadata": {},
   "outputs": [],
   "source": [
    "# BY analysing above figure, filling the traveller_type, cabin by using f-fill function\n",
    "df.traveller_type.ffill(inplace = True)\n",
    "df.cabin.ffill(inplace = True)"
   ]
  },
  {
   "cell_type": "code",
   "execution_count": 15,
   "id": "721c900c",
   "metadata": {},
   "outputs": [],
   "source": [
    "# Droping null values from overall, recommended and value_for_money since the 2% data loss is negligible.\n",
    "df = df[(df.overall.notnull()) & (df.recommended.notnull()) & (df.value_for_money.notnull())]"
   ]
  },
  {
   "cell_type": "code",
   "execution_count": 16,
   "id": "ff702040",
   "metadata": {},
   "outputs": [],
   "source": [
    "# Validating Overall review is average of other services reviews\n",
    "\n",
    "rev_lst = ['seat_comfort','cabin_service','food_bev','entertainment','ground_service','value_for_money']\n",
    "rev = pd.DataFrame([])\n",
    "for i in rev_lst:\n",
    "    rev[f'{i}'] = df[f'{i}']*2"
   ]
  },
  {
   "cell_type": "code",
   "execution_count": 17,
   "id": "855cda10",
   "metadata": {},
   "outputs": [],
   "source": [
    "rev['avg'] = rev.mean(axis = 1)\n",
    "rev['avg_round'] = np.floor(rev.avg)"
   ]
  },
  {
   "cell_type": "code",
   "execution_count": 18,
   "id": "1538b416",
   "metadata": {},
   "outputs": [],
   "source": [
    "rev.dropna(inplace = True)"
   ]
  },
  {
   "cell_type": "code",
   "execution_count": 19,
   "id": "70cf30f4",
   "metadata": {},
   "outputs": [
    {
     "data": {
      "text/html": [
       "<div>\n",
       "<style scoped>\n",
       "    .dataframe tbody tr th:only-of-type {\n",
       "        vertical-align: middle;\n",
       "    }\n",
       "\n",
       "    .dataframe tbody tr th {\n",
       "        vertical-align: top;\n",
       "    }\n",
       "\n",
       "    .dataframe thead th {\n",
       "        text-align: right;\n",
       "    }\n",
       "</style>\n",
       "<table border=\"1\" class=\"dataframe\">\n",
       "  <thead>\n",
       "    <tr style=\"text-align: right;\">\n",
       "      <th></th>\n",
       "      <th>seat_comfort</th>\n",
       "      <th>cabin_service</th>\n",
       "      <th>food_bev</th>\n",
       "      <th>entertainment</th>\n",
       "      <th>ground_service</th>\n",
       "      <th>value_for_money</th>\n",
       "      <th>avg</th>\n",
       "      <th>avg_round</th>\n",
       "    </tr>\n",
       "  </thead>\n",
       "  <tbody>\n",
       "    <tr>\n",
       "      <th>1</th>\n",
       "      <td>8.0</td>\n",
       "      <td>10.0</td>\n",
       "      <td>8.0</td>\n",
       "      <td>8.0</td>\n",
       "      <td>4.0</td>\n",
       "      <td>8.0</td>\n",
       "      <td>7.666667</td>\n",
       "      <td>7.0</td>\n",
       "    </tr>\n",
       "    <tr>\n",
       "      <th>3</th>\n",
       "      <td>8.0</td>\n",
       "      <td>2.0</td>\n",
       "      <td>2.0</td>\n",
       "      <td>2.0</td>\n",
       "      <td>2.0</td>\n",
       "      <td>2.0</td>\n",
       "      <td>3.000000</td>\n",
       "      <td>3.0</td>\n",
       "    </tr>\n",
       "    <tr>\n",
       "      <th>5</th>\n",
       "      <td>2.0</td>\n",
       "      <td>8.0</td>\n",
       "      <td>2.0</td>\n",
       "      <td>6.0</td>\n",
       "      <td>2.0</td>\n",
       "      <td>4.0</td>\n",
       "      <td>4.000000</td>\n",
       "      <td>4.0</td>\n",
       "    </tr>\n",
       "    <tr>\n",
       "      <th>7</th>\n",
       "      <td>8.0</td>\n",
       "      <td>10.0</td>\n",
       "      <td>10.0</td>\n",
       "      <td>10.0</td>\n",
       "      <td>10.0</td>\n",
       "      <td>10.0</td>\n",
       "      <td>9.666667</td>\n",
       "      <td>9.0</td>\n",
       "    </tr>\n",
       "    <tr>\n",
       "      <th>9</th>\n",
       "      <td>2.0</td>\n",
       "      <td>2.0</td>\n",
       "      <td>2.0</td>\n",
       "      <td>2.0</td>\n",
       "      <td>2.0</td>\n",
       "      <td>2.0</td>\n",
       "      <td>2.000000</td>\n",
       "      <td>2.0</td>\n",
       "    </tr>\n",
       "    <tr>\n",
       "      <th>...</th>\n",
       "      <td>...</td>\n",
       "      <td>...</td>\n",
       "      <td>...</td>\n",
       "      <td>...</td>\n",
       "      <td>...</td>\n",
       "      <td>...</td>\n",
       "      <td>...</td>\n",
       "      <td>...</td>\n",
       "    </tr>\n",
       "    <tr>\n",
       "      <th>131696</th>\n",
       "      <td>2.0</td>\n",
       "      <td>2.0</td>\n",
       "      <td>2.0</td>\n",
       "      <td>2.0</td>\n",
       "      <td>2.0</td>\n",
       "      <td>2.0</td>\n",
       "      <td>2.000000</td>\n",
       "      <td>2.0</td>\n",
       "    </tr>\n",
       "    <tr>\n",
       "      <th>131698</th>\n",
       "      <td>2.0</td>\n",
       "      <td>4.0</td>\n",
       "      <td>2.0</td>\n",
       "      <td>2.0</td>\n",
       "      <td>2.0</td>\n",
       "      <td>2.0</td>\n",
       "      <td>2.333333</td>\n",
       "      <td>2.0</td>\n",
       "    </tr>\n",
       "    <tr>\n",
       "      <th>131702</th>\n",
       "      <td>10.0</td>\n",
       "      <td>10.0</td>\n",
       "      <td>10.0</td>\n",
       "      <td>8.0</td>\n",
       "      <td>8.0</td>\n",
       "      <td>8.0</td>\n",
       "      <td>9.000000</td>\n",
       "      <td>9.0</td>\n",
       "    </tr>\n",
       "    <tr>\n",
       "      <th>131704</th>\n",
       "      <td>2.0</td>\n",
       "      <td>2.0</td>\n",
       "      <td>2.0</td>\n",
       "      <td>2.0</td>\n",
       "      <td>2.0</td>\n",
       "      <td>2.0</td>\n",
       "      <td>2.000000</td>\n",
       "      <td>2.0</td>\n",
       "    </tr>\n",
       "    <tr>\n",
       "      <th>131712</th>\n",
       "      <td>2.0</td>\n",
       "      <td>2.0</td>\n",
       "      <td>2.0</td>\n",
       "      <td>6.0</td>\n",
       "      <td>2.0</td>\n",
       "      <td>10.0</td>\n",
       "      <td>4.000000</td>\n",
       "      <td>4.0</td>\n",
       "    </tr>\n",
       "  </tbody>\n",
       "</table>\n",
       "<p>24595 rows × 8 columns</p>\n",
       "</div>"
      ],
      "text/plain": [
       "        seat_comfort  cabin_service  food_bev  entertainment  ground_service  \\\n",
       "1                8.0           10.0       8.0            8.0             4.0   \n",
       "3                8.0            2.0       2.0            2.0             2.0   \n",
       "5                2.0            8.0       2.0            6.0             2.0   \n",
       "7                8.0           10.0      10.0           10.0            10.0   \n",
       "9                2.0            2.0       2.0            2.0             2.0   \n",
       "...              ...            ...       ...            ...             ...   \n",
       "131696           2.0            2.0       2.0            2.0             2.0   \n",
       "131698           2.0            4.0       2.0            2.0             2.0   \n",
       "131702          10.0           10.0      10.0            8.0             8.0   \n",
       "131704           2.0            2.0       2.0            2.0             2.0   \n",
       "131712           2.0            2.0       2.0            6.0             2.0   \n",
       "\n",
       "        value_for_money       avg  avg_round  \n",
       "1                   8.0  7.666667        7.0  \n",
       "3                   2.0  3.000000        3.0  \n",
       "5                   4.0  4.000000        4.0  \n",
       "7                  10.0  9.666667        9.0  \n",
       "9                   2.0  2.000000        2.0  \n",
       "...                 ...       ...        ...  \n",
       "131696              2.0  2.000000        2.0  \n",
       "131698              2.0  2.333333        2.0  \n",
       "131702              8.0  9.000000        9.0  \n",
       "131704              2.0  2.000000        2.0  \n",
       "131712             10.0  4.000000        4.0  \n",
       "\n",
       "[24595 rows x 8 columns]"
      ]
     },
     "execution_count": 19,
     "metadata": {},
     "output_type": "execute_result"
    }
   ],
   "source": [
    "rev"
   ]
  },
  {
   "cell_type": "code",
   "execution_count": 20,
   "id": "c2d2c8d3",
   "metadata": {},
   "outputs": [
    {
     "data": {
      "text/plain": [
       "<Axes: xlabel='dif', ylabel='Density'>"
      ]
     },
     "execution_count": 20,
     "metadata": {},
     "output_type": "execute_result"
    },
    {
     "data": {
      "image/png": "[encoded data removed]",
      "text/plain": [
       "<Figure size 640x480 with 1 Axes>"
      ]
     },
     "metadata": {},
     "output_type": "display_data"
    }
   ],
   "source": [
    "diff = pd.concat([df.overall, rev.avg_round], axis=1)\n",
    "diff['dif'] = diff.overall - diff.avg_round\n",
    "sns.kdeplot(diff.dif)"
   ]
  },
  {
   "cell_type": "code",
   "execution_count": 21,
   "id": "c00935be",
   "metadata": {},
   "outputs": [],
   "source": [
    "df['overall5'] = np.floor(df['overall']/2)\n",
    "df['ototal'] = df[['overall5','seat_comfort', 'cabin_service', 'food_bev', 'entertainment',\n",
    "                 'ground_service', 'value_for_money']].sum(axis = 1)\n",
    "df['rtotal'] = df[['seat_comfort', 'cabin_service', 'food_bev', 'entertainment',\n",
    "                 'ground_service', 'value_for_money']].sum(axis = 1)\n",
    "df['null_count'] = df.isna().sum(axis = 1)"
   ]
  },
  {
   "cell_type": "code",
   "execution_count": 22,
   "id": "bd5fc895",
   "metadata": {},
   "outputs": [
    {
     "data": {
      "text/plain": [
       "1         3.0\n",
       "3         1.0\n",
       "5         1.0\n",
       "7         4.0\n",
       "9         0.0\n",
       "         ... \n",
       "131858    3.0\n",
       "131860    4.0\n",
       "131862    3.0\n",
       "131864    4.0\n",
       "131866    0.0\n",
       "Length: 62284, dtype: float64"
      ]
     },
     "execution_count": 22,
     "metadata": {},
     "output_type": "execute_result"
    }
   ],
   "source": [
    "np.floor(df.ototal/(7-df.null_count))"
   ]
  },
  {
   "cell_type": "code",
   "execution_count": 23,
   "id": "6dbe4132",
   "metadata": {
    "scrolled": true
   },
   "outputs": [
    {
     "data": {
      "text/html": [
       "<div>\n",
       "<style scoped>\n",
       "    .dataframe tbody tr th:only-of-type {\n",
       "        vertical-align: middle;\n",
       "    }\n",
       "\n",
       "    .dataframe tbody tr th {\n",
       "        vertical-align: top;\n",
       "    }\n",
       "\n",
       "    .dataframe thead th {\n",
       "        text-align: right;\n",
       "    }\n",
       "</style>\n",
       "<table border=\"1\" class=\"dataframe\">\n",
       "  <thead>\n",
       "    <tr style=\"text-align: right;\">\n",
       "      <th></th>\n",
       "      <th>airline</th>\n",
       "      <th>overall</th>\n",
       "      <th>author</th>\n",
       "      <th>review_date</th>\n",
       "      <th>customer_review</th>\n",
       "      <th>traveller_type</th>\n",
       "      <th>cabin</th>\n",
       "      <th>seat_comfort</th>\n",
       "      <th>cabin_service</th>\n",
       "      <th>food_bev</th>\n",
       "      <th>entertainment</th>\n",
       "      <th>ground_service</th>\n",
       "      <th>value_for_money</th>\n",
       "      <th>recommended</th>\n",
       "      <th>overall5</th>\n",
       "      <th>ototal</th>\n",
       "      <th>rtotal</th>\n",
       "      <th>null_count</th>\n",
       "    </tr>\n",
       "  </thead>\n",
       "  <tbody>\n",
       "    <tr>\n",
       "      <th>1</th>\n",
       "      <td>Turkish Airlines</td>\n",
       "      <td>7.0</td>\n",
       "      <td>Christopher Hackley</td>\n",
       "      <td>8th May 2019</td>\n",
       "      <td>âœ… Trip Verified | London to Izmir via Istanb...</td>\n",
       "      <td>Business</td>\n",
       "      <td>Economy Class</td>\n",
       "      <td>4.0</td>\n",
       "      <td>5.0</td>\n",
       "      <td>4.0</td>\n",
       "      <td>4.0</td>\n",
       "      <td>2.0</td>\n",
       "      <td>4.0</td>\n",
       "      <td>yes</td>\n",
       "      <td>3.0</td>\n",
       "      <td>26.0</td>\n",
       "      <td>23.0</td>\n",
       "      <td>0</td>\n",
       "    </tr>\n",
       "    <tr>\n",
       "      <th>3</th>\n",
       "      <td>Turkish Airlines</td>\n",
       "      <td>2.0</td>\n",
       "      <td>Adriana Pisoi</td>\n",
       "      <td>7th May 2019</td>\n",
       "      <td>âœ… Trip Verified | Istanbul to Bucharest. We ...</td>\n",
       "      <td>Family Leisure</td>\n",
       "      <td>Economy Class</td>\n",
       "      <td>4.0</td>\n",
       "      <td>1.0</td>\n",
       "      <td>1.0</td>\n",
       "      <td>1.0</td>\n",
       "      <td>1.0</td>\n",
       "      <td>1.0</td>\n",
       "      <td>no</td>\n",
       "      <td>1.0</td>\n",
       "      <td>10.0</td>\n",
       "      <td>9.0</td>\n",
       "      <td>0</td>\n",
       "    </tr>\n",
       "    <tr>\n",
       "      <th>5</th>\n",
       "      <td>Turkish Airlines</td>\n",
       "      <td>3.0</td>\n",
       "      <td>M Galerko</td>\n",
       "      <td>7th May 2019</td>\n",
       "      <td>âœ… Trip Verified | Rome to Prishtina via Ista...</td>\n",
       "      <td>Business</td>\n",
       "      <td>Economy Class</td>\n",
       "      <td>1.0</td>\n",
       "      <td>4.0</td>\n",
       "      <td>1.0</td>\n",
       "      <td>3.0</td>\n",
       "      <td>1.0</td>\n",
       "      <td>2.0</td>\n",
       "      <td>no</td>\n",
       "      <td>1.0</td>\n",
       "      <td>13.0</td>\n",
       "      <td>12.0</td>\n",
       "      <td>0</td>\n",
       "    </tr>\n",
       "    <tr>\n",
       "      <th>7</th>\n",
       "      <td>Turkish Airlines</td>\n",
       "      <td>10.0</td>\n",
       "      <td>Zeshan Shah</td>\n",
       "      <td>6th May 2019</td>\n",
       "      <td>âœ… Trip Verified | Flew on Turkish Airlines I...</td>\n",
       "      <td>Solo Leisure</td>\n",
       "      <td>Economy Class</td>\n",
       "      <td>4.0</td>\n",
       "      <td>5.0</td>\n",
       "      <td>5.0</td>\n",
       "      <td>5.0</td>\n",
       "      <td>5.0</td>\n",
       "      <td>5.0</td>\n",
       "      <td>yes</td>\n",
       "      <td>5.0</td>\n",
       "      <td>34.0</td>\n",
       "      <td>29.0</td>\n",
       "      <td>0</td>\n",
       "    </tr>\n",
       "    <tr>\n",
       "      <th>9</th>\n",
       "      <td>Turkish Airlines</td>\n",
       "      <td>1.0</td>\n",
       "      <td>Pooja Jain</td>\n",
       "      <td>6th May 2019</td>\n",
       "      <td>âœ… Trip Verified | Mumbai to Dublin via Istan...</td>\n",
       "      <td>Solo Leisure</td>\n",
       "      <td>Economy Class</td>\n",
       "      <td>1.0</td>\n",
       "      <td>1.0</td>\n",
       "      <td>1.0</td>\n",
       "      <td>1.0</td>\n",
       "      <td>1.0</td>\n",
       "      <td>1.0</td>\n",
       "      <td>no</td>\n",
       "      <td>0.0</td>\n",
       "      <td>6.0</td>\n",
       "      <td>6.0</td>\n",
       "      <td>0</td>\n",
       "    </tr>\n",
       "    <tr>\n",
       "      <th>...</th>\n",
       "      <td>...</td>\n",
       "      <td>...</td>\n",
       "      <td>...</td>\n",
       "      <td>...</td>\n",
       "      <td>...</td>\n",
       "      <td>...</td>\n",
       "      <td>...</td>\n",
       "      <td>...</td>\n",
       "      <td>...</td>\n",
       "      <td>...</td>\n",
       "      <td>...</td>\n",
       "      <td>...</td>\n",
       "      <td>...</td>\n",
       "      <td>...</td>\n",
       "      <td>...</td>\n",
       "      <td>...</td>\n",
       "      <td>...</td>\n",
       "      <td>...</td>\n",
       "    </tr>\n",
       "    <tr>\n",
       "      <th>131858</th>\n",
       "      <td>Ukraine International</td>\n",
       "      <td>4.0</td>\n",
       "      <td>Christian Mueller</td>\n",
       "      <td>29th June 2010</td>\n",
       "      <td>Kiev - Frankfurt - Kiev weekly normally with L...</td>\n",
       "      <td>Couple Leisure</td>\n",
       "      <td>Business Class</td>\n",
       "      <td>NaN</td>\n",
       "      <td>NaN</td>\n",
       "      <td>NaN</td>\n",
       "      <td>NaN</td>\n",
       "      <td>NaN</td>\n",
       "      <td>4.0</td>\n",
       "      <td>yes</td>\n",
       "      <td>2.0</td>\n",
       "      <td>6.0</td>\n",
       "      <td>4.0</td>\n",
       "      <td>5</td>\n",
       "    </tr>\n",
       "    <tr>\n",
       "      <th>131860</th>\n",
       "      <td>Ukraine International</td>\n",
       "      <td>8.0</td>\n",
       "      <td>Joerg Lehnert</td>\n",
       "      <td>11th May 2010</td>\n",
       "      <td>Berlin-Kiev-Berlin B737-400. The return flight...</td>\n",
       "      <td>Couple Leisure</td>\n",
       "      <td>Economy Class</td>\n",
       "      <td>NaN</td>\n",
       "      <td>NaN</td>\n",
       "      <td>NaN</td>\n",
       "      <td>NaN</td>\n",
       "      <td>NaN</td>\n",
       "      <td>4.0</td>\n",
       "      <td>yes</td>\n",
       "      <td>4.0</td>\n",
       "      <td>8.0</td>\n",
       "      <td>4.0</td>\n",
       "      <td>5</td>\n",
       "    </tr>\n",
       "    <tr>\n",
       "      <th>131862</th>\n",
       "      <td>Ukraine International</td>\n",
       "      <td>5.0</td>\n",
       "      <td>Y Kahanovych</td>\n",
       "      <td>10th May 2010</td>\n",
       "      <td>Some 5 flights within couple months. Most of t...</td>\n",
       "      <td>Couple Leisure</td>\n",
       "      <td>Economy Class</td>\n",
       "      <td>NaN</td>\n",
       "      <td>NaN</td>\n",
       "      <td>NaN</td>\n",
       "      <td>NaN</td>\n",
       "      <td>NaN</td>\n",
       "      <td>4.0</td>\n",
       "      <td>no</td>\n",
       "      <td>2.0</td>\n",
       "      <td>6.0</td>\n",
       "      <td>4.0</td>\n",
       "      <td>5</td>\n",
       "    </tr>\n",
       "    <tr>\n",
       "      <th>131864</th>\n",
       "      <td>Ukraine International</td>\n",
       "      <td>8.0</td>\n",
       "      <td>H Ritzer</td>\n",
       "      <td>29th April 2010</td>\n",
       "      <td>Vienna-Kiev return in Coach. Check in fine at ...</td>\n",
       "      <td>Couple Leisure</td>\n",
       "      <td>Economy Class</td>\n",
       "      <td>NaN</td>\n",
       "      <td>NaN</td>\n",
       "      <td>NaN</td>\n",
       "      <td>NaN</td>\n",
       "      <td>NaN</td>\n",
       "      <td>4.0</td>\n",
       "      <td>yes</td>\n",
       "      <td>4.0</td>\n",
       "      <td>8.0</td>\n",
       "      <td>4.0</td>\n",
       "      <td>5</td>\n",
       "    </tr>\n",
       "    <tr>\n",
       "      <th>131866</th>\n",
       "      <td>Ukraine International</td>\n",
       "      <td>1.0</td>\n",
       "      <td>N Truman</td>\n",
       "      <td>28th April 2010</td>\n",
       "      <td>I recently booked a trip with travelocity. I f...</td>\n",
       "      <td>Couple Leisure</td>\n",
       "      <td>Economy Class</td>\n",
       "      <td>NaN</td>\n",
       "      <td>NaN</td>\n",
       "      <td>NaN</td>\n",
       "      <td>NaN</td>\n",
       "      <td>NaN</td>\n",
       "      <td>1.0</td>\n",
       "      <td>no</td>\n",
       "      <td>0.0</td>\n",
       "      <td>1.0</td>\n",
       "      <td>1.0</td>\n",
       "      <td>5</td>\n",
       "    </tr>\n",
       "  </tbody>\n",
       "</table>\n",
       "<p>62284 rows × 18 columns</p>\n",
       "</div>"
      ],
      "text/plain": [
       "                      airline  overall               author      review_date  \\\n",
       "1            Turkish Airlines      7.0  Christopher Hackley     8th May 2019   \n",
       "3            Turkish Airlines      2.0        Adriana Pisoi     7th May 2019   \n",
       "5            Turkish Airlines      3.0            M Galerko     7th May 2019   \n",
       "7            Turkish Airlines     10.0          Zeshan Shah     6th May 2019   \n",
       "9            Turkish Airlines      1.0           Pooja Jain     6th May 2019   \n",
       "...                       ...      ...                  ...              ...   \n",
       "131858  Ukraine International      4.0    Christian Mueller   29th June 2010   \n",
       "131860  Ukraine International      8.0        Joerg Lehnert    11th May 2010   \n",
       "131862  Ukraine International      5.0         Y Kahanovych    10th May 2010   \n",
       "131864  Ukraine International      8.0             H Ritzer  29th April 2010   \n",
       "131866  Ukraine International      1.0             N Truman  28th April 2010   \n",
       "\n",
       "                                          customer_review  traveller_type  \\\n",
       "1       âœ… Trip Verified | London to Izmir via Istanb...        Business   \n",
       "3       âœ… Trip Verified | Istanbul to Bucharest. We ...  Family Leisure   \n",
       "5       âœ… Trip Verified | Rome to Prishtina via Ista...        Business   \n",
       "7       âœ… Trip Verified | Flew on Turkish Airlines I...    Solo Leisure   \n",
       "9       âœ… Trip Verified | Mumbai to Dublin via Istan...    Solo Leisure   \n",
       "...                                                   ...             ...   \n",
       "131858  Kiev - Frankfurt - Kiev weekly normally with L...  Couple Leisure   \n",
       "131860  Berlin-Kiev-Berlin B737-400. The return flight...  Couple Leisure   \n",
       "131862  Some 5 flights within couple months. Most of t...  Couple Leisure   \n",
       "131864  Vienna-Kiev return in Coach. Check in fine at ...  Couple Leisure   \n",
       "131866  I recently booked a trip with travelocity. I f...  Couple Leisure   \n",
       "\n",
       "                 cabin  seat_comfort  cabin_service  food_bev  entertainment  \\\n",
       "1        Economy Class           4.0            5.0       4.0            4.0   \n",
       "3        Economy Class           4.0            1.0       1.0            1.0   \n",
       "5        Economy Class           1.0            4.0       1.0            3.0   \n",
       "7        Economy Class           4.0            5.0       5.0            5.0   \n",
       "9        Economy Class           1.0            1.0       1.0            1.0   \n",
       "...                ...           ...            ...       ...            ...   \n",
       "131858  Business Class           NaN            NaN       NaN            NaN   \n",
       "131860   Economy Class           NaN            NaN       NaN            NaN   \n",
       "131862   Economy Class           NaN            NaN       NaN            NaN   \n",
       "131864   Economy Class           NaN            NaN       NaN            NaN   \n",
       "131866   Economy Class           NaN            NaN       NaN            NaN   \n",
       "\n",
       "        ground_service  value_for_money recommended  overall5  ototal  rtotal  \\\n",
       "1                  2.0              4.0         yes       3.0    26.0    23.0   \n",
       "3                  1.0              1.0          no       1.0    10.0     9.0   \n",
       "5                  1.0              2.0          no       1.0    13.0    12.0   \n",
       "7                  5.0              5.0         yes       5.0    34.0    29.0   \n",
       "9                  1.0              1.0          no       0.0     6.0     6.0   \n",
       "...                ...              ...         ...       ...     ...     ...   \n",
       "131858             NaN              4.0         yes       2.0     6.0     4.0   \n",
       "131860             NaN              4.0         yes       4.0     8.0     4.0   \n",
       "131862             NaN              4.0          no       2.0     6.0     4.0   \n",
       "131864             NaN              4.0         yes       4.0     8.0     4.0   \n",
       "131866             NaN              1.0          no       0.0     1.0     1.0   \n",
       "\n",
       "        null_count  \n",
       "1                0  \n",
       "3                0  \n",
       "5                0  \n",
       "7                0  \n",
       "9                0  \n",
       "...            ...  \n",
       "131858           5  \n",
       "131860           5  \n",
       "131862           5  \n",
       "131864           5  \n",
       "131866           5  \n",
       "\n",
       "[62284 rows x 18 columns]"
      ]
     },
     "execution_count": 23,
     "metadata": {},
     "output_type": "execute_result"
    }
   ],
   "source": [
    "df"
   ]
  },
  {
   "cell_type": "code",
   "execution_count": 24,
   "id": "35eae1c0",
   "metadata": {},
   "outputs": [],
   "source": [
    "dft = df.copy() # Compare median mode imputation"
   ]
  },
  {
   "cell_type": "code",
   "execution_count": 25,
   "id": "083d2ea6",
   "metadata": {},
   "outputs": [],
   "source": [
    "# filling to achive a balance between overall review and other services review\n",
    "\n",
    "df = df.fillna(\n",
    "    {'seat_comfort':np.floor(df.ototal/(7-df.null_count)), \n",
    "     'cabin_service':np.floor(df.ototal/(7-df.null_count)), \n",
    "     'food_bev':np.floor(df.ototal/(7-df.null_count)), \n",
    "     'entertainment':np.floor(df.ototal/(7-df.null_count)),\n",
    "     'ground_service':np.floor(df.ototal/(7-df.null_count))}\n",
    "    )"
   ]
  },
  {
   "cell_type": "code",
   "execution_count": 26,
   "id": "eb5f06fa",
   "metadata": {},
   "outputs": [],
   "source": [
    "dft = dft.fillna(\n",
    "    {'seat_comfort':np.median(df.seat_comfort), \n",
    "     'cabin_service':np.median(df.cabin_service), \n",
    "     'food_bev':np.median(df.food_bev), \n",
    "     'entertainment':np.median(df.entertainment),\n",
    "     'ground_service':np.median(df.ground_service)}\n",
    "    )"
   ]
  },
  {
   "cell_type": "code",
   "execution_count": 27,
   "id": "4d68fa94",
   "metadata": {},
   "outputs": [],
   "source": [
    "dft = dft.fillna(\n",
    "    {'seat_comfort':np.floor(df.overall*0.5) - (df.rtotal/df.null_count), \n",
    "     'cabin_service':np.floor(df.overall*0.5) - (df.rtotal/df.null_count), \n",
    "     'food_bev':np.floor(df.overall*0.5) - (df.rtotal/df.null_count), \n",
    "     'entertainment':np.floor(df.overall*0.5) - (df.rtotal/df.null_count),\n",
    "     'ground_service':np.floor(df.overall*0.5) - (df.rtotal/df.null_count)}\n",
    "    )"
   ]
  },
  {
   "cell_type": "code",
   "execution_count": 28,
   "id": "a29403aa",
   "metadata": {},
   "outputs": [
    {
     "data": {
      "image/png": "[encoded data removed]",
      "text/plain": [
       "<Figure size 1700x2000 with 3 Axes>"
      ]
     },
     "metadata": {},
     "output_type": "display_data"
    }
   ],
   "source": [
    "plt.figure(figsize=(17,20))\n",
    "\n",
    "plt.subplot(3,3,1)\n",
    "sns.countplot(x = df.ground_service)\n",
    "plt.subplot(3,3,2)\n",
    "sns.countplot(x = dft.ground_service)\n",
    "plt.subplot(3,3,3)\n",
    "sns.countplot(x = dfn.ground_service)\n",
    "plt.show()"
   ]
  },
  {
   "cell_type": "code",
   "execution_count": 29,
   "id": "28caa8e4",
   "metadata": {},
   "outputs": [
    {
     "data": {
      "image/png": "[encoded data removed]",
      "text/plain": [
       "<Figure size 640x480 with 1 Axes>"
      ]
     },
     "metadata": {},
     "output_type": "display_data"
    }
   ],
   "source": [
    "# By analysing this graph it can be said that better the feedback higher the the probability of getting a referral\n",
    "sns.countplot(data = df, x = 'overall', hue='recommended')\n",
    "plt.xticks(range(0,11,1))\n",
    "plt.show()"
   ]
  },
  {
   "cell_type": "code",
   "execution_count": 30,
   "id": "46b46e0e",
   "metadata": {},
   "outputs": [
    {
     "data": {
      "image/png": "[encoded data removed]",
      "text/plain": [
       "<Figure size 640x480 with 1 Axes>"
      ]
     },
     "metadata": {},
     "output_type": "display_data"
    }
   ],
   "source": [
    "sns.countplot(data = df, x = 'cabin', hue='recommended')\n",
    "plt.show()"
   ]
  },
  {
   "cell_type": "code",
   "execution_count": 31,
   "id": "1090e1cf",
   "metadata": {},
   "outputs": [
    {
     "data": {
      "text/html": [
       "<div>\n",
       "<style scoped>\n",
       "    .dataframe tbody tr th:only-of-type {\n",
       "        vertical-align: middle;\n",
       "    }\n",
       "\n",
       "    .dataframe tbody tr th {\n",
       "        vertical-align: top;\n",
       "    }\n",
       "\n",
       "    .dataframe thead th {\n",
       "        text-align: right;\n",
       "    }\n",
       "</style>\n",
       "<table border=\"1\" class=\"dataframe\">\n",
       "  <thead>\n",
       "    <tr style=\"text-align: right;\">\n",
       "      <th></th>\n",
       "      <th>Data Type</th>\n",
       "      <th>Null Count</th>\n",
       "      <th>Null Count %</th>\n",
       "    </tr>\n",
       "  </thead>\n",
       "  <tbody>\n",
       "    <tr>\n",
       "      <th>airline</th>\n",
       "      <td>object</td>\n",
       "      <td>0</td>\n",
       "      <td>0.0</td>\n",
       "    </tr>\n",
       "    <tr>\n",
       "      <th>overall</th>\n",
       "      <td>float64</td>\n",
       "      <td>0</td>\n",
       "      <td>0.0</td>\n",
       "    </tr>\n",
       "    <tr>\n",
       "      <th>rtotal</th>\n",
       "      <td>float64</td>\n",
       "      <td>0</td>\n",
       "      <td>0.0</td>\n",
       "    </tr>\n",
       "    <tr>\n",
       "      <th>ototal</th>\n",
       "      <td>float64</td>\n",
       "      <td>0</td>\n",
       "      <td>0.0</td>\n",
       "    </tr>\n",
       "    <tr>\n",
       "      <th>overall5</th>\n",
       "      <td>float64</td>\n",
       "      <td>0</td>\n",
       "      <td>0.0</td>\n",
       "    </tr>\n",
       "    <tr>\n",
       "      <th>recommended</th>\n",
       "      <td>object</td>\n",
       "      <td>0</td>\n",
       "      <td>0.0</td>\n",
       "    </tr>\n",
       "    <tr>\n",
       "      <th>value_for_money</th>\n",
       "      <td>float64</td>\n",
       "      <td>0</td>\n",
       "      <td>0.0</td>\n",
       "    </tr>\n",
       "    <tr>\n",
       "      <th>ground_service</th>\n",
       "      <td>float64</td>\n",
       "      <td>0</td>\n",
       "      <td>0.0</td>\n",
       "    </tr>\n",
       "    <tr>\n",
       "      <th>entertainment</th>\n",
       "      <td>float64</td>\n",
       "      <td>0</td>\n",
       "      <td>0.0</td>\n",
       "    </tr>\n",
       "    <tr>\n",
       "      <th>food_bev</th>\n",
       "      <td>float64</td>\n",
       "      <td>0</td>\n",
       "      <td>0.0</td>\n",
       "    </tr>\n",
       "    <tr>\n",
       "      <th>cabin_service</th>\n",
       "      <td>float64</td>\n",
       "      <td>0</td>\n",
       "      <td>0.0</td>\n",
       "    </tr>\n",
       "    <tr>\n",
       "      <th>seat_comfort</th>\n",
       "      <td>float64</td>\n",
       "      <td>0</td>\n",
       "      <td>0.0</td>\n",
       "    </tr>\n",
       "    <tr>\n",
       "      <th>cabin</th>\n",
       "      <td>object</td>\n",
       "      <td>0</td>\n",
       "      <td>0.0</td>\n",
       "    </tr>\n",
       "    <tr>\n",
       "      <th>traveller_type</th>\n",
       "      <td>object</td>\n",
       "      <td>0</td>\n",
       "      <td>0.0</td>\n",
       "    </tr>\n",
       "    <tr>\n",
       "      <th>customer_review</th>\n",
       "      <td>object</td>\n",
       "      <td>0</td>\n",
       "      <td>0.0</td>\n",
       "    </tr>\n",
       "    <tr>\n",
       "      <th>review_date</th>\n",
       "      <td>object</td>\n",
       "      <td>0</td>\n",
       "      <td>0.0</td>\n",
       "    </tr>\n",
       "    <tr>\n",
       "      <th>author</th>\n",
       "      <td>object</td>\n",
       "      <td>0</td>\n",
       "      <td>0.0</td>\n",
       "    </tr>\n",
       "    <tr>\n",
       "      <th>null_count</th>\n",
       "      <td>int64</td>\n",
       "      <td>0</td>\n",
       "      <td>0.0</td>\n",
       "    </tr>\n",
       "  </tbody>\n",
       "</table>\n",
       "</div>"
      ],
      "text/plain": [
       "                Data Type Null Count  Null Count %\n",
       "airline            object           0          0.0\n",
       "overall           float64           0          0.0\n",
       "rtotal            float64           0          0.0\n",
       "ototal            float64           0          0.0\n",
       "overall5          float64           0          0.0\n",
       "recommended        object           0          0.0\n",
       "value_for_money   float64           0          0.0\n",
       "ground_service    float64           0          0.0\n",
       "entertainment     float64           0          0.0\n",
       "food_bev          float64           0          0.0\n",
       "cabin_service     float64           0          0.0\n",
       "seat_comfort      float64           0          0.0\n",
       "cabin              object           0          0.0\n",
       "traveller_type     object           0          0.0\n",
       "customer_review    object           0          0.0\n",
       "review_date        object           0          0.0\n",
       "author             object           0          0.0\n",
       "null_count          int64           0          0.0"
      ]
     },
     "execution_count": 31,
     "metadata": {},
     "output_type": "execute_result"
    }
   ],
   "source": [
    "x = pd.DataFrame([df.dtypes, df.isnull().sum(), round((df.isnull().sum()*100/len(df)), 2)]).transpose()\n",
    "x.rename(columns={0:'Data Type', 1:'Null Count ', 2:'Null Count %'}, inplace = True)\n",
    "x.sort_values(by = ['Null Count %'], ascending = False)"
   ]
  },
  {
   "cell_type": "code",
   "execution_count": 32,
   "id": "072e1269",
   "metadata": {},
   "outputs": [],
   "source": [
    "df.reset_index(inplace = True)\n",
    "df.drop('index',axis = 1, inplace=True)"
   ]
  },
  {
   "cell_type": "code",
   "execution_count": 33,
   "id": "d5e20afc",
   "metadata": {},
   "outputs": [],
   "source": [
    "# Creating a copy for backup\n",
    "dfg = df.copy()"
   ]
  },
  {
   "cell_type": "code",
   "execution_count": 34,
   "id": "1b85f3f8",
   "metadata": {},
   "outputs": [],
   "source": [
    "df = dfg.copy()"
   ]
  },
  {
   "cell_type": "code",
   "execution_count": 35,
   "id": "39d5116f",
   "metadata": {
    "scrolled": true
   },
   "outputs": [
    {
     "data": {
      "text/html": [
       "<div>\n",
       "<style scoped>\n",
       "    .dataframe tbody tr th:only-of-type {\n",
       "        vertical-align: middle;\n",
       "    }\n",
       "\n",
       "    .dataframe tbody tr th {\n",
       "        vertical-align: top;\n",
       "    }\n",
       "\n",
       "    .dataframe thead th {\n",
       "        text-align: right;\n",
       "    }\n",
       "</style>\n",
       "<table border=\"1\" class=\"dataframe\">\n",
       "  <thead>\n",
       "    <tr style=\"text-align: right;\">\n",
       "      <th></th>\n",
       "      <th>airline</th>\n",
       "      <th>overall</th>\n",
       "      <th>author</th>\n",
       "      <th>review_date</th>\n",
       "      <th>customer_review</th>\n",
       "      <th>traveller_type</th>\n",
       "      <th>cabin</th>\n",
       "      <th>seat_comfort</th>\n",
       "      <th>cabin_service</th>\n",
       "      <th>food_bev</th>\n",
       "      <th>entertainment</th>\n",
       "      <th>ground_service</th>\n",
       "      <th>value_for_money</th>\n",
       "      <th>recommended</th>\n",
       "      <th>overall5</th>\n",
       "      <th>ototal</th>\n",
       "      <th>rtotal</th>\n",
       "      <th>null_count</th>\n",
       "    </tr>\n",
       "  </thead>\n",
       "  <tbody>\n",
       "    <tr>\n",
       "      <th>0</th>\n",
       "      <td>Turkish Airlines</td>\n",
       "      <td>7.0</td>\n",
       "      <td>Christopher Hackley</td>\n",
       "      <td>8th May 2019</td>\n",
       "      <td>âœ… Trip Verified | London to Izmir via Istanb...</td>\n",
       "      <td>Business</td>\n",
       "      <td>Economy Class</td>\n",
       "      <td>4.0</td>\n",
       "      <td>5.0</td>\n",
       "      <td>4.0</td>\n",
       "      <td>4.0</td>\n",
       "      <td>2.0</td>\n",
       "      <td>4.0</td>\n",
       "      <td>yes</td>\n",
       "      <td>3.0</td>\n",
       "      <td>26.0</td>\n",
       "      <td>23.0</td>\n",
       "      <td>0</td>\n",
       "    </tr>\n",
       "    <tr>\n",
       "      <th>1</th>\n",
       "      <td>Turkish Airlines</td>\n",
       "      <td>2.0</td>\n",
       "      <td>Adriana Pisoi</td>\n",
       "      <td>7th May 2019</td>\n",
       "      <td>âœ… Trip Verified | Istanbul to Bucharest. We ...</td>\n",
       "      <td>Family Leisure</td>\n",
       "      <td>Economy Class</td>\n",
       "      <td>4.0</td>\n",
       "      <td>1.0</td>\n",
       "      <td>1.0</td>\n",
       "      <td>1.0</td>\n",
       "      <td>1.0</td>\n",
       "      <td>1.0</td>\n",
       "      <td>no</td>\n",
       "      <td>1.0</td>\n",
       "      <td>10.0</td>\n",
       "      <td>9.0</td>\n",
       "      <td>0</td>\n",
       "    </tr>\n",
       "    <tr>\n",
       "      <th>2</th>\n",
       "      <td>Turkish Airlines</td>\n",
       "      <td>3.0</td>\n",
       "      <td>M Galerko</td>\n",
       "      <td>7th May 2019</td>\n",
       "      <td>âœ… Trip Verified | Rome to Prishtina via Ista...</td>\n",
       "      <td>Business</td>\n",
       "      <td>Economy Class</td>\n",
       "      <td>1.0</td>\n",
       "      <td>4.0</td>\n",
       "      <td>1.0</td>\n",
       "      <td>3.0</td>\n",
       "      <td>1.0</td>\n",
       "      <td>2.0</td>\n",
       "      <td>no</td>\n",
       "      <td>1.0</td>\n",
       "      <td>13.0</td>\n",
       "      <td>12.0</td>\n",
       "      <td>0</td>\n",
       "    </tr>\n",
       "    <tr>\n",
       "      <th>3</th>\n",
       "      <td>Turkish Airlines</td>\n",
       "      <td>10.0</td>\n",
       "      <td>Zeshan Shah</td>\n",
       "      <td>6th May 2019</td>\n",
       "      <td>âœ… Trip Verified | Flew on Turkish Airlines I...</td>\n",
       "      <td>Solo Leisure</td>\n",
       "      <td>Economy Class</td>\n",
       "      <td>4.0</td>\n",
       "      <td>5.0</td>\n",
       "      <td>5.0</td>\n",
       "      <td>5.0</td>\n",
       "      <td>5.0</td>\n",
       "      <td>5.0</td>\n",
       "      <td>yes</td>\n",
       "      <td>5.0</td>\n",
       "      <td>34.0</td>\n",
       "      <td>29.0</td>\n",
       "      <td>0</td>\n",
       "    </tr>\n",
       "    <tr>\n",
       "      <th>4</th>\n",
       "      <td>Turkish Airlines</td>\n",
       "      <td>1.0</td>\n",
       "      <td>Pooja Jain</td>\n",
       "      <td>6th May 2019</td>\n",
       "      <td>âœ… Trip Verified | Mumbai to Dublin via Istan...</td>\n",
       "      <td>Solo Leisure</td>\n",
       "      <td>Economy Class</td>\n",
       "      <td>1.0</td>\n",
       "      <td>1.0</td>\n",
       "      <td>1.0</td>\n",
       "      <td>1.0</td>\n",
       "      <td>1.0</td>\n",
       "      <td>1.0</td>\n",
       "      <td>no</td>\n",
       "      <td>0.0</td>\n",
       "      <td>6.0</td>\n",
       "      <td>6.0</td>\n",
       "      <td>0</td>\n",
       "    </tr>\n",
       "    <tr>\n",
       "      <th>...</th>\n",
       "      <td>...</td>\n",
       "      <td>...</td>\n",
       "      <td>...</td>\n",
       "      <td>...</td>\n",
       "      <td>...</td>\n",
       "      <td>...</td>\n",
       "      <td>...</td>\n",
       "      <td>...</td>\n",
       "      <td>...</td>\n",
       "      <td>...</td>\n",
       "      <td>...</td>\n",
       "      <td>...</td>\n",
       "      <td>...</td>\n",
       "      <td>...</td>\n",
       "      <td>...</td>\n",
       "      <td>...</td>\n",
       "      <td>...</td>\n",
       "      <td>...</td>\n",
       "    </tr>\n",
       "    <tr>\n",
       "      <th>62279</th>\n",
       "      <td>Ukraine International</td>\n",
       "      <td>4.0</td>\n",
       "      <td>Christian Mueller</td>\n",
       "      <td>29th June 2010</td>\n",
       "      <td>Kiev - Frankfurt - Kiev weekly normally with L...</td>\n",
       "      <td>Couple Leisure</td>\n",
       "      <td>Business Class</td>\n",
       "      <td>3.0</td>\n",
       "      <td>3.0</td>\n",
       "      <td>3.0</td>\n",
       "      <td>3.0</td>\n",
       "      <td>3.0</td>\n",
       "      <td>4.0</td>\n",
       "      <td>yes</td>\n",
       "      <td>2.0</td>\n",
       "      <td>6.0</td>\n",
       "      <td>4.0</td>\n",
       "      <td>5</td>\n",
       "    </tr>\n",
       "    <tr>\n",
       "      <th>62280</th>\n",
       "      <td>Ukraine International</td>\n",
       "      <td>8.0</td>\n",
       "      <td>Joerg Lehnert</td>\n",
       "      <td>11th May 2010</td>\n",
       "      <td>Berlin-Kiev-Berlin B737-400. The return flight...</td>\n",
       "      <td>Couple Leisure</td>\n",
       "      <td>Economy Class</td>\n",
       "      <td>4.0</td>\n",
       "      <td>4.0</td>\n",
       "      <td>4.0</td>\n",
       "      <td>4.0</td>\n",
       "      <td>4.0</td>\n",
       "      <td>4.0</td>\n",
       "      <td>yes</td>\n",
       "      <td>4.0</td>\n",
       "      <td>8.0</td>\n",
       "      <td>4.0</td>\n",
       "      <td>5</td>\n",
       "    </tr>\n",
       "    <tr>\n",
       "      <th>62281</th>\n",
       "      <td>Ukraine International</td>\n",
       "      <td>5.0</td>\n",
       "      <td>Y Kahanovych</td>\n",
       "      <td>10th May 2010</td>\n",
       "      <td>Some 5 flights within couple months. Most of t...</td>\n",
       "      <td>Couple Leisure</td>\n",
       "      <td>Economy Class</td>\n",
       "      <td>3.0</td>\n",
       "      <td>3.0</td>\n",
       "      <td>3.0</td>\n",
       "      <td>3.0</td>\n",
       "      <td>3.0</td>\n",
       "      <td>4.0</td>\n",
       "      <td>no</td>\n",
       "      <td>2.0</td>\n",
       "      <td>6.0</td>\n",
       "      <td>4.0</td>\n",
       "      <td>5</td>\n",
       "    </tr>\n",
       "    <tr>\n",
       "      <th>62282</th>\n",
       "      <td>Ukraine International</td>\n",
       "      <td>8.0</td>\n",
       "      <td>H Ritzer</td>\n",
       "      <td>29th April 2010</td>\n",
       "      <td>Vienna-Kiev return in Coach. Check in fine at ...</td>\n",
       "      <td>Couple Leisure</td>\n",
       "      <td>Economy Class</td>\n",
       "      <td>4.0</td>\n",
       "      <td>4.0</td>\n",
       "      <td>4.0</td>\n",
       "      <td>4.0</td>\n",
       "      <td>4.0</td>\n",
       "      <td>4.0</td>\n",
       "      <td>yes</td>\n",
       "      <td>4.0</td>\n",
       "      <td>8.0</td>\n",
       "      <td>4.0</td>\n",
       "      <td>5</td>\n",
       "    </tr>\n",
       "    <tr>\n",
       "      <th>62283</th>\n",
       "      <td>Ukraine International</td>\n",
       "      <td>1.0</td>\n",
       "      <td>N Truman</td>\n",
       "      <td>28th April 2010</td>\n",
       "      <td>I recently booked a trip with travelocity. I f...</td>\n",
       "      <td>Couple Leisure</td>\n",
       "      <td>Economy Class</td>\n",
       "      <td>0.0</td>\n",
       "      <td>0.0</td>\n",
       "      <td>0.0</td>\n",
       "      <td>0.0</td>\n",
       "      <td>0.0</td>\n",
       "      <td>1.0</td>\n",
       "      <td>no</td>\n",
       "      <td>0.0</td>\n",
       "      <td>1.0</td>\n",
       "      <td>1.0</td>\n",
       "      <td>5</td>\n",
       "    </tr>\n",
       "  </tbody>\n",
       "</table>\n",
       "<p>62284 rows × 18 columns</p>\n",
       "</div>"
      ],
      "text/plain": [
       "                     airline  overall               author      review_date  \\\n",
       "0           Turkish Airlines      7.0  Christopher Hackley     8th May 2019   \n",
       "1           Turkish Airlines      2.0        Adriana Pisoi     7th May 2019   \n",
       "2           Turkish Airlines      3.0            M Galerko     7th May 2019   \n",
       "3           Turkish Airlines     10.0          Zeshan Shah     6th May 2019   \n",
       "4           Turkish Airlines      1.0           Pooja Jain     6th May 2019   \n",
       "...                      ...      ...                  ...              ...   \n",
       "62279  Ukraine International      4.0    Christian Mueller   29th June 2010   \n",
       "62280  Ukraine International      8.0        Joerg Lehnert    11th May 2010   \n",
       "62281  Ukraine International      5.0         Y Kahanovych    10th May 2010   \n",
       "62282  Ukraine International      8.0             H Ritzer  29th April 2010   \n",
       "62283  Ukraine International      1.0             N Truman  28th April 2010   \n",
       "\n",
       "                                         customer_review  traveller_type  \\\n",
       "0      âœ… Trip Verified | London to Izmir via Istanb...        Business   \n",
       "1      âœ… Trip Verified | Istanbul to Bucharest. We ...  Family Leisure   \n",
       "2      âœ… Trip Verified | Rome to Prishtina via Ista...        Business   \n",
       "3      âœ… Trip Verified | Flew on Turkish Airlines I...    Solo Leisure   \n",
       "4      âœ… Trip Verified | Mumbai to Dublin via Istan...    Solo Leisure   \n",
       "...                                                  ...             ...   \n",
       "62279  Kiev - Frankfurt - Kiev weekly normally with L...  Couple Leisure   \n",
       "62280  Berlin-Kiev-Berlin B737-400. The return flight...  Couple Leisure   \n",
       "62281  Some 5 flights within couple months. Most of t...  Couple Leisure   \n",
       "62282  Vienna-Kiev return in Coach. Check in fine at ...  Couple Leisure   \n",
       "62283  I recently booked a trip with travelocity. I f...  Couple Leisure   \n",
       "\n",
       "                cabin  seat_comfort  cabin_service  food_bev  entertainment  \\\n",
       "0       Economy Class           4.0            5.0       4.0            4.0   \n",
       "1       Economy Class           4.0            1.0       1.0            1.0   \n",
       "2       Economy Class           1.0            4.0       1.0            3.0   \n",
       "3       Economy Class           4.0            5.0       5.0            5.0   \n",
       "4       Economy Class           1.0            1.0       1.0            1.0   \n",
       "...               ...           ...            ...       ...            ...   \n",
       "62279  Business Class           3.0            3.0       3.0            3.0   \n",
       "62280   Economy Class           4.0            4.0       4.0            4.0   \n",
       "62281   Economy Class           3.0            3.0       3.0            3.0   \n",
       "62282   Economy Class           4.0            4.0       4.0            4.0   \n",
       "62283   Economy Class           0.0            0.0       0.0            0.0   \n",
       "\n",
       "       ground_service  value_for_money recommended  overall5  ototal  rtotal  \\\n",
       "0                 2.0              4.0         yes       3.0    26.0    23.0   \n",
       "1                 1.0              1.0          no       1.0    10.0     9.0   \n",
       "2                 1.0              2.0          no       1.0    13.0    12.0   \n",
       "3                 5.0              5.0         yes       5.0    34.0    29.0   \n",
       "4                 1.0              1.0          no       0.0     6.0     6.0   \n",
       "...               ...              ...         ...       ...     ...     ...   \n",
       "62279             3.0              4.0         yes       2.0     6.0     4.0   \n",
       "62280             4.0              4.0         yes       4.0     8.0     4.0   \n",
       "62281             3.0              4.0          no       2.0     6.0     4.0   \n",
       "62282             4.0              4.0         yes       4.0     8.0     4.0   \n",
       "62283             0.0              1.0          no       0.0     1.0     1.0   \n",
       "\n",
       "       null_count  \n",
       "0               0  \n",
       "1               0  \n",
       "2               0  \n",
       "3               0  \n",
       "4               0  \n",
       "...           ...  \n",
       "62279           5  \n",
       "62280           5  \n",
       "62281           5  \n",
       "62282           5  \n",
       "62283           5  \n",
       "\n",
       "[62284 rows x 18 columns]"
      ]
     },
     "execution_count": 35,
     "metadata": {},
     "output_type": "execute_result"
    }
   ],
   "source": [
    "df"
   ]
  },
  {
   "cell_type": "code",
   "execution_count": 36,
   "id": "f3d2a5ea",
   "metadata": {},
   "outputs": [],
   "source": [
    "df.drop([\"airline\", 'author', 'review_date', 'overall5', 'rtotal', 'null_count'], axis = 1, inplace = True)\n"
   ]
  },
  {
   "cell_type": "code",
   "execution_count": 37,
   "id": "1daa2cb4",
   "metadata": {},
   "outputs": [],
   "source": [
    "from sklearn.preprocessing import StandardScaler, MinMaxScaler, OneHotEncoder\n",
    "categorical_cols = ['traveller_type', 'cabin', 'recommended']\n",
    "encoder = OneHotEncoder(drop=\"first\",sparse= False)   ####OneHotEncoder for categorical col\n",
    "encoder_cols = pd.DataFrame(encoder.fit_transform(df[categorical_cols]),\n",
    "                            columns = encoder.get_feature_names_out(categorical_cols))\n",
    "\n"
   ]
  },
  {
   "cell_type": "code",
   "execution_count": 38,
   "id": "86ecd98b",
   "metadata": {},
   "outputs": [
    {
     "data": {
      "text/html": [
       "<div>\n",
       "<style scoped>\n",
       "    .dataframe tbody tr th:only-of-type {\n",
       "        vertical-align: middle;\n",
       "    }\n",
       "\n",
       "    .dataframe tbody tr th {\n",
       "        vertical-align: top;\n",
       "    }\n",
       "\n",
       "    .dataframe thead th {\n",
       "        text-align: right;\n",
       "    }\n",
       "</style>\n",
       "<table border=\"1\" class=\"dataframe\">\n",
       "  <thead>\n",
       "    <tr style=\"text-align: right;\">\n",
       "      <th></th>\n",
       "      <th>traveller_type_Couple Leisure</th>\n",
       "      <th>traveller_type_Family Leisure</th>\n",
       "      <th>traveller_type_Solo Leisure</th>\n",
       "      <th>cabin_Economy Class</th>\n",
       "      <th>cabin_First Class</th>\n",
       "      <th>cabin_Premium Economy</th>\n",
       "      <th>recommended_yes</th>\n",
       "      <th>overall</th>\n",
       "      <th>customer_review</th>\n",
       "      <th>traveller_type</th>\n",
       "      <th>cabin</th>\n",
       "      <th>seat_comfort</th>\n",
       "      <th>cabin_service</th>\n",
       "      <th>food_bev</th>\n",
       "      <th>entertainment</th>\n",
       "      <th>ground_service</th>\n",
       "      <th>value_for_money</th>\n",
       "      <th>recommended</th>\n",
       "      <th>ototal</th>\n",
       "    </tr>\n",
       "  </thead>\n",
       "  <tbody>\n",
       "    <tr>\n",
       "      <th>0</th>\n",
       "      <td>0.0</td>\n",
       "      <td>0.0</td>\n",
       "      <td>0.0</td>\n",
       "      <td>1.0</td>\n",
       "      <td>0.0</td>\n",
       "      <td>0.0</td>\n",
       "      <td>1.0</td>\n",
       "      <td>7.0</td>\n",
       "      <td>âœ… Trip Verified | London to Izmir via Istanb...</td>\n",
       "      <td>Business</td>\n",
       "      <td>Economy Class</td>\n",
       "      <td>4.0</td>\n",
       "      <td>5.0</td>\n",
       "      <td>4.0</td>\n",
       "      <td>4.0</td>\n",
       "      <td>2.0</td>\n",
       "      <td>4.0</td>\n",
       "      <td>yes</td>\n",
       "      <td>26.0</td>\n",
       "    </tr>\n",
       "    <tr>\n",
       "      <th>1</th>\n",
       "      <td>0.0</td>\n",
       "      <td>1.0</td>\n",
       "      <td>0.0</td>\n",
       "      <td>1.0</td>\n",
       "      <td>0.0</td>\n",
       "      <td>0.0</td>\n",
       "      <td>0.0</td>\n",
       "      <td>2.0</td>\n",
       "      <td>âœ… Trip Verified | Istanbul to Bucharest. We ...</td>\n",
       "      <td>Family Leisure</td>\n",
       "      <td>Economy Class</td>\n",
       "      <td>4.0</td>\n",
       "      <td>1.0</td>\n",
       "      <td>1.0</td>\n",
       "      <td>1.0</td>\n",
       "      <td>1.0</td>\n",
       "      <td>1.0</td>\n",
       "      <td>no</td>\n",
       "      <td>10.0</td>\n",
       "    </tr>\n",
       "    <tr>\n",
       "      <th>2</th>\n",
       "      <td>0.0</td>\n",
       "      <td>0.0</td>\n",
       "      <td>0.0</td>\n",
       "      <td>1.0</td>\n",
       "      <td>0.0</td>\n",
       "      <td>0.0</td>\n",
       "      <td>0.0</td>\n",
       "      <td>3.0</td>\n",
       "      <td>âœ… Trip Verified | Rome to Prishtina via Ista...</td>\n",
       "      <td>Business</td>\n",
       "      <td>Economy Class</td>\n",
       "      <td>1.0</td>\n",
       "      <td>4.0</td>\n",
       "      <td>1.0</td>\n",
       "      <td>3.0</td>\n",
       "      <td>1.0</td>\n",
       "      <td>2.0</td>\n",
       "      <td>no</td>\n",
       "      <td>13.0</td>\n",
       "    </tr>\n",
       "    <tr>\n",
       "      <th>3</th>\n",
       "      <td>0.0</td>\n",
       "      <td>0.0</td>\n",
       "      <td>1.0</td>\n",
       "      <td>1.0</td>\n",
       "      <td>0.0</td>\n",
       "      <td>0.0</td>\n",
       "      <td>1.0</td>\n",
       "      <td>10.0</td>\n",
       "      <td>âœ… Trip Verified | Flew on Turkish Airlines I...</td>\n",
       "      <td>Solo Leisure</td>\n",
       "      <td>Economy Class</td>\n",
       "      <td>4.0</td>\n",
       "      <td>5.0</td>\n",
       "      <td>5.0</td>\n",
       "      <td>5.0</td>\n",
       "      <td>5.0</td>\n",
       "      <td>5.0</td>\n",
       "      <td>yes</td>\n",
       "      <td>34.0</td>\n",
       "    </tr>\n",
       "    <tr>\n",
       "      <th>4</th>\n",
       "      <td>0.0</td>\n",
       "      <td>0.0</td>\n",
       "      <td>1.0</td>\n",
       "      <td>1.0</td>\n",
       "      <td>0.0</td>\n",
       "      <td>0.0</td>\n",
       "      <td>0.0</td>\n",
       "      <td>1.0</td>\n",
       "      <td>âœ… Trip Verified | Mumbai to Dublin via Istan...</td>\n",
       "      <td>Solo Leisure</td>\n",
       "      <td>Economy Class</td>\n",
       "      <td>1.0</td>\n",
       "      <td>1.0</td>\n",
       "      <td>1.0</td>\n",
       "      <td>1.0</td>\n",
       "      <td>1.0</td>\n",
       "      <td>1.0</td>\n",
       "      <td>no</td>\n",
       "      <td>6.0</td>\n",
       "    </tr>\n",
       "    <tr>\n",
       "      <th>...</th>\n",
       "      <td>...</td>\n",
       "      <td>...</td>\n",
       "      <td>...</td>\n",
       "      <td>...</td>\n",
       "      <td>...</td>\n",
       "      <td>...</td>\n",
       "      <td>...</td>\n",
       "      <td>...</td>\n",
       "      <td>...</td>\n",
       "      <td>...</td>\n",
       "      <td>...</td>\n",
       "      <td>...</td>\n",
       "      <td>...</td>\n",
       "      <td>...</td>\n",
       "      <td>...</td>\n",
       "      <td>...</td>\n",
       "      <td>...</td>\n",
       "      <td>...</td>\n",
       "      <td>...</td>\n",
       "    </tr>\n",
       "    <tr>\n",
       "      <th>62279</th>\n",
       "      <td>1.0</td>\n",
       "      <td>0.0</td>\n",
       "      <td>0.0</td>\n",
       "      <td>0.0</td>\n",
       "      <td>0.0</td>\n",
       "      <td>0.0</td>\n",
       "      <td>1.0</td>\n",
       "      <td>4.0</td>\n",
       "      <td>Kiev - Frankfurt - Kiev weekly normally with L...</td>\n",
       "      <td>Couple Leisure</td>\n",
       "      <td>Business Class</td>\n",
       "      <td>3.0</td>\n",
       "      <td>3.0</td>\n",
       "      <td>3.0</td>\n",
       "      <td>3.0</td>\n",
       "      <td>3.0</td>\n",
       "      <td>4.0</td>\n",
       "      <td>yes</td>\n",
       "      <td>6.0</td>\n",
       "    </tr>\n",
       "    <tr>\n",
       "      <th>62280</th>\n",
       "      <td>1.0</td>\n",
       "      <td>0.0</td>\n",
       "      <td>0.0</td>\n",
       "      <td>1.0</td>\n",
       "      <td>0.0</td>\n",
       "      <td>0.0</td>\n",
       "      <td>1.0</td>\n",
       "      <td>8.0</td>\n",
       "      <td>Berlin-Kiev-Berlin B737-400. The return flight...</td>\n",
       "      <td>Couple Leisure</td>\n",
       "      <td>Economy Class</td>\n",
       "      <td>4.0</td>\n",
       "      <td>4.0</td>\n",
       "      <td>4.0</td>\n",
       "      <td>4.0</td>\n",
       "      <td>4.0</td>\n",
       "      <td>4.0</td>\n",
       "      <td>yes</td>\n",
       "      <td>8.0</td>\n",
       "    </tr>\n",
       "    <tr>\n",
       "      <th>62281</th>\n",
       "      <td>1.0</td>\n",
       "      <td>0.0</td>\n",
       "      <td>0.0</td>\n",
       "      <td>1.0</td>\n",
       "      <td>0.0</td>\n",
       "      <td>0.0</td>\n",
       "      <td>0.0</td>\n",
       "      <td>5.0</td>\n",
       "      <td>Some 5 flights within couple months. Most of t...</td>\n",
       "      <td>Couple Leisure</td>\n",
       "      <td>Economy Class</td>\n",
       "      <td>3.0</td>\n",
       "      <td>3.0</td>\n",
       "      <td>3.0</td>\n",
       "      <td>3.0</td>\n",
       "      <td>3.0</td>\n",
       "      <td>4.0</td>\n",
       "      <td>no</td>\n",
       "      <td>6.0</td>\n",
       "    </tr>\n",
       "    <tr>\n",
       "      <th>62282</th>\n",
       "      <td>1.0</td>\n",
       "      <td>0.0</td>\n",
       "      <td>0.0</td>\n",
       "      <td>1.0</td>\n",
       "      <td>0.0</td>\n",
       "      <td>0.0</td>\n",
       "      <td>1.0</td>\n",
       "      <td>8.0</td>\n",
       "      <td>Vienna-Kiev return in Coach. Check in fine at ...</td>\n",
       "      <td>Couple Leisure</td>\n",
       "      <td>Economy Class</td>\n",
       "      <td>4.0</td>\n",
       "      <td>4.0</td>\n",
       "      <td>4.0</td>\n",
       "      <td>4.0</td>\n",
       "      <td>4.0</td>\n",
       "      <td>4.0</td>\n",
       "      <td>yes</td>\n",
       "      <td>8.0</td>\n",
       "    </tr>\n",
       "    <tr>\n",
       "      <th>62283</th>\n",
       "      <td>1.0</td>\n",
       "      <td>0.0</td>\n",
       "      <td>0.0</td>\n",
       "      <td>1.0</td>\n",
       "      <td>0.0</td>\n",
       "      <td>0.0</td>\n",
       "      <td>0.0</td>\n",
       "      <td>1.0</td>\n",
       "      <td>I recently booked a trip with travelocity. I f...</td>\n",
       "      <td>Couple Leisure</td>\n",
       "      <td>Economy Class</td>\n",
       "      <td>0.0</td>\n",
       "      <td>0.0</td>\n",
       "      <td>0.0</td>\n",
       "      <td>0.0</td>\n",
       "      <td>0.0</td>\n",
       "      <td>1.0</td>\n",
       "      <td>no</td>\n",
       "      <td>1.0</td>\n",
       "    </tr>\n",
       "  </tbody>\n",
       "</table>\n",
       "<p>62284 rows × 19 columns</p>\n",
       "</div>"
      ],
      "text/plain": [
       "       traveller_type_Couple Leisure  traveller_type_Family Leisure  \\\n",
       "0                                0.0                            0.0   \n",
       "1                                0.0                            1.0   \n",
       "2                                0.0                            0.0   \n",
       "3                                0.0                            0.0   \n",
       "4                                0.0                            0.0   \n",
       "...                              ...                            ...   \n",
       "62279                            1.0                            0.0   \n",
       "62280                            1.0                            0.0   \n",
       "62281                            1.0                            0.0   \n",
       "62282                            1.0                            0.0   \n",
       "62283                            1.0                            0.0   \n",
       "\n",
       "       traveller_type_Solo Leisure  cabin_Economy Class  cabin_First Class  \\\n",
       "0                              0.0                  1.0                0.0   \n",
       "1                              0.0                  1.0                0.0   \n",
       "2                              0.0                  1.0                0.0   \n",
       "3                              1.0                  1.0                0.0   \n",
       "4                              1.0                  1.0                0.0   \n",
       "...                            ...                  ...                ...   \n",
       "62279                          0.0                  0.0                0.0   \n",
       "62280                          0.0                  1.0                0.0   \n",
       "62281                          0.0                  1.0                0.0   \n",
       "62282                          0.0                  1.0                0.0   \n",
       "62283                          0.0                  1.0                0.0   \n",
       "\n",
       "       cabin_Premium Economy  recommended_yes  overall  \\\n",
       "0                        0.0              1.0      7.0   \n",
       "1                        0.0              0.0      2.0   \n",
       "2                        0.0              0.0      3.0   \n",
       "3                        0.0              1.0     10.0   \n",
       "4                        0.0              0.0      1.0   \n",
       "...                      ...              ...      ...   \n",
       "62279                    0.0              1.0      4.0   \n",
       "62280                    0.0              1.0      8.0   \n",
       "62281                    0.0              0.0      5.0   \n",
       "62282                    0.0              1.0      8.0   \n",
       "62283                    0.0              0.0      1.0   \n",
       "\n",
       "                                         customer_review  traveller_type  \\\n",
       "0      âœ… Trip Verified | London to Izmir via Istanb...        Business   \n",
       "1      âœ… Trip Verified | Istanbul to Bucharest. We ...  Family Leisure   \n",
       "2      âœ… Trip Verified | Rome to Prishtina via Ista...        Business   \n",
       "3      âœ… Trip Verified | Flew on Turkish Airlines I...    Solo Leisure   \n",
       "4      âœ… Trip Verified | Mumbai to Dublin via Istan...    Solo Leisure   \n",
       "...                                                  ...             ...   \n",
       "62279  Kiev - Frankfurt - Kiev weekly normally with L...  Couple Leisure   \n",
       "62280  Berlin-Kiev-Berlin B737-400. The return flight...  Couple Leisure   \n",
       "62281  Some 5 flights within couple months. Most of t...  Couple Leisure   \n",
       "62282  Vienna-Kiev return in Coach. Check in fine at ...  Couple Leisure   \n",
       "62283  I recently booked a trip with travelocity. I f...  Couple Leisure   \n",
       "\n",
       "                cabin  seat_comfort  cabin_service  food_bev  entertainment  \\\n",
       "0       Economy Class           4.0            5.0       4.0            4.0   \n",
       "1       Economy Class           4.0            1.0       1.0            1.0   \n",
       "2       Economy Class           1.0            4.0       1.0            3.0   \n",
       "3       Economy Class           4.0            5.0       5.0            5.0   \n",
       "4       Economy Class           1.0            1.0       1.0            1.0   \n",
       "...               ...           ...            ...       ...            ...   \n",
       "62279  Business Class           3.0            3.0       3.0            3.0   \n",
       "62280   Economy Class           4.0            4.0       4.0            4.0   \n",
       "62281   Economy Class           3.0            3.0       3.0            3.0   \n",
       "62282   Economy Class           4.0            4.0       4.0            4.0   \n",
       "62283   Economy Class           0.0            0.0       0.0            0.0   \n",
       "\n",
       "       ground_service  value_for_money recommended  ototal  \n",
       "0                 2.0              4.0         yes    26.0  \n",
       "1                 1.0              1.0          no    10.0  \n",
       "2                 1.0              2.0          no    13.0  \n",
       "3                 5.0              5.0         yes    34.0  \n",
       "4                 1.0              1.0          no     6.0  \n",
       "...               ...              ...         ...     ...  \n",
       "62279             3.0              4.0         yes     6.0  \n",
       "62280             4.0              4.0         yes     8.0  \n",
       "62281             3.0              4.0          no     6.0  \n",
       "62282             4.0              4.0         yes     8.0  \n",
       "62283             0.0              1.0          no     1.0  \n",
       "\n",
       "[62284 rows x 19 columns]"
      ]
     },
     "execution_count": 38,
     "metadata": {},
     "output_type": "execute_result"
    }
   ],
   "source": [
    "df = pd.concat([encoder_cols, df], axis= 1)\n",
    "df"
   ]
  },
  {
   "cell_type": "code",
   "execution_count": 39,
   "id": "b643e43f",
   "metadata": {},
   "outputs": [
    {
     "data": {
      "text/plain": [
       "Index(['traveller_type_Couple Leisure', 'traveller_type_Family Leisure',\n",
       "       'traveller_type_Solo Leisure', 'cabin_Economy Class',\n",
       "       'cabin_First Class', 'cabin_Premium Economy', 'recommended_yes',\n",
       "       'overall', 'customer_review', 'traveller_type', 'cabin', 'seat_comfort',\n",
       "       'cabin_service', 'food_bev', 'entertainment', 'ground_service',\n",
       "       'value_for_money', 'recommended', 'ototal'],\n",
       "      dtype='object')"
      ]
     },
     "execution_count": 39,
     "metadata": {},
     "output_type": "execute_result"
    }
   ],
   "source": [
    "df.columns"
   ]
  },
  {
   "cell_type": "code",
   "execution_count": 40,
   "id": "588e66e6",
   "metadata": {},
   "outputs": [
    {
     "data": {
      "text/plain": [
       "<Axes: >"
      ]
     },
     "execution_count": 40,
     "metadata": {},
     "output_type": "execute_result"
    },
    {
     "data": {
      "image/png": "[encoded data removed]",
      "text/plain": [
       "<Figure size 1000x900 with 2 Axes>"
      ]
     },
     "metadata": {},
     "output_type": "display_data"
    }
   ],
   "source": [
    "corr = df.drop(['overall','customer_review', 'traveller_type', 'cabin', 'seat_comfort',\n",
    "       'cabin_service', 'food_bev', 'entertainment', 'ground_service',\n",
    "       'value_for_money', 'recommended'], axis = 1).corr()\n",
    "\n",
    "plt.figure(figsize = (10,9))\n",
    "sns.heatmap(abs(corr),cbar = True,square = True,fmt = \".2f\",annot = True,annot_kws={'size':8})"
   ]
  },
  {
   "cell_type": "code",
   "execution_count": 41,
   "id": "6a658ef6",
   "metadata": {},
   "outputs": [
    {
     "data": {
      "text/html": [
       "<div>\n",
       "<style scoped>\n",
       "    .dataframe tbody tr th:only-of-type {\n",
       "        vertical-align: middle;\n",
       "    }\n",
       "\n",
       "    .dataframe tbody tr th {\n",
       "        vertical-align: top;\n",
       "    }\n",
       "\n",
       "    .dataframe thead th {\n",
       "        text-align: right;\n",
       "    }\n",
       "</style>\n",
       "<table border=\"1\" class=\"dataframe\">\n",
       "  <thead>\n",
       "    <tr style=\"text-align: right;\">\n",
       "      <th></th>\n",
       "      <th>traveller_type_Couple Leisure</th>\n",
       "      <th>traveller_type_Family Leisure</th>\n",
       "      <th>traveller_type_Solo Leisure</th>\n",
       "      <th>cabin_Economy Class</th>\n",
       "      <th>cabin_First Class</th>\n",
       "      <th>cabin_Premium Economy</th>\n",
       "      <th>recommended_yes</th>\n",
       "      <th>overall</th>\n",
       "      <th>customer_review</th>\n",
       "      <th>traveller_type</th>\n",
       "      <th>cabin</th>\n",
       "      <th>seat_comfort</th>\n",
       "      <th>cabin_service</th>\n",
       "      <th>food_bev</th>\n",
       "      <th>entertainment</th>\n",
       "      <th>ground_service</th>\n",
       "      <th>value_for_money</th>\n",
       "      <th>recommended</th>\n",
       "      <th>ototal</th>\n",
       "    </tr>\n",
       "  </thead>\n",
       "  <tbody>\n",
       "    <tr>\n",
       "      <th>0</th>\n",
       "      <td>0.0</td>\n",
       "      <td>0.0</td>\n",
       "      <td>0.0</td>\n",
       "      <td>1.0</td>\n",
       "      <td>0.0</td>\n",
       "      <td>0.0</td>\n",
       "      <td>1.0</td>\n",
       "      <td>7.0</td>\n",
       "      <td>âœ… Trip Verified | London to Izmir via Istanb...</td>\n",
       "      <td>Business</td>\n",
       "      <td>Economy Class</td>\n",
       "      <td>4.0</td>\n",
       "      <td>5.0</td>\n",
       "      <td>4.0</td>\n",
       "      <td>4.0</td>\n",
       "      <td>2.0</td>\n",
       "      <td>4.0</td>\n",
       "      <td>yes</td>\n",
       "      <td>26.0</td>\n",
       "    </tr>\n",
       "    <tr>\n",
       "      <th>1</th>\n",
       "      <td>0.0</td>\n",
       "      <td>1.0</td>\n",
       "      <td>0.0</td>\n",
       "      <td>1.0</td>\n",
       "      <td>0.0</td>\n",
       "      <td>0.0</td>\n",
       "      <td>0.0</td>\n",
       "      <td>2.0</td>\n",
       "      <td>âœ… Trip Verified | Istanbul to Bucharest. We ...</td>\n",
       "      <td>Family Leisure</td>\n",
       "      <td>Economy Class</td>\n",
       "      <td>4.0</td>\n",
       "      <td>1.0</td>\n",
       "      <td>1.0</td>\n",
       "      <td>1.0</td>\n",
       "      <td>1.0</td>\n",
       "      <td>1.0</td>\n",
       "      <td>no</td>\n",
       "      <td>10.0</td>\n",
       "    </tr>\n",
       "    <tr>\n",
       "      <th>2</th>\n",
       "      <td>0.0</td>\n",
       "      <td>0.0</td>\n",
       "      <td>0.0</td>\n",
       "      <td>1.0</td>\n",
       "      <td>0.0</td>\n",
       "      <td>0.0</td>\n",
       "      <td>0.0</td>\n",
       "      <td>3.0</td>\n",
       "      <td>âœ… Trip Verified | Rome to Prishtina via Ista...</td>\n",
       "      <td>Business</td>\n",
       "      <td>Economy Class</td>\n",
       "      <td>1.0</td>\n",
       "      <td>4.0</td>\n",
       "      <td>1.0</td>\n",
       "      <td>3.0</td>\n",
       "      <td>1.0</td>\n",
       "      <td>2.0</td>\n",
       "      <td>no</td>\n",
       "      <td>13.0</td>\n",
       "    </tr>\n",
       "    <tr>\n",
       "      <th>3</th>\n",
       "      <td>0.0</td>\n",
       "      <td>0.0</td>\n",
       "      <td>1.0</td>\n",
       "      <td>1.0</td>\n",
       "      <td>0.0</td>\n",
       "      <td>0.0</td>\n",
       "      <td>1.0</td>\n",
       "      <td>10.0</td>\n",
       "      <td>âœ… Trip Verified | Flew on Turkish Airlines I...</td>\n",
       "      <td>Solo Leisure</td>\n",
       "      <td>Economy Class</td>\n",
       "      <td>4.0</td>\n",
       "      <td>5.0</td>\n",
       "      <td>5.0</td>\n",
       "      <td>5.0</td>\n",
       "      <td>5.0</td>\n",
       "      <td>5.0</td>\n",
       "      <td>yes</td>\n",
       "      <td>34.0</td>\n",
       "    </tr>\n",
       "    <tr>\n",
       "      <th>4</th>\n",
       "      <td>0.0</td>\n",
       "      <td>0.0</td>\n",
       "      <td>1.0</td>\n",
       "      <td>1.0</td>\n",
       "      <td>0.0</td>\n",
       "      <td>0.0</td>\n",
       "      <td>0.0</td>\n",
       "      <td>1.0</td>\n",
       "      <td>âœ… Trip Verified | Mumbai to Dublin via Istan...</td>\n",
       "      <td>Solo Leisure</td>\n",
       "      <td>Economy Class</td>\n",
       "      <td>1.0</td>\n",
       "      <td>1.0</td>\n",
       "      <td>1.0</td>\n",
       "      <td>1.0</td>\n",
       "      <td>1.0</td>\n",
       "      <td>1.0</td>\n",
       "      <td>no</td>\n",
       "      <td>6.0</td>\n",
       "    </tr>\n",
       "    <tr>\n",
       "      <th>...</th>\n",
       "      <td>...</td>\n",
       "      <td>...</td>\n",
       "      <td>...</td>\n",
       "      <td>...</td>\n",
       "      <td>...</td>\n",
       "      <td>...</td>\n",
       "      <td>...</td>\n",
       "      <td>...</td>\n",
       "      <td>...</td>\n",
       "      <td>...</td>\n",
       "      <td>...</td>\n",
       "      <td>...</td>\n",
       "      <td>...</td>\n",
       "      <td>...</td>\n",
       "      <td>...</td>\n",
       "      <td>...</td>\n",
       "      <td>...</td>\n",
       "      <td>...</td>\n",
       "      <td>...</td>\n",
       "    </tr>\n",
       "    <tr>\n",
       "      <th>62279</th>\n",
       "      <td>1.0</td>\n",
       "      <td>0.0</td>\n",
       "      <td>0.0</td>\n",
       "      <td>0.0</td>\n",
       "      <td>0.0</td>\n",
       "      <td>0.0</td>\n",
       "      <td>1.0</td>\n",
       "      <td>4.0</td>\n",
       "      <td>Kiev - Frankfurt - Kiev weekly normally with L...</td>\n",
       "      <td>Couple Leisure</td>\n",
       "      <td>Business Class</td>\n",
       "      <td>3.0</td>\n",
       "      <td>3.0</td>\n",
       "      <td>3.0</td>\n",
       "      <td>3.0</td>\n",
       "      <td>3.0</td>\n",
       "      <td>4.0</td>\n",
       "      <td>yes</td>\n",
       "      <td>6.0</td>\n",
       "    </tr>\n",
       "    <tr>\n",
       "      <th>62280</th>\n",
       "      <td>1.0</td>\n",
       "      <td>0.0</td>\n",
       "      <td>0.0</td>\n",
       "      <td>1.0</td>\n",
       "      <td>0.0</td>\n",
       "      <td>0.0</td>\n",
       "      <td>1.0</td>\n",
       "      <td>8.0</td>\n",
       "      <td>Berlin-Kiev-Berlin B737-400. The return flight...</td>\n",
       "      <td>Couple Leisure</td>\n",
       "      <td>Economy Class</td>\n",
       "      <td>4.0</td>\n",
       "      <td>4.0</td>\n",
       "      <td>4.0</td>\n",
       "      <td>4.0</td>\n",
       "      <td>4.0</td>\n",
       "      <td>4.0</td>\n",
       "      <td>yes</td>\n",
       "      <td>8.0</td>\n",
       "    </tr>\n",
       "    <tr>\n",
       "      <th>62281</th>\n",
       "      <td>1.0</td>\n",
       "      <td>0.0</td>\n",
       "      <td>0.0</td>\n",
       "      <td>1.0</td>\n",
       "      <td>0.0</td>\n",
       "      <td>0.0</td>\n",
       "      <td>0.0</td>\n",
       "      <td>5.0</td>\n",
       "      <td>Some 5 flights within couple months. Most of t...</td>\n",
       "      <td>Couple Leisure</td>\n",
       "      <td>Economy Class</td>\n",
       "      <td>3.0</td>\n",
       "      <td>3.0</td>\n",
       "      <td>3.0</td>\n",
       "      <td>3.0</td>\n",
       "      <td>3.0</td>\n",
       "      <td>4.0</td>\n",
       "      <td>no</td>\n",
       "      <td>6.0</td>\n",
       "    </tr>\n",
       "    <tr>\n",
       "      <th>62282</th>\n",
       "      <td>1.0</td>\n",
       "      <td>0.0</td>\n",
       "      <td>0.0</td>\n",
       "      <td>1.0</td>\n",
       "      <td>0.0</td>\n",
       "      <td>0.0</td>\n",
       "      <td>1.0</td>\n",
       "      <td>8.0</td>\n",
       "      <td>Vienna-Kiev return in Coach. Check in fine at ...</td>\n",
       "      <td>Couple Leisure</td>\n",
       "      <td>Economy Class</td>\n",
       "      <td>4.0</td>\n",
       "      <td>4.0</td>\n",
       "      <td>4.0</td>\n",
       "      <td>4.0</td>\n",
       "      <td>4.0</td>\n",
       "      <td>4.0</td>\n",
       "      <td>yes</td>\n",
       "      <td>8.0</td>\n",
       "    </tr>\n",
       "    <tr>\n",
       "      <th>62283</th>\n",
       "      <td>1.0</td>\n",
       "      <td>0.0</td>\n",
       "      <td>0.0</td>\n",
       "      <td>1.0</td>\n",
       "      <td>0.0</td>\n",
       "      <td>0.0</td>\n",
       "      <td>0.0</td>\n",
       "      <td>1.0</td>\n",
       "      <td>I recently booked a trip with travelocity. I f...</td>\n",
       "      <td>Couple Leisure</td>\n",
       "      <td>Economy Class</td>\n",
       "      <td>0.0</td>\n",
       "      <td>0.0</td>\n",
       "      <td>0.0</td>\n",
       "      <td>0.0</td>\n",
       "      <td>0.0</td>\n",
       "      <td>1.0</td>\n",
       "      <td>no</td>\n",
       "      <td>1.0</td>\n",
       "    </tr>\n",
       "  </tbody>\n",
       "</table>\n",
       "<p>62284 rows × 19 columns</p>\n",
       "</div>"
      ],
      "text/plain": [
       "       traveller_type_Couple Leisure  traveller_type_Family Leisure  \\\n",
       "0                                0.0                            0.0   \n",
       "1                                0.0                            1.0   \n",
       "2                                0.0                            0.0   \n",
       "3                                0.0                            0.0   \n",
       "4                                0.0                            0.0   \n",
       "...                              ...                            ...   \n",
       "62279                            1.0                            0.0   \n",
       "62280                            1.0                            0.0   \n",
       "62281                            1.0                            0.0   \n",
       "62282                            1.0                            0.0   \n",
       "62283                            1.0                            0.0   \n",
       "\n",
       "       traveller_type_Solo Leisure  cabin_Economy Class  cabin_First Class  \\\n",
       "0                              0.0                  1.0                0.0   \n",
       "1                              0.0                  1.0                0.0   \n",
       "2                              0.0                  1.0                0.0   \n",
       "3                              1.0                  1.0                0.0   \n",
       "4                              1.0                  1.0                0.0   \n",
       "...                            ...                  ...                ...   \n",
       "62279                          0.0                  0.0                0.0   \n",
       "62280                          0.0                  1.0                0.0   \n",
       "62281                          0.0                  1.0                0.0   \n",
       "62282                          0.0                  1.0                0.0   \n",
       "62283                          0.0                  1.0                0.0   \n",
       "\n",
       "       cabin_Premium Economy  recommended_yes  overall  \\\n",
       "0                        0.0              1.0      7.0   \n",
       "1                        0.0              0.0      2.0   \n",
       "2                        0.0              0.0      3.0   \n",
       "3                        0.0              1.0     10.0   \n",
       "4                        0.0              0.0      1.0   \n",
       "...                      ...              ...      ...   \n",
       "62279                    0.0              1.0      4.0   \n",
       "62280                    0.0              1.0      8.0   \n",
       "62281                    0.0              0.0      5.0   \n",
       "62282                    0.0              1.0      8.0   \n",
       "62283                    0.0              0.0      1.0   \n",
       "\n",
       "                                         customer_review  traveller_type  \\\n",
       "0      âœ… Trip Verified | London to Izmir via Istanb...        Business   \n",
       "1      âœ… Trip Verified | Istanbul to Bucharest. We ...  Family Leisure   \n",
       "2      âœ… Trip Verified | Rome to Prishtina via Ista...        Business   \n",
       "3      âœ… Trip Verified | Flew on Turkish Airlines I...    Solo Leisure   \n",
       "4      âœ… Trip Verified | Mumbai to Dublin via Istan...    Solo Leisure   \n",
       "...                                                  ...             ...   \n",
       "62279  Kiev - Frankfurt - Kiev weekly normally with L...  Couple Leisure   \n",
       "62280  Berlin-Kiev-Berlin B737-400. The return flight...  Couple Leisure   \n",
       "62281  Some 5 flights within couple months. Most of t...  Couple Leisure   \n",
       "62282  Vienna-Kiev return in Coach. Check in fine at ...  Couple Leisure   \n",
       "62283  I recently booked a trip with travelocity. I f...  Couple Leisure   \n",
       "\n",
       "                cabin  seat_comfort  cabin_service  food_bev  entertainment  \\\n",
       "0       Economy Class           4.0            5.0       4.0            4.0   \n",
       "1       Economy Class           4.0            1.0       1.0            1.0   \n",
       "2       Economy Class           1.0            4.0       1.0            3.0   \n",
       "3       Economy Class           4.0            5.0       5.0            5.0   \n",
       "4       Economy Class           1.0            1.0       1.0            1.0   \n",
       "...               ...           ...            ...       ...            ...   \n",
       "62279  Business Class           3.0            3.0       3.0            3.0   \n",
       "62280   Economy Class           4.0            4.0       4.0            4.0   \n",
       "62281   Economy Class           3.0            3.0       3.0            3.0   \n",
       "62282   Economy Class           4.0            4.0       4.0            4.0   \n",
       "62283   Economy Class           0.0            0.0       0.0            0.0   \n",
       "\n",
       "       ground_service  value_for_money recommended  ototal  \n",
       "0                 2.0              4.0         yes    26.0  \n",
       "1                 1.0              1.0          no    10.0  \n",
       "2                 1.0              2.0          no    13.0  \n",
       "3                 5.0              5.0         yes    34.0  \n",
       "4                 1.0              1.0          no     6.0  \n",
       "...               ...              ...         ...     ...  \n",
       "62279             3.0              4.0         yes     6.0  \n",
       "62280             4.0              4.0         yes     8.0  \n",
       "62281             3.0              4.0          no     6.0  \n",
       "62282             4.0              4.0         yes     8.0  \n",
       "62283             0.0              1.0          no     1.0  \n",
       "\n",
       "[62284 rows x 19 columns]"
      ]
     },
     "execution_count": 41,
     "metadata": {},
     "output_type": "execute_result"
    }
   ],
   "source": [
    "df"
   ]
  },
  {
   "cell_type": "code",
   "execution_count": 86,
   "id": "4e7cc4bf",
   "metadata": {},
   "outputs": [],
   "source": [
    "from sklearn.linear_model import LogisticRegression\n",
    "from sklearn.model_selection import train_test_split\n",
    "\n",
    "x = df.drop(['overall','customer_review', 'traveller_type', 'cabin', 'seat_comfort',\n",
    "       'cabin_service', 'food_bev', 'entertainment', 'ground_service',\n",
    "       'value_for_money', 'recommended', 'recommended_yes'], axis = 1)\n",
    "y = df[['recommended_yes']]"
   ]
  },
  {
   "cell_type": "code",
   "execution_count": 87,
   "id": "b1488579",
   "metadata": {},
   "outputs": [
    {
     "data": {
      "text/html": [
       "<div>\n",
       "<style scoped>\n",
       "    .dataframe tbody tr th:only-of-type {\n",
       "        vertical-align: middle;\n",
       "    }\n",
       "\n",
       "    .dataframe tbody tr th {\n",
       "        vertical-align: top;\n",
       "    }\n",
       "\n",
       "    .dataframe thead th {\n",
       "        text-align: right;\n",
       "    }\n",
       "</style>\n",
       "<table border=\"1\" class=\"dataframe\">\n",
       "  <thead>\n",
       "    <tr style=\"text-align: right;\">\n",
       "      <th></th>\n",
       "      <th>traveller_type_Couple Leisure</th>\n",
       "      <th>traveller_type_Family Leisure</th>\n",
       "      <th>traveller_type_Solo Leisure</th>\n",
       "      <th>cabin_Economy Class</th>\n",
       "      <th>cabin_First Class</th>\n",
       "      <th>cabin_Premium Economy</th>\n",
       "      <th>ototal</th>\n",
       "    </tr>\n",
       "  </thead>\n",
       "  <tbody>\n",
       "    <tr>\n",
       "      <th>0</th>\n",
       "      <td>0.0</td>\n",
       "      <td>0.0</td>\n",
       "      <td>0.0</td>\n",
       "      <td>1.0</td>\n",
       "      <td>0.0</td>\n",
       "      <td>0.0</td>\n",
       "      <td>26.0</td>\n",
       "    </tr>\n",
       "    <tr>\n",
       "      <th>1</th>\n",
       "      <td>0.0</td>\n",
       "      <td>1.0</td>\n",
       "      <td>0.0</td>\n",
       "      <td>1.0</td>\n",
       "      <td>0.0</td>\n",
       "      <td>0.0</td>\n",
       "      <td>10.0</td>\n",
       "    </tr>\n",
       "    <tr>\n",
       "      <th>2</th>\n",
       "      <td>0.0</td>\n",
       "      <td>0.0</td>\n",
       "      <td>0.0</td>\n",
       "      <td>1.0</td>\n",
       "      <td>0.0</td>\n",
       "      <td>0.0</td>\n",
       "      <td>13.0</td>\n",
       "    </tr>\n",
       "    <tr>\n",
       "      <th>3</th>\n",
       "      <td>0.0</td>\n",
       "      <td>0.0</td>\n",
       "      <td>1.0</td>\n",
       "      <td>1.0</td>\n",
       "      <td>0.0</td>\n",
       "      <td>0.0</td>\n",
       "      <td>34.0</td>\n",
       "    </tr>\n",
       "    <tr>\n",
       "      <th>4</th>\n",
       "      <td>0.0</td>\n",
       "      <td>0.0</td>\n",
       "      <td>1.0</td>\n",
       "      <td>1.0</td>\n",
       "      <td>0.0</td>\n",
       "      <td>0.0</td>\n",
       "      <td>6.0</td>\n",
       "    </tr>\n",
       "    <tr>\n",
       "      <th>...</th>\n",
       "      <td>...</td>\n",
       "      <td>...</td>\n",
       "      <td>...</td>\n",
       "      <td>...</td>\n",
       "      <td>...</td>\n",
       "      <td>...</td>\n",
       "      <td>...</td>\n",
       "    </tr>\n",
       "    <tr>\n",
       "      <th>62279</th>\n",
       "      <td>1.0</td>\n",
       "      <td>0.0</td>\n",
       "      <td>0.0</td>\n",
       "      <td>0.0</td>\n",
       "      <td>0.0</td>\n",
       "      <td>0.0</td>\n",
       "      <td>6.0</td>\n",
       "    </tr>\n",
       "    <tr>\n",
       "      <th>62280</th>\n",
       "      <td>1.0</td>\n",
       "      <td>0.0</td>\n",
       "      <td>0.0</td>\n",
       "      <td>1.0</td>\n",
       "      <td>0.0</td>\n",
       "      <td>0.0</td>\n",
       "      <td>8.0</td>\n",
       "    </tr>\n",
       "    <tr>\n",
       "      <th>62281</th>\n",
       "      <td>1.0</td>\n",
       "      <td>0.0</td>\n",
       "      <td>0.0</td>\n",
       "      <td>1.0</td>\n",
       "      <td>0.0</td>\n",
       "      <td>0.0</td>\n",
       "      <td>6.0</td>\n",
       "    </tr>\n",
       "    <tr>\n",
       "      <th>62282</th>\n",
       "      <td>1.0</td>\n",
       "      <td>0.0</td>\n",
       "      <td>0.0</td>\n",
       "      <td>1.0</td>\n",
       "      <td>0.0</td>\n",
       "      <td>0.0</td>\n",
       "      <td>8.0</td>\n",
       "    </tr>\n",
       "    <tr>\n",
       "      <th>62283</th>\n",
       "      <td>1.0</td>\n",
       "      <td>0.0</td>\n",
       "      <td>0.0</td>\n",
       "      <td>1.0</td>\n",
       "      <td>0.0</td>\n",
       "      <td>0.0</td>\n",
       "      <td>1.0</td>\n",
       "    </tr>\n",
       "  </tbody>\n",
       "</table>\n",
       "<p>62284 rows × 7 columns</p>\n",
       "</div>"
      ],
      "text/plain": [
       "       traveller_type_Couple Leisure  traveller_type_Family Leisure  \\\n",
       "0                                0.0                            0.0   \n",
       "1                                0.0                            1.0   \n",
       "2                                0.0                            0.0   \n",
       "3                                0.0                            0.0   \n",
       "4                                0.0                            0.0   \n",
       "...                              ...                            ...   \n",
       "62279                            1.0                            0.0   \n",
       "62280                            1.0                            0.0   \n",
       "62281                            1.0                            0.0   \n",
       "62282                            1.0                            0.0   \n",
       "62283                            1.0                            0.0   \n",
       "\n",
       "       traveller_type_Solo Leisure  cabin_Economy Class  cabin_First Class  \\\n",
       "0                              0.0                  1.0                0.0   \n",
       "1                              0.0                  1.0                0.0   \n",
       "2                              0.0                  1.0                0.0   \n",
       "3                              1.0                  1.0                0.0   \n",
       "4                              1.0                  1.0                0.0   \n",
       "...                            ...                  ...                ...   \n",
       "62279                          0.0                  0.0                0.0   \n",
       "62280                          0.0                  1.0                0.0   \n",
       "62281                          0.0                  1.0                0.0   \n",
       "62282                          0.0                  1.0                0.0   \n",
       "62283                          0.0                  1.0                0.0   \n",
       "\n",
       "       cabin_Premium Economy  ototal  \n",
       "0                        0.0    26.0  \n",
       "1                        0.0    10.0  \n",
       "2                        0.0    13.0  \n",
       "3                        0.0    34.0  \n",
       "4                        0.0     6.0  \n",
       "...                      ...     ...  \n",
       "62279                    0.0     6.0  \n",
       "62280                    0.0     8.0  \n",
       "62281                    0.0     6.0  \n",
       "62282                    0.0     8.0  \n",
       "62283                    0.0     1.0  \n",
       "\n",
       "[62284 rows x 7 columns]"
      ]
     },
     "execution_count": 87,
     "metadata": {},
     "output_type": "execute_result"
    }
   ],
   "source": [
    "x"
   ]
  },
  {
   "cell_type": "code",
   "execution_count": 88,
   "id": "5a173b48",
   "metadata": {},
   "outputs": [
    {
     "data": {
      "text/html": [
       "<div>\n",
       "<style scoped>\n",
       "    .dataframe tbody tr th:only-of-type {\n",
       "        vertical-align: middle;\n",
       "    }\n",
       "\n",
       "    .dataframe tbody tr th {\n",
       "        vertical-align: top;\n",
       "    }\n",
       "\n",
       "    .dataframe thead th {\n",
       "        text-align: right;\n",
       "    }\n",
       "</style>\n",
       "<table border=\"1\" class=\"dataframe\">\n",
       "  <thead>\n",
       "    <tr style=\"text-align: right;\">\n",
       "      <th></th>\n",
       "      <th>recommended_yes</th>\n",
       "    </tr>\n",
       "  </thead>\n",
       "  <tbody>\n",
       "    <tr>\n",
       "      <th>0</th>\n",
       "      <td>1.0</td>\n",
       "    </tr>\n",
       "    <tr>\n",
       "      <th>1</th>\n",
       "      <td>0.0</td>\n",
       "    </tr>\n",
       "    <tr>\n",
       "      <th>2</th>\n",
       "      <td>0.0</td>\n",
       "    </tr>\n",
       "    <tr>\n",
       "      <th>3</th>\n",
       "      <td>1.0</td>\n",
       "    </tr>\n",
       "    <tr>\n",
       "      <th>4</th>\n",
       "      <td>0.0</td>\n",
       "    </tr>\n",
       "    <tr>\n",
       "      <th>...</th>\n",
       "      <td>...</td>\n",
       "    </tr>\n",
       "    <tr>\n",
       "      <th>62279</th>\n",
       "      <td>1.0</td>\n",
       "    </tr>\n",
       "    <tr>\n",
       "      <th>62280</th>\n",
       "      <td>1.0</td>\n",
       "    </tr>\n",
       "    <tr>\n",
       "      <th>62281</th>\n",
       "      <td>0.0</td>\n",
       "    </tr>\n",
       "    <tr>\n",
       "      <th>62282</th>\n",
       "      <td>1.0</td>\n",
       "    </tr>\n",
       "    <tr>\n",
       "      <th>62283</th>\n",
       "      <td>0.0</td>\n",
       "    </tr>\n",
       "  </tbody>\n",
       "</table>\n",
       "<p>62284 rows × 1 columns</p>\n",
       "</div>"
      ],
      "text/plain": [
       "       recommended_yes\n",
       "0                  1.0\n",
       "1                  0.0\n",
       "2                  0.0\n",
       "3                  1.0\n",
       "4                  0.0\n",
       "...                ...\n",
       "62279              1.0\n",
       "62280              1.0\n",
       "62281              0.0\n",
       "62282              1.0\n",
       "62283              0.0\n",
       "\n",
       "[62284 rows x 1 columns]"
      ]
     },
     "execution_count": 88,
     "metadata": {},
     "output_type": "execute_result"
    }
   ],
   "source": [
    "y"
   ]
  },
  {
   "cell_type": "code",
   "execution_count": 89,
   "id": "dfd01e10",
   "metadata": {},
   "outputs": [],
   "source": [
    "x_train, x_test, y_train, y_test = train_test_split(x,y,test_size=0.2, random_state=42)"
   ]
  },
  {
   "cell_type": "code",
   "execution_count": 90,
   "id": "c7d4e0a5",
   "metadata": {},
   "outputs": [],
   "source": [
    "scalar = MinMaxScaler()\n",
    "x_train = scalar.fit_transform(x_train)\n",
    "x_test = scalar.transform(x_test)"
   ]
  },
  {
   "cell_type": "code",
   "execution_count": 91,
   "id": "a0a1368e",
   "metadata": {},
   "outputs": [],
   "source": [
    "log = LogisticRegression()\n",
    "model = log.fit(x_train, y_train)"
   ]
  },
  {
   "cell_type": "code",
   "execution_count": 92,
   "id": "ba81a6e2",
   "metadata": {},
   "outputs": [
    {
     "data": {
      "text/html": [
       "<style>#sk-container-id-4 {color: black;}#sk-container-id-4 pre{padding: 0;}#sk-container-id-4 div.sk-toggleable {background-color: white;}#sk-container-id-4 label.sk-toggleable__label {cursor: pointer;display: block;width: 100%;margin-bottom: 0;padding: 0.3em;box-sizing: border-box;text-align: center;}#sk-container-id-4 label.sk-toggleable__label-arrow:before {content: \"▸\";float: left;margin-right: 0.25em;color: #696969;}#sk-container-id-4 label.sk-toggleable__label-arrow:hover:before {color: black;}#sk-container-id-4 div.sk-estimator:hover label.sk-toggleable__label-arrow:before {color: black;}#sk-container-id-4 div.sk-toggleable__content {max-height: 0;max-width: 0;overflow: hidden;text-align: left;background-color: #f0f8ff;}#sk-container-id-4 div.sk-toggleable__content pre {margin: 0.2em;color: black;border-radius: 0.25em;background-color: #f0f8ff;}#sk-container-id-4 input.sk-toggleable__control:checked~div.sk-toggleable__content {max-height: 200px;max-width: 100%;overflow: auto;}#sk-container-id-4 input.sk-toggleable__control:checked~label.sk-toggleable__label-arrow:before {content: \"▾\";}#sk-container-id-4 div.sk-estimator input.sk-toggleable__control:checked~label.sk-toggleable__label {background-color: #d4ebff;}#sk-container-id-4 div.sk-label input.sk-toggleable__control:checked~label.sk-toggleable__label {background-color: #d4ebff;}#sk-container-id-4 input.sk-hidden--visually {border: 0;clip: rect(1px 1px 1px 1px);clip: rect(1px, 1px, 1px, 1px);height: 1px;margin: -1px;overflow: hidden;padding: 0;position: absolute;width: 1px;}#sk-container-id-4 div.sk-estimator {font-family: monospace;background-color: #f0f8ff;border: 1px dotted black;border-radius: 0.25em;box-sizing: border-box;margin-bottom: 0.5em;}#sk-container-id-4 div.sk-estimator:hover {background-color: #d4ebff;}#sk-container-id-4 div.sk-parallel-item::after {content: \"\";width: 100%;border-bottom: 1px solid gray;flex-grow: 1;}#sk-container-id-4 div.sk-label:hover label.sk-toggleable__label {background-color: #d4ebff;}#sk-container-id-4 div.sk-serial::before {content: \"\";position: absolute;border-left: 1px solid gray;box-sizing: border-box;top: 0;bottom: 0;left: 50%;z-index: 0;}#sk-container-id-4 div.sk-serial {display: flex;flex-direction: column;align-items: center;background-color: white;padding-right: 0.2em;padding-left: 0.2em;position: relative;}#sk-container-id-4 div.sk-item {position: relative;z-index: 1;}#sk-container-id-4 div.sk-parallel {display: flex;align-items: stretch;justify-content: center;background-color: white;position: relative;}#sk-container-id-4 div.sk-item::before, #sk-container-id-4 div.sk-parallel-item::before {content: \"\";position: absolute;border-left: 1px solid gray;box-sizing: border-box;top: 0;bottom: 0;left: 50%;z-index: -1;}#sk-container-id-4 div.sk-parallel-item {display: flex;flex-direction: column;z-index: 1;position: relative;background-color: white;}#sk-container-id-4 div.sk-parallel-item:first-child::after {align-self: flex-end;width: 50%;}#sk-container-id-4 div.sk-parallel-item:last-child::after {align-self: flex-start;width: 50%;}#sk-container-id-4 div.sk-parallel-item:only-child::after {width: 0;}#sk-container-id-4 div.sk-dashed-wrapped {border: 1px dashed gray;margin: 0 0.4em 0.5em 0.4em;box-sizing: border-box;padding-bottom: 0.4em;background-color: white;}#sk-container-id-4 div.sk-label label {font-family: monospace;font-weight: bold;display: inline-block;line-height: 1.2em;}#sk-container-id-4 div.sk-label-container {text-align: center;}#sk-container-id-4 div.sk-container {/* jupyter's `normalize.less` sets `[hidden] { display: none; }` but bootstrap.min.css set `[hidden] { display: none !important; }` so we also need the `!important` here to be able to override the default hidden behavior on the sphinx rendered scikit-learn.org. See: https://github.com/scikit-learn/scikit-learn/issues/21755 */display: inline-block !important;position: relative;}#sk-container-id-4 div.sk-text-repr-fallback {display: none;}</style><div id=\"sk-container-id-4\" class=\"sk-top-container\"><div class=\"sk-text-repr-fallback\"><pre>LogisticRegression()</pre><b>In a Jupyter environment, please rerun this cell to show the HTML representation or trust the notebook. <br />On GitHub, the HTML representation is unable to render, please try loading this page with nbviewer.org.</b></div><div class=\"sk-container\" hidden><div class=\"sk-item\"><div class=\"sk-estimator sk-toggleable\"><input class=\"sk-toggleable__control sk-hidden--visually\" id=\"sk-estimator-id-6\" type=\"checkbox\" checked><label for=\"sk-estimator-id-6\" class=\"sk-toggleable__label sk-toggleable__label-arrow\">LogisticRegression</label><div class=\"sk-toggleable__content\"><pre>LogisticRegression()</pre></div></div></div></div></div>"
      ],
      "text/plain": [
       "LogisticRegression()"
      ]
     },
     "execution_count": 92,
     "metadata": {},
     "output_type": "execute_result"
    }
   ],
   "source": [
    "model"
   ]
  },
  {
   "cell_type": "code",
   "execution_count": 93,
   "id": "487b6214",
   "metadata": {},
   "outputs": [
    {
     "name": "stdout",
     "output_type": "stream",
     "text": [
      "[[ 0.16013411 -0.16691833  0.29659747  0.25838521 -0.07692239 -0.41990169\n",
      "  11.68469776]]\n"
     ]
    }
   ],
   "source": [
    "print(log.coef_)"
   ]
  },
  {
   "cell_type": "code",
   "execution_count": 94,
   "id": "cf01b262",
   "metadata": {},
   "outputs": [
    {
     "name": "stdout",
     "output_type": "stream",
     "text": [
      "[-5.90157734]\n"
     ]
    }
   ],
   "source": [
    "print(log.intercept_)\n"
   ]
  },
  {
   "cell_type": "code",
   "execution_count": 95,
   "id": "93d0baa8",
   "metadata": {},
   "outputs": [
    {
     "name": "stdout",
     "output_type": "stream",
     "text": [
      "Train Score:  0.9019808537539888\n"
     ]
    }
   ],
   "source": [
    "print(\"Train Score: \",log.score(x_train,y_train))"
   ]
  },
  {
   "cell_type": "code",
   "execution_count": 96,
   "id": "870036ef",
   "metadata": {},
   "outputs": [
    {
     "name": "stdout",
     "output_type": "stream",
     "text": [
      "Test Score:  0.9019025447539536\n"
     ]
    }
   ],
   "source": [
    "print(\"Test Score: \",log.score(x_test,y_test))"
   ]
  },
  {
   "cell_type": "code",
   "execution_count": 97,
   "id": "334205ae",
   "metadata": {},
   "outputs": [],
   "source": [
    "pred_train = log.predict(x_train)\n",
    "pred_test = log.predict(x_test)"
   ]
  },
  {
   "cell_type": "code",
   "execution_count": 98,
   "id": "9e005038",
   "metadata": {},
   "outputs": [
    {
     "name": "stdout",
     "output_type": "stream",
     "text": [
      "              precision    recall  f1-score   support\n",
      "\n",
      "         0.0       0.90      0.90      0.90     25452\n",
      "         1.0       0.90      0.90      0.90     24375\n",
      "\n",
      "    accuracy                           0.90     49827\n",
      "   macro avg       0.90      0.90      0.90     49827\n",
      "weighted avg       0.90      0.90      0.90     49827\n",
      "\n"
     ]
    }
   ],
   "source": [
    "from sklearn.metrics import classification_report\n",
    "print(classification_report(y_train,pred_train))"
   ]
  },
  {
   "cell_type": "code",
   "execution_count": 99,
   "id": "85db9183",
   "metadata": {},
   "outputs": [
    {
     "name": "stdout",
     "output_type": "stream",
     "text": [
      "              precision    recall  f1-score   support\n",
      "\n",
      "         0.0       0.91      0.90      0.90      6322\n",
      "         1.0       0.90      0.90      0.90      6135\n",
      "\n",
      "    accuracy                           0.90     12457\n",
      "   macro avg       0.90      0.90      0.90     12457\n",
      "weighted avg       0.90      0.90      0.90     12457\n",
      "\n"
     ]
    }
   ],
   "source": [
    "print(classification_report(y_test,pred_test))"
   ]
  },
  {
   "cell_type": "markdown",
   "id": "e8ce78af",
   "metadata": {},
   "source": [
    "# AUC- ROC Curve and AUC- ROC Score"
   ]
  },
  {
   "cell_type": "code",
   "execution_count": 100,
   "id": "f6105bfe",
   "metadata": {},
   "outputs": [
    {
     "data": {
      "image/png": "[encoded data removed]",
      "text/plain": [
       "<Figure size 640x480 with 1 Axes>"
      ]
     },
     "metadata": {},
     "output_type": "display_data"
    }
   ],
   "source": [
    "from sklearn.metrics import confusion_matrix, accuracy_score, roc_curve, precision_score, recall_score, f1_score, roc_auc_score\n",
    "rocc = log.predict_proba(x_train)[:,1]\n",
    "\n",
    "fpr,tpr,threshold = roc_curve(y_train,rocc)\n",
    "plt.plot([0,1],[0,1],\"k--\")\n",
    "plt.plot(fpr,tpr,label= \"Logistic\")\n",
    "plt.show()"
   ]
  },
  {
   "cell_type": "code",
   "execution_count": 101,
   "id": "3b15b3b7",
   "metadata": {},
   "outputs": [
    {
     "data": {
      "text/plain": [
       "array([0.22748209, 0.12898997, 0.02587514, ..., 0.22748209, 0.99506817,\n",
       "       0.02587514])"
      ]
     },
     "execution_count": 101,
     "metadata": {},
     "output_type": "execute_result"
    }
   ],
   "source": [
    "log.predict_proba(x_train)[:,1]"
   ]
  },
  {
   "cell_type": "markdown",
   "id": "0fec2fc1",
   "metadata": {},
   "source": [
    "# GridSearchCV"
   ]
  },
  {
   "cell_type": "code",
   "execution_count": 102,
   "id": "fb4e30e5",
   "metadata": {},
   "outputs": [],
   "source": [
    "param_grid = {\n",
    "    \"penalty\": [\"l1\",\"l2\"],\n",
    "    \"C\" : [0.1,0.5,1,5,10]\n",
    "}"
   ]
  },
  {
   "cell_type": "code",
   "execution_count": 103,
   "id": "7e90fa83",
   "metadata": {},
   "outputs": [],
   "source": [
    "from sklearn.model_selection import GridSearchCV\n",
    "grid = GridSearchCV(estimator=log,param_grid=param_grid,cv=5)"
   ]
  },
  {
   "cell_type": "code",
   "execution_count": 104,
   "id": "5871c834",
   "metadata": {},
   "outputs": [
    {
     "data": {
      "text/html": [
       "<style>#sk-container-id-5 {color: black;}#sk-container-id-5 pre{padding: 0;}#sk-container-id-5 div.sk-toggleable {background-color: white;}#sk-container-id-5 label.sk-toggleable__label {cursor: pointer;display: block;width: 100%;margin-bottom: 0;padding: 0.3em;box-sizing: border-box;text-align: center;}#sk-container-id-5 label.sk-toggleable__label-arrow:before {content: \"▸\";float: left;margin-right: 0.25em;color: #696969;}#sk-container-id-5 label.sk-toggleable__label-arrow:hover:before {color: black;}#sk-container-id-5 div.sk-estimator:hover label.sk-toggleable__label-arrow:before {color: black;}#sk-container-id-5 div.sk-toggleable__content {max-height: 0;max-width: 0;overflow: hidden;text-align: left;background-color: #f0f8ff;}#sk-container-id-5 div.sk-toggleable__content pre {margin: 0.2em;color: black;border-radius: 0.25em;background-color: #f0f8ff;}#sk-container-id-5 input.sk-toggleable__control:checked~div.sk-toggleable__content {max-height: 200px;max-width: 100%;overflow: auto;}#sk-container-id-5 input.sk-toggleable__control:checked~label.sk-toggleable__label-arrow:before {content: \"▾\";}#sk-container-id-5 div.sk-estimator input.sk-toggleable__control:checked~label.sk-toggleable__label {background-color: #d4ebff;}#sk-container-id-5 div.sk-label input.sk-toggleable__control:checked~label.sk-toggleable__label {background-color: #d4ebff;}#sk-container-id-5 input.sk-hidden--visually {border: 0;clip: rect(1px 1px 1px 1px);clip: rect(1px, 1px, 1px, 1px);height: 1px;margin: -1px;overflow: hidden;padding: 0;position: absolute;width: 1px;}#sk-container-id-5 div.sk-estimator {font-family: monospace;background-color: #f0f8ff;border: 1px dotted black;border-radius: 0.25em;box-sizing: border-box;margin-bottom: 0.5em;}#sk-container-id-5 div.sk-estimator:hover {background-color: #d4ebff;}#sk-container-id-5 div.sk-parallel-item::after {content: \"\";width: 100%;border-bottom: 1px solid gray;flex-grow: 1;}#sk-container-id-5 div.sk-label:hover label.sk-toggleable__label {background-color: #d4ebff;}#sk-container-id-5 div.sk-serial::before {content: \"\";position: absolute;border-left: 1px solid gray;box-sizing: border-box;top: 0;bottom: 0;left: 50%;z-index: 0;}#sk-container-id-5 div.sk-serial {display: flex;flex-direction: column;align-items: center;background-color: white;padding-right: 0.2em;padding-left: 0.2em;position: relative;}#sk-container-id-5 div.sk-item {position: relative;z-index: 1;}#sk-container-id-5 div.sk-parallel {display: flex;align-items: stretch;justify-content: center;background-color: white;position: relative;}#sk-container-id-5 div.sk-item::before, #sk-container-id-5 div.sk-parallel-item::before {content: \"\";position: absolute;border-left: 1px solid gray;box-sizing: border-box;top: 0;bottom: 0;left: 50%;z-index: -1;}#sk-container-id-5 div.sk-parallel-item {display: flex;flex-direction: column;z-index: 1;position: relative;background-color: white;}#sk-container-id-5 div.sk-parallel-item:first-child::after {align-self: flex-end;width: 50%;}#sk-container-id-5 div.sk-parallel-item:last-child::after {align-self: flex-start;width: 50%;}#sk-container-id-5 div.sk-parallel-item:only-child::after {width: 0;}#sk-container-id-5 div.sk-dashed-wrapped {border: 1px dashed gray;margin: 0 0.4em 0.5em 0.4em;box-sizing: border-box;padding-bottom: 0.4em;background-color: white;}#sk-container-id-5 div.sk-label label {font-family: monospace;font-weight: bold;display: inline-block;line-height: 1.2em;}#sk-container-id-5 div.sk-label-container {text-align: center;}#sk-container-id-5 div.sk-container {/* jupyter's `normalize.less` sets `[hidden] { display: none; }` but bootstrap.min.css set `[hidden] { display: none !important; }` so we also need the `!important` here to be able to override the default hidden behavior on the sphinx rendered scikit-learn.org. See: https://github.com/scikit-learn/scikit-learn/issues/21755 */display: inline-block !important;position: relative;}#sk-container-id-5 div.sk-text-repr-fallback {display: none;}</style><div id=\"sk-container-id-5\" class=\"sk-top-container\"><div class=\"sk-text-repr-fallback\"><pre>GridSearchCV(cv=5, estimator=LogisticRegression(),\n",
       "             param_grid={&#x27;C&#x27;: [0.1, 0.5, 1, 5, 10], &#x27;penalty&#x27;: [&#x27;l1&#x27;, &#x27;l2&#x27;]})</pre><b>In a Jupyter environment, please rerun this cell to show the HTML representation or trust the notebook. <br />On GitHub, the HTML representation is unable to render, please try loading this page with nbviewer.org.</b></div><div class=\"sk-container\" hidden><div class=\"sk-item sk-dashed-wrapped\"><div class=\"sk-label-container\"><div class=\"sk-label sk-toggleable\"><input class=\"sk-toggleable__control sk-hidden--visually\" id=\"sk-estimator-id-7\" type=\"checkbox\" ><label for=\"sk-estimator-id-7\" class=\"sk-toggleable__label sk-toggleable__label-arrow\">GridSearchCV</label><div class=\"sk-toggleable__content\"><pre>GridSearchCV(cv=5, estimator=LogisticRegression(),\n",
       "             param_grid={&#x27;C&#x27;: [0.1, 0.5, 1, 5, 10], &#x27;penalty&#x27;: [&#x27;l1&#x27;, &#x27;l2&#x27;]})</pre></div></div></div><div class=\"sk-parallel\"><div class=\"sk-parallel-item\"><div class=\"sk-item\"><div class=\"sk-label-container\"><div class=\"sk-label sk-toggleable\"><input class=\"sk-toggleable__control sk-hidden--visually\" id=\"sk-estimator-id-8\" type=\"checkbox\" ><label for=\"sk-estimator-id-8\" class=\"sk-toggleable__label sk-toggleable__label-arrow\">estimator: LogisticRegression</label><div class=\"sk-toggleable__content\"><pre>LogisticRegression()</pre></div></div></div><div class=\"sk-serial\"><div class=\"sk-item\"><div class=\"sk-estimator sk-toggleable\"><input class=\"sk-toggleable__control sk-hidden--visually\" id=\"sk-estimator-id-9\" type=\"checkbox\" ><label for=\"sk-estimator-id-9\" class=\"sk-toggleable__label sk-toggleable__label-arrow\">LogisticRegression</label><div class=\"sk-toggleable__content\"><pre>LogisticRegression()</pre></div></div></div></div></div></div></div></div></div></div>"
      ],
      "text/plain": [
       "GridSearchCV(cv=5, estimator=LogisticRegression(),\n",
       "             param_grid={'C': [0.1, 0.5, 1, 5, 10], 'penalty': ['l1', 'l2']})"
      ]
     },
     "execution_count": 104,
     "metadata": {},
     "output_type": "execute_result"
    }
   ],
   "source": [
    "grid.fit(x_train,y_train)"
   ]
  },
  {
   "cell_type": "code",
   "execution_count": 105,
   "id": "73f95de9",
   "metadata": {},
   "outputs": [],
   "source": [
    "best_param = grid.best_params_\n",
    "best_model = grid.best_estimator_"
   ]
  },
  {
   "cell_type": "code",
   "execution_count": 106,
   "id": "f7daf518",
   "metadata": {},
   "outputs": [],
   "source": [
    "y_pred =best_model.predict(x_test)"
   ]
  },
  {
   "cell_type": "code",
   "execution_count": 107,
   "id": "ca40ea4e",
   "metadata": {},
   "outputs": [],
   "source": [
    "acc= accuracy_score(y_test,y_pred)\n",
    "pre = precision_score(y_test,y_pred)\n",
    "rec= recall_score(y_test, y_pred)\n",
    "f1 = f1_score(y_test,y_pred)\n",
    "roc_auc = roc_auc_score(y_test, y_pred)"
   ]
  },
  {
   "cell_type": "code",
   "execution_count": 108,
   "id": "9fe4ed89",
   "metadata": {},
   "outputs": [
    {
     "name": "stdout",
     "output_type": "stream",
     "text": [
      "Best Param: {'C': 0.1, 'penalty': 'l2'}\n",
      "Accuracy : 0.902785582403468\n",
      "precision: 0.9030779305828421\n",
      "Recall: 0.8991035044824776\n",
      "F1 Score: 0.9010863350485991\n",
      "AUC-ROC: 0.9027311258571831\n"
     ]
    }
   ],
   "source": [
    "print(\"Best Param:\",best_param)\n",
    "print(\"Accuracy :\" , acc)\n",
    "print(\"precision:\" ,pre)\n",
    "print(\"Recall:\", rec)\n",
    "print(\"F1 Score:\" , f1)\n",
    "print(\"AUC-ROC:\", roc_auc)"
   ]
  },
  {
   "cell_type": "code",
   "execution_count": 109,
   "id": "98dc1c43",
   "metadata": {},
   "outputs": [],
   "source": [
    "from sklearn.metrics import *"
   ]
  },
  {
   "cell_type": "code",
   "execution_count": 110,
   "id": "34216b91",
   "metadata": {},
   "outputs": [
    {
     "data": {
      "image/png": "[encoded data removed]",
      "text/plain": [
       "<Figure size 640x480 with 1 Axes>"
      ]
     },
     "metadata": {},
     "output_type": "display_data"
    }
   ],
   "source": [
    "rocc = log.predict_proba(x_test)[:,1]\n",
    "\n",
    "fpr,tpr,threshold = roc_curve(y_test,rocc)\n",
    "plt.plot([0,1],[0,1],\"k--\")\n",
    "plt.plot(fpr,tpr,label= \"Logistic\")\n",
    "plt.show()"
   ]
  },
  {
   "cell_type": "code",
   "execution_count": 111,
   "id": "ad622500",
   "metadata": {},
   "outputs": [
    {
     "data": {
      "text/plain": [
       "0.954698924623061"
      ]
     },
     "execution_count": 111,
     "metadata": {},
     "output_type": "execute_result"
    }
   ],
   "source": [
    "roc_auc_score(y_test,rocc)"
   ]
  },
  {
   "cell_type": "markdown",
   "id": "90c88db2",
   "metadata": {},
   "source": [
    "# Matthew's Correlation of Coefficients"
   ]
  },
  {
   "cell_type": "code",
   "execution_count": 112,
   "id": "05d75ffd",
   "metadata": {},
   "outputs": [
    {
     "name": "stdout",
     "output_type": "stream",
     "text": [
      "MCC:  0.8037938058447367\n"
     ]
    }
   ],
   "source": [
    "mcc = matthews_corrcoef(y_test, pred_test)\n",
    "print(\"MCC: \" , mcc)"
   ]
  },
  {
   "cell_type": "markdown",
   "id": "7345ff0a",
   "metadata": {},
   "source": [
    "# Confusion Matrix"
   ]
  },
  {
   "cell_type": "code",
   "execution_count": 113,
   "id": "a000ecad",
   "metadata": {},
   "outputs": [
    {
     "data": {
      "image/png": "[encoded data removed]",
      "text/plain": [
       "<Figure size 1500x600 with 2 Axes>"
      ]
     },
     "metadata": {},
     "output_type": "display_data"
    }
   ],
   "source": [
    "y_test_pred = log.predict(x_test)\n",
    "cm = confusion_matrix(y_test,y_test_pred)\n",
    "\n",
    "plt.figure(figsize=(15,6))\n",
    "sns.heatmap(data=cm, linewidth=.5, annot=True, fmt=\"g\", cmap=\"Set1\")\n",
    "plt.title(\"Model Evaluation using Confusion Matrix\",fontsize=20,pad=20,fontweight=\"black\")\n",
    "plt.ylabel(\"Actual Labels\")\n",
    "plt.xlabel(\"Predicted Labels\")\n",
    "plt.show()"
   ]
  },
  {
   "cell_type": "markdown",
   "id": "4fa643ef",
   "metadata": {},
   "source": [
    "# 2) SVM"
   ]
  },
  {
   "cell_type": "code",
   "execution_count": 114,
   "id": "937e5f95",
   "metadata": {},
   "outputs": [],
   "source": [
    "svcm = SVC(kernel= 'linear')  ## linear,rbf,poly,sigmoid, we can applide"
   ]
  },
  {
   "cell_type": "code",
   "execution_count": 115,
   "id": "b806f180",
   "metadata": {},
   "outputs": [
    {
     "data": {
      "text/html": [
       "<style>#sk-container-id-6 {color: black;}#sk-container-id-6 pre{padding: 0;}#sk-container-id-6 div.sk-toggleable {background-color: white;}#sk-container-id-6 label.sk-toggleable__label {cursor: pointer;display: block;width: 100%;margin-bottom: 0;padding: 0.3em;box-sizing: border-box;text-align: center;}#sk-container-id-6 label.sk-toggleable__label-arrow:before {content: \"▸\";float: left;margin-right: 0.25em;color: #696969;}#sk-container-id-6 label.sk-toggleable__label-arrow:hover:before {color: black;}#sk-container-id-6 div.sk-estimator:hover label.sk-toggleable__label-arrow:before {color: black;}#sk-container-id-6 div.sk-toggleable__content {max-height: 0;max-width: 0;overflow: hidden;text-align: left;background-color: #f0f8ff;}#sk-container-id-6 div.sk-toggleable__content pre {margin: 0.2em;color: black;border-radius: 0.25em;background-color: #f0f8ff;}#sk-container-id-6 input.sk-toggleable__control:checked~div.sk-toggleable__content {max-height: 200px;max-width: 100%;overflow: auto;}#sk-container-id-6 input.sk-toggleable__control:checked~label.sk-toggleable__label-arrow:before {content: \"▾\";}#sk-container-id-6 div.sk-estimator input.sk-toggleable__control:checked~label.sk-toggleable__label {background-color: #d4ebff;}#sk-container-id-6 div.sk-label input.sk-toggleable__control:checked~label.sk-toggleable__label {background-color: #d4ebff;}#sk-container-id-6 input.sk-hidden--visually {border: 0;clip: rect(1px 1px 1px 1px);clip: rect(1px, 1px, 1px, 1px);height: 1px;margin: -1px;overflow: hidden;padding: 0;position: absolute;width: 1px;}#sk-container-id-6 div.sk-estimator {font-family: monospace;background-color: #f0f8ff;border: 1px dotted black;border-radius: 0.25em;box-sizing: border-box;margin-bottom: 0.5em;}#sk-container-id-6 div.sk-estimator:hover {background-color: #d4ebff;}#sk-container-id-6 div.sk-parallel-item::after {content: \"\";width: 100%;border-bottom: 1px solid gray;flex-grow: 1;}#sk-container-id-6 div.sk-label:hover label.sk-toggleable__label {background-color: #d4ebff;}#sk-container-id-6 div.sk-serial::before {content: \"\";position: absolute;border-left: 1px solid gray;box-sizing: border-box;top: 0;bottom: 0;left: 50%;z-index: 0;}#sk-container-id-6 div.sk-serial {display: flex;flex-direction: column;align-items: center;background-color: white;padding-right: 0.2em;padding-left: 0.2em;position: relative;}#sk-container-id-6 div.sk-item {position: relative;z-index: 1;}#sk-container-id-6 div.sk-parallel {display: flex;align-items: stretch;justify-content: center;background-color: white;position: relative;}#sk-container-id-6 div.sk-item::before, #sk-container-id-6 div.sk-parallel-item::before {content: \"\";position: absolute;border-left: 1px solid gray;box-sizing: border-box;top: 0;bottom: 0;left: 50%;z-index: -1;}#sk-container-id-6 div.sk-parallel-item {display: flex;flex-direction: column;z-index: 1;position: relative;background-color: white;}#sk-container-id-6 div.sk-parallel-item:first-child::after {align-self: flex-end;width: 50%;}#sk-container-id-6 div.sk-parallel-item:last-child::after {align-self: flex-start;width: 50%;}#sk-container-id-6 div.sk-parallel-item:only-child::after {width: 0;}#sk-container-id-6 div.sk-dashed-wrapped {border: 1px dashed gray;margin: 0 0.4em 0.5em 0.4em;box-sizing: border-box;padding-bottom: 0.4em;background-color: white;}#sk-container-id-6 div.sk-label label {font-family: monospace;font-weight: bold;display: inline-block;line-height: 1.2em;}#sk-container-id-6 div.sk-label-container {text-align: center;}#sk-container-id-6 div.sk-container {/* jupyter's `normalize.less` sets `[hidden] { display: none; }` but bootstrap.min.css set `[hidden] { display: none !important; }` so we also need the `!important` here to be able to override the default hidden behavior on the sphinx rendered scikit-learn.org. See: https://github.com/scikit-learn/scikit-learn/issues/21755 */display: inline-block !important;position: relative;}#sk-container-id-6 div.sk-text-repr-fallback {display: none;}</style><div id=\"sk-container-id-6\" class=\"sk-top-container\"><div class=\"sk-text-repr-fallback\"><pre>SVC(kernel=&#x27;linear&#x27;)</pre><b>In a Jupyter environment, please rerun this cell to show the HTML representation or trust the notebook. <br />On GitHub, the HTML representation is unable to render, please try loading this page with nbviewer.org.</b></div><div class=\"sk-container\" hidden><div class=\"sk-item\"><div class=\"sk-estimator sk-toggleable\"><input class=\"sk-toggleable__control sk-hidden--visually\" id=\"sk-estimator-id-10\" type=\"checkbox\" checked><label for=\"sk-estimator-id-10\" class=\"sk-toggleable__label sk-toggleable__label-arrow\">SVC</label><div class=\"sk-toggleable__content\"><pre>SVC(kernel=&#x27;linear&#x27;)</pre></div></div></div></div></div>"
      ],
      "text/plain": [
       "SVC(kernel='linear')"
      ]
     },
     "execution_count": 115,
     "metadata": {},
     "output_type": "execute_result"
    }
   ],
   "source": [
    "svcm.fit(x_train,y_train)"
   ]
  },
  {
   "cell_type": "code",
   "execution_count": 116,
   "id": "29109d18",
   "metadata": {},
   "outputs": [],
   "source": [
    "y_pred = svcm.predict(x_test)"
   ]
  },
  {
   "cell_type": "code",
   "execution_count": 117,
   "id": "3ae55d3a",
   "metadata": {},
   "outputs": [
    {
     "data": {
      "text/plain": [
       "0.9030264108533355"
      ]
     },
     "execution_count": 117,
     "metadata": {},
     "output_type": "execute_result"
    }
   ],
   "source": [
    "acc= accuracy_score(y_test,y_pred)\n",
    "acc"
   ]
  },
  {
   "cell_type": "code",
   "execution_count": 118,
   "id": "0bc0db40",
   "metadata": {},
   "outputs": [
    {
     "name": "stdout",
     "output_type": "stream",
     "text": [
      "              precision    recall  f1-score   support\n",
      "\n",
      "         0.0       0.90      0.91      0.90      6322\n",
      "         1.0       0.90      0.90      0.90      6135\n",
      "\n",
      "    accuracy                           0.90     12457\n",
      "   macro avg       0.90      0.90      0.90     12457\n",
      "weighted avg       0.90      0.90      0.90     12457\n",
      "\n"
     ]
    }
   ],
   "source": [
    "print(classification_report(y_test, y_pred))"
   ]
  },
  {
   "cell_type": "code",
   "execution_count": 119,
   "id": "36db0b62",
   "metadata": {},
   "outputs": [
    {
     "name": "stdout",
     "output_type": "stream",
     "text": [
      "confussion matrix\n",
      "[[5859  463]\n",
      " [ 732 5403]]\n",
      "\n",
      "\n",
      "Accuracy of Support Vector Classifier: 90.40700008027615 \n",
      "\n",
      "              precision    recall  f1-score   support\n",
      "\n",
      "         0.0       0.89      0.93      0.91      6322\n",
      "         1.0       0.92      0.88      0.90      6135\n",
      "\n",
      "    accuracy                           0.90     12457\n",
      "   macro avg       0.91      0.90      0.90     12457\n",
      "weighted avg       0.90      0.90      0.90     12457\n",
      "\n"
     ]
    }
   ],
   "source": [
    "m7 = 'Support Vector Classifier'\n",
    "svc =  SVC(kernel='rbf', C=2)\n",
    "svc.fit(x_train, y_train)\n",
    "svc_predicted = svc.predict(x_test)\n",
    "svc_conf_matrix = confusion_matrix(y_test, svc_predicted)\n",
    "svc_acc_score = accuracy_score(y_test, svc_predicted)\n",
    "print(\"confussion matrix\")\n",
    "print(svc_conf_matrix)\n",
    "print(\"\\n\")\n",
    "print(\"Accuracy of Support Vector Classifier:\",svc_acc_score*100,'\\n')\n",
    "print(classification_report(y_test,svc_predicted))"
   ]
  },
  {
   "cell_type": "markdown",
   "id": "e29a13f2",
   "metadata": {},
   "source": [
    "# Confusion Matrix"
   ]
  },
  {
   "cell_type": "code",
   "execution_count": 121,
   "id": "c4930496",
   "metadata": {},
   "outputs": [
    {
     "data": {
      "image/png": "[encoded data removed]",
      "text/plain": [
       "<Figure size 1500x600 with 2 Axes>"
      ]
     },
     "metadata": {},
     "output_type": "display_data"
    }
   ],
   "source": [
    "y_test_pred = svcm.predict(x_test)\n",
    "cm = confusion_matrix(y_test,y_test_pred)\n",
    "\n",
    "plt.figure(figsize=(15,6))\n",
    "sns.heatmap(data=cm, linewidth=.5, annot=True, fmt=\"g\", cmap=\"Set1\")\n",
    "plt.title(\"Model Evaluation using Confusion Matrix\",fontsize=20,pad=20,fontweight=\"black\")\n",
    "plt.ylabel(\"Actual Labels\")\n",
    "plt.xlabel(\"Predicted Labels\")\n",
    "plt.show()"
   ]
  },
  {
   "cell_type": "markdown",
   "id": "c1636991",
   "metadata": {},
   "source": [
    "# AUC- ROC Curve and AUC- ROC Score"
   ]
  },
  {
   "cell_type": "code",
   "execution_count": 122,
   "id": "6c314a7f",
   "metadata": {},
   "outputs": [
    {
     "data": {
      "image/png": "[encoded data removed]",
      "text/plain": [
       "<Figure size 640x480 with 1 Axes>"
      ]
     },
     "metadata": {},
     "output_type": "display_data"
    }
   ],
   "source": [
    "from sklearn import metrics\n",
    "roc = svcm.decision_function(x_train)\n",
    "fpr, tpr, thresholds = metrics.roc_curve(y_train, roc)\n",
    "plt.plot([0, 1], [0, 1], \"k--\")\n",
    "plt.plot(fpr, tpr, label=\"SVM\")\n",
    "plt.xlabel('False Positive Rate')\n",
    "plt.ylabel('True Positive Rate')\n",
    "plt.title('Receiver Operating Characteristic (ROC) Curve')\n",
    "plt.legend()\n",
    "plt.show()"
   ]
  },
  {
   "cell_type": "code",
   "execution_count": 123,
   "id": "0a47129d",
   "metadata": {},
   "outputs": [
    {
     "data": {
      "text/plain": [
       "0.9521265610077491"
      ]
     },
     "execution_count": 123,
     "metadata": {},
     "output_type": "execute_result"
    }
   ],
   "source": [
    "metrics.roc_auc_score(y_train,roc)"
   ]
  },
  {
   "cell_type": "code",
   "execution_count": 124,
   "id": "430f8257",
   "metadata": {},
   "outputs": [
    {
     "data": {
      "image/png": "[encoded data removed]",
      "text/plain": [
       "<Figure size 640x480 with 1 Axes>"
      ]
     },
     "metadata": {},
     "output_type": "display_data"
    }
   ],
   "source": [
    "rocc = svcm.decision_function(x_test)\n",
    "fpr, tpr, thresholds = metrics.roc_curve(y_test, rocc)\n",
    "plt.plot([0, 1], [0, 1], \"k--\")\n",
    "plt.plot(fpr, tpr, label=\"SVM\")\n",
    "plt.xlabel('False Positive Rate')\n",
    "plt.ylabel('True Positive Rate')\n",
    "plt.title('Receiver Operating Characteristic (ROC) Curve')\n",
    "plt.legend()\n",
    "plt.show()"
   ]
  },
  {
   "cell_type": "code",
   "execution_count": 125,
   "id": "d667fbf0",
   "metadata": {},
   "outputs": [
    {
     "data": {
      "text/plain": [
       "0.9545595425297153"
      ]
     },
     "execution_count": 125,
     "metadata": {},
     "output_type": "execute_result"
    }
   ],
   "source": [
    "metrics.roc_auc_score(y_test,rocc)"
   ]
  },
  {
   "cell_type": "code",
   "execution_count": 126,
   "id": "5a74b517",
   "metadata": {},
   "outputs": [
    {
     "name": "stdout",
     "output_type": "stream",
     "text": [
      "Test Score: 0.902958749758608\n"
     ]
    }
   ],
   "source": [
    "print(\"Test Score:\",metrics.roc_auc_score(y_test,y_pred))"
   ]
  },
  {
   "cell_type": "markdown",
   "id": "81941316",
   "metadata": {},
   "source": [
    "# 3) Naive Bayes"
   ]
  },
  {
   "cell_type": "code",
   "execution_count": 127,
   "id": "bcfae3ca",
   "metadata": {},
   "outputs": [],
   "source": [
    "bayes = naive_bayes.GaussianNB()"
   ]
  },
  {
   "cell_type": "code",
   "execution_count": 128,
   "id": "0ffc4b5f",
   "metadata": {},
   "outputs": [
    {
     "data": {
      "text/html": [
       "<style>#sk-container-id-7 {color: black;}#sk-container-id-7 pre{padding: 0;}#sk-container-id-7 div.sk-toggleable {background-color: white;}#sk-container-id-7 label.sk-toggleable__label {cursor: pointer;display: block;width: 100%;margin-bottom: 0;padding: 0.3em;box-sizing: border-box;text-align: center;}#sk-container-id-7 label.sk-toggleable__label-arrow:before {content: \"▸\";float: left;margin-right: 0.25em;color: #696969;}#sk-container-id-7 label.sk-toggleable__label-arrow:hover:before {color: black;}#sk-container-id-7 div.sk-estimator:hover label.sk-toggleable__label-arrow:before {color: black;}#sk-container-id-7 div.sk-toggleable__content {max-height: 0;max-width: 0;overflow: hidden;text-align: left;background-color: #f0f8ff;}#sk-container-id-7 div.sk-toggleable__content pre {margin: 0.2em;color: black;border-radius: 0.25em;background-color: #f0f8ff;}#sk-container-id-7 input.sk-toggleable__control:checked~div.sk-toggleable__content {max-height: 200px;max-width: 100%;overflow: auto;}#sk-container-id-7 input.sk-toggleable__control:checked~label.sk-toggleable__label-arrow:before {content: \"▾\";}#sk-container-id-7 div.sk-estimator input.sk-toggleable__control:checked~label.sk-toggleable__label {background-color: #d4ebff;}#sk-container-id-7 div.sk-label input.sk-toggleable__control:checked~label.sk-toggleable__label {background-color: #d4ebff;}#sk-container-id-7 input.sk-hidden--visually {border: 0;clip: rect(1px 1px 1px 1px);clip: rect(1px, 1px, 1px, 1px);height: 1px;margin: -1px;overflow: hidden;padding: 0;position: absolute;width: 1px;}#sk-container-id-7 div.sk-estimator {font-family: monospace;background-color: #f0f8ff;border: 1px dotted black;border-radius: 0.25em;box-sizing: border-box;margin-bottom: 0.5em;}#sk-container-id-7 div.sk-estimator:hover {background-color: #d4ebff;}#sk-container-id-7 div.sk-parallel-item::after {content: \"\";width: 100%;border-bottom: 1px solid gray;flex-grow: 1;}#sk-container-id-7 div.sk-label:hover label.sk-toggleable__label {background-color: #d4ebff;}#sk-container-id-7 div.sk-serial::before {content: \"\";position: absolute;border-left: 1px solid gray;box-sizing: border-box;top: 0;bottom: 0;left: 50%;z-index: 0;}#sk-container-id-7 div.sk-serial {display: flex;flex-direction: column;align-items: center;background-color: white;padding-right: 0.2em;padding-left: 0.2em;position: relative;}#sk-container-id-7 div.sk-item {position: relative;z-index: 1;}#sk-container-id-7 div.sk-parallel {display: flex;align-items: stretch;justify-content: center;background-color: white;position: relative;}#sk-container-id-7 div.sk-item::before, #sk-container-id-7 div.sk-parallel-item::before {content: \"\";position: absolute;border-left: 1px solid gray;box-sizing: border-box;top: 0;bottom: 0;left: 50%;z-index: -1;}#sk-container-id-7 div.sk-parallel-item {display: flex;flex-direction: column;z-index: 1;position: relative;background-color: white;}#sk-container-id-7 div.sk-parallel-item:first-child::after {align-self: flex-end;width: 50%;}#sk-container-id-7 div.sk-parallel-item:last-child::after {align-self: flex-start;width: 50%;}#sk-container-id-7 div.sk-parallel-item:only-child::after {width: 0;}#sk-container-id-7 div.sk-dashed-wrapped {border: 1px dashed gray;margin: 0 0.4em 0.5em 0.4em;box-sizing: border-box;padding-bottom: 0.4em;background-color: white;}#sk-container-id-7 div.sk-label label {font-family: monospace;font-weight: bold;display: inline-block;line-height: 1.2em;}#sk-container-id-7 div.sk-label-container {text-align: center;}#sk-container-id-7 div.sk-container {/* jupyter's `normalize.less` sets `[hidden] { display: none; }` but bootstrap.min.css set `[hidden] { display: none !important; }` so we also need the `!important` here to be able to override the default hidden behavior on the sphinx rendered scikit-learn.org. See: https://github.com/scikit-learn/scikit-learn/issues/21755 */display: inline-block !important;position: relative;}#sk-container-id-7 div.sk-text-repr-fallback {display: none;}</style><div id=\"sk-container-id-7\" class=\"sk-top-container\"><div class=\"sk-text-repr-fallback\"><pre>GaussianNB()</pre><b>In a Jupyter environment, please rerun this cell to show the HTML representation or trust the notebook. <br />On GitHub, the HTML representation is unable to render, please try loading this page with nbviewer.org.</b></div><div class=\"sk-container\" hidden><div class=\"sk-item\"><div class=\"sk-estimator sk-toggleable\"><input class=\"sk-toggleable__control sk-hidden--visually\" id=\"sk-estimator-id-11\" type=\"checkbox\" checked><label for=\"sk-estimator-id-11\" class=\"sk-toggleable__label sk-toggleable__label-arrow\">GaussianNB</label><div class=\"sk-toggleable__content\"><pre>GaussianNB()</pre></div></div></div></div></div>"
      ],
      "text/plain": [
       "GaussianNB()"
      ]
     },
     "execution_count": 128,
     "metadata": {},
     "output_type": "execute_result"
    }
   ],
   "source": [
    "bayes.fit(x_train, y_train)"
   ]
  },
  {
   "cell_type": "code",
   "execution_count": 129,
   "id": "e4f0c901",
   "metadata": {},
   "outputs": [
    {
     "name": "stdout",
     "output_type": "stream",
     "text": [
      "Accuracy (Naive Bayes): 0.8908244360600466\n",
      "Classification Report (Naive Bayes):\n",
      "              precision    recall  f1-score   support\n",
      "\n",
      "         0.0       0.89      0.90      0.89      6322\n",
      "         1.0       0.89      0.88      0.89      6135\n",
      "\n",
      "    accuracy                           0.89     12457\n",
      "   macro avg       0.89      0.89      0.89     12457\n",
      "weighted avg       0.89      0.89      0.89     12457\n",
      "\n"
     ]
    }
   ],
   "source": [
    "y_pred_bayes = bayes.predict(x_test)\n",
    "accuracy_bayes = accuracy_score(y_test, y_pred_bayes)\n",
    "print(\"Accuracy (Naive Bayes):\", accuracy_bayes)\n",
    "print(\"Classification Report (Naive Bayes):\")\n",
    "\n",
    "print(classification_report(y_test, y_pred_bayes))"
   ]
  },
  {
   "cell_type": "code",
   "execution_count": 130,
   "id": "09b58ee7",
   "metadata": {},
   "outputs": [
    {
     "name": "stdout",
     "output_type": "stream",
     "text": [
      "Accuracy : 90.30%\n"
     ]
    }
   ],
   "source": [
    "acc = metrics.accuracy_score(y_test,y_pred)\n",
    "print(\"Accuracy : {:.2f}%\".format(acc*100))"
   ]
  },
  {
   "cell_type": "code",
   "execution_count": 131,
   "id": "bc5ef810",
   "metadata": {},
   "outputs": [
    {
     "name": "stdout",
     "output_type": "stream",
     "text": [
      "confussion matrix\n",
      "[[5672  650]\n",
      " [ 710 5425]]\n",
      "\n",
      "\n",
      "Accuracy of Naive Bayes model: 89.08244360600466 \n",
      "\n",
      "              precision    recall  f1-score   support\n",
      "\n",
      "         0.0       0.89      0.90      0.89      6322\n",
      "         1.0       0.89      0.88      0.89      6135\n",
      "\n",
      "    accuracy                           0.89     12457\n",
      "   macro avg       0.89      0.89      0.89     12457\n",
      "weighted avg       0.89      0.89      0.89     12457\n",
      "\n"
     ]
    }
   ],
   "source": [
    "m2 = 'Naive Bayes'\n",
    "nb = naive_bayes.GaussianNB()\n",
    "nb.fit(x_train,y_train)\n",
    "nbpred = nb.predict(x_test)\n",
    "nb_conf_matrix = confusion_matrix(y_test, nbpred)\n",
    "nb_acc_score = accuracy_score(y_test, nbpred)\n",
    "print(\"confussion matrix\")\n",
    "print(nb_conf_matrix)\n",
    "print(\"\\n\")\n",
    "print(\"Accuracy of Naive Bayes model:\",nb_acc_score*100,'\\n')\n",
    "print(classification_report(y_test,nbpred))"
   ]
  },
  {
   "cell_type": "markdown",
   "id": "835cab39",
   "metadata": {},
   "source": [
    "# AUC- ROC Curve and AUC- ROC Score"
   ]
  },
  {
   "cell_type": "code",
   "execution_count": 132,
   "id": "9b1d1deb",
   "metadata": {},
   "outputs": [
    {
     "data": {
      "image/png": "[encoded data removed]",
      "text/plain": [
       "<Figure size 640x480 with 1 Axes>"
      ]
     },
     "metadata": {},
     "output_type": "display_data"
    }
   ],
   "source": [
    "roc_c = bayes.predict_proba(x_train)[:,1]\n",
    "\n",
    "fpr,tpr,threshold = metrics.roc_curve(y_train,roc_c)\n",
    "plt.plot([0,1],[0,1],\"k--\")\n",
    "plt.plot(fpr,tpr,label= \"Naive Bayes\")\n",
    "plt.show()"
   ]
  },
  {
   "cell_type": "code",
   "execution_count": 133,
   "id": "56a6b69d",
   "metadata": {},
   "outputs": [
    {
     "data": {
      "text/plain": [
       "0.9334566270546469"
      ]
     },
     "execution_count": 133,
     "metadata": {},
     "output_type": "execute_result"
    }
   ],
   "source": [
    "metrics.roc_auc_score(y_train,roc_c)"
   ]
  },
  {
   "cell_type": "code",
   "execution_count": 134,
   "id": "3a331e9c",
   "metadata": {},
   "outputs": [
    {
     "data": {
      "image/png": "[encoded data removed]",
      "text/plain": [
       "<Figure size 640x480 with 1 Axes>"
      ]
     },
     "metadata": {},
     "output_type": "display_data"
    }
   ],
   "source": [
    "rocc_c = bayes.predict_proba(x_test)[:,1]\n",
    "\n",
    "fpr,tpr,threshold = metrics.roc_curve(y_test,rocc_c)\n",
    "plt.plot([0,1],[0,1],\"k--\")\n",
    "plt.plot(fpr,tpr,label= \"Naive Bayes\")\n",
    "plt.show()"
   ]
  },
  {
   "cell_type": "code",
   "execution_count": 135,
   "id": "fd6b8707",
   "metadata": {},
   "outputs": [
    {
     "data": {
      "text/plain": [
       "0.9384249952366184"
      ]
     },
     "execution_count": 135,
     "metadata": {},
     "output_type": "execute_result"
    }
   ],
   "source": [
    "metrics.roc_auc_score(y_test,rocc_c)"
   ]
  },
  {
   "cell_type": "markdown",
   "id": "ec35fc77",
   "metadata": {},
   "source": [
    "# Confusion Matrix For Naive Bayes\n"
   ]
  },
  {
   "cell_type": "code",
   "execution_count": 136,
   "id": "3ee2bb47",
   "metadata": {},
   "outputs": [
    {
     "data": {
      "image/png": "[encoded data removed]",
      "text/plain": [
       "<Figure size 1500x600 with 2 Axes>"
      ]
     },
     "metadata": {},
     "output_type": "display_data"
    }
   ],
   "source": [
    "y_test_pred = bayes.predict(x_test)\n",
    "cm = confusion_matrix(y_test,y_test_pred)\n",
    "\n",
    "plt.figure(figsize=(15,6))\n",
    "sns.heatmap(data=cm, linewidth=.5, annot=True, fmt=\"g\", cmap=\"Set1\")\n",
    "plt.title(\"Model Evaluation using Confusion Matrix\",fontsize=20,pad=20,fontweight=\"black\")\n",
    "plt.ylabel(\"Actual Labels\")\n",
    "plt.xlabel(\"Predicted Labels\")\n",
    "plt.show()"
   ]
  },
  {
   "cell_type": "markdown",
   "id": "2641a7de",
   "metadata": {},
   "source": [
    "# GridSearchCV For Naive Bayes\n"
   ]
  },
  {
   "cell_type": "code",
   "execution_count": 137,
   "id": "efcefd2c",
   "metadata": {},
   "outputs": [
    {
     "name": "stdout",
     "output_type": "stream",
     "text": [
      "Fitting 5 folds for each of 80 candidates, totalling 400 fits\n",
      "Best Parameters : {'alpha': 0.01, 'binarize': None, 'class_prior': None, 'fit_prior': False}\n",
      "Best Accuracy Through Grid Search : 0.813\n",
      "\n"
     ]
    }
   ],
   "source": [
    "from sklearn.naive_bayes import BernoulliNB  # Import BernoulliNB class\n",
    "from sklearn.model_selection import GridSearchCV\n",
    "n_classes = len(np.unique(y_train))\n",
    "\n",
    "params = {'alpha': [0.01, 0.1, 0.5, 1.0, 10.0],\n",
    "          'fit_prior': [True, False],\n",
    "          'class_prior': [None, [0.1,]* (n_classes), ],\n",
    "          'binarize': [None, 0.0, 8.5, 10.0]\n",
    "         }\n",
    "\n",
    "bernoulli_nb_grid = GridSearchCV(BernoulliNB(), param_grid=params, n_jobs=-1, cv=5, verbose=5)\n",
    "bernoulli_nb_grid.fit(x_train,y_train)\n",
    "\n",
    "print('Best Parameters : {}'.format(bernoulli_nb_grid.best_params_))\n",
    "print('Best Accuracy Through Grid Search : {:.3f}\\n'.format(bernoulli_nb_grid.best_score_))"
   ]
  },
  {
   "cell_type": "code",
   "execution_count": 138,
   "id": "9ee7f8a9",
   "metadata": {},
   "outputs": [
    {
     "name": "stdout",
     "output_type": "stream",
     "text": [
      "              precision    recall  f1-score   support\n",
      "\n",
      "         0.0       0.82      0.84      0.83      6322\n",
      "         1.0       0.83      0.81      0.82      6135\n",
      "\n",
      "    accuracy                           0.82     12457\n",
      "   macro avg       0.82      0.82      0.82     12457\n",
      "weighted avg       0.82      0.82      0.82     12457\n",
      "\n"
     ]
    }
   ],
   "source": [
    "grid_predictionss = bernoulli_nb_grid.predict(x_test) \n",
    "\n",
    "# print classification report \n",
    "print(classification_report(y_test, grid_predictionss)) "
   ]
  },
  {
   "cell_type": "markdown",
   "id": "2caf9577",
   "metadata": {},
   "source": [
    "# 4) K-Nearest Neighbour"
   ]
  },
  {
   "cell_type": "code",
   "execution_count": 139,
   "id": "4c7a8083",
   "metadata": {},
   "outputs": [],
   "source": [
    "from sklearn.neighbors import KNeighborsClassifier\n",
    "knn = KNeighborsClassifier(n_neighbors=10)"
   ]
  },
  {
   "cell_type": "code",
   "execution_count": 140,
   "id": "f75d0d9c",
   "metadata": {},
   "outputs": [
    {
     "data": {
      "text/html": [
       "<style>#sk-container-id-8 {color: black;}#sk-container-id-8 pre{padding: 0;}#sk-container-id-8 div.sk-toggleable {background-color: white;}#sk-container-id-8 label.sk-toggleable__label {cursor: pointer;display: block;width: 100%;margin-bottom: 0;padding: 0.3em;box-sizing: border-box;text-align: center;}#sk-container-id-8 label.sk-toggleable__label-arrow:before {content: \"▸\";float: left;margin-right: 0.25em;color: #696969;}#sk-container-id-8 label.sk-toggleable__label-arrow:hover:before {color: black;}#sk-container-id-8 div.sk-estimator:hover label.sk-toggleable__label-arrow:before {color: black;}#sk-container-id-8 div.sk-toggleable__content {max-height: 0;max-width: 0;overflow: hidden;text-align: left;background-color: #f0f8ff;}#sk-container-id-8 div.sk-toggleable__content pre {margin: 0.2em;color: black;border-radius: 0.25em;background-color: #f0f8ff;}#sk-container-id-8 input.sk-toggleable__control:checked~div.sk-toggleable__content {max-height: 200px;max-width: 100%;overflow: auto;}#sk-container-id-8 input.sk-toggleable__control:checked~label.sk-toggleable__label-arrow:before {content: \"▾\";}#sk-container-id-8 div.sk-estimator input.sk-toggleable__control:checked~label.sk-toggleable__label {background-color: #d4ebff;}#sk-container-id-8 div.sk-label input.sk-toggleable__control:checked~label.sk-toggleable__label {background-color: #d4ebff;}#sk-container-id-8 input.sk-hidden--visually {border: 0;clip: rect(1px 1px 1px 1px);clip: rect(1px, 1px, 1px, 1px);height: 1px;margin: -1px;overflow: hidden;padding: 0;position: absolute;width: 1px;}#sk-container-id-8 div.sk-estimator {font-family: monospace;background-color: #f0f8ff;border: 1px dotted black;border-radius: 0.25em;box-sizing: border-box;margin-bottom: 0.5em;}#sk-container-id-8 div.sk-estimator:hover {background-color: #d4ebff;}#sk-container-id-8 div.sk-parallel-item::after {content: \"\";width: 100%;border-bottom: 1px solid gray;flex-grow: 1;}#sk-container-id-8 div.sk-label:hover label.sk-toggleable__label {background-color: #d4ebff;}#sk-container-id-8 div.sk-serial::before {content: \"\";position: absolute;border-left: 1px solid gray;box-sizing: border-box;top: 0;bottom: 0;left: 50%;z-index: 0;}#sk-container-id-8 div.sk-serial {display: flex;flex-direction: column;align-items: center;background-color: white;padding-right: 0.2em;padding-left: 0.2em;position: relative;}#sk-container-id-8 div.sk-item {position: relative;z-index: 1;}#sk-container-id-8 div.sk-parallel {display: flex;align-items: stretch;justify-content: center;background-color: white;position: relative;}#sk-container-id-8 div.sk-item::before, #sk-container-id-8 div.sk-parallel-item::before {content: \"\";position: absolute;border-left: 1px solid gray;box-sizing: border-box;top: 0;bottom: 0;left: 50%;z-index: -1;}#sk-container-id-8 div.sk-parallel-item {display: flex;flex-direction: column;z-index: 1;position: relative;background-color: white;}#sk-container-id-8 div.sk-parallel-item:first-child::after {align-self: flex-end;width: 50%;}#sk-container-id-8 div.sk-parallel-item:last-child::after {align-self: flex-start;width: 50%;}#sk-container-id-8 div.sk-parallel-item:only-child::after {width: 0;}#sk-container-id-8 div.sk-dashed-wrapped {border: 1px dashed gray;margin: 0 0.4em 0.5em 0.4em;box-sizing: border-box;padding-bottom: 0.4em;background-color: white;}#sk-container-id-8 div.sk-label label {font-family: monospace;font-weight: bold;display: inline-block;line-height: 1.2em;}#sk-container-id-8 div.sk-label-container {text-align: center;}#sk-container-id-8 div.sk-container {/* jupyter's `normalize.less` sets `[hidden] { display: none; }` but bootstrap.min.css set `[hidden] { display: none !important; }` so we also need the `!important` here to be able to override the default hidden behavior on the sphinx rendered scikit-learn.org. See: https://github.com/scikit-learn/scikit-learn/issues/21755 */display: inline-block !important;position: relative;}#sk-container-id-8 div.sk-text-repr-fallback {display: none;}</style><div id=\"sk-container-id-8\" class=\"sk-top-container\"><div class=\"sk-text-repr-fallback\"><pre>KNeighborsClassifier(n_neighbors=10)</pre><b>In a Jupyter environment, please rerun this cell to show the HTML representation or trust the notebook. <br />On GitHub, the HTML representation is unable to render, please try loading this page with nbviewer.org.</b></div><div class=\"sk-container\" hidden><div class=\"sk-item\"><div class=\"sk-estimator sk-toggleable\"><input class=\"sk-toggleable__control sk-hidden--visually\" id=\"sk-estimator-id-12\" type=\"checkbox\" checked><label for=\"sk-estimator-id-12\" class=\"sk-toggleable__label sk-toggleable__label-arrow\">KNeighborsClassifier</label><div class=\"sk-toggleable__content\"><pre>KNeighborsClassifier(n_neighbors=10)</pre></div></div></div></div></div>"
      ],
      "text/plain": [
       "KNeighborsClassifier(n_neighbors=10)"
      ]
     },
     "execution_count": 140,
     "metadata": {},
     "output_type": "execute_result"
    }
   ],
   "source": [
    "knn.fit(x_train,y_train)"
   ]
  },
  {
   "cell_type": "code",
   "execution_count": 141,
   "id": "3dfae92c",
   "metadata": {},
   "outputs": [
    {
     "data": {
      "text/plain": [
       "0.9009392309544835"
      ]
     },
     "execution_count": 141,
     "metadata": {},
     "output_type": "execute_result"
    }
   ],
   "source": [
    "knn.score(x_test,y_test)"
   ]
  },
  {
   "cell_type": "code",
   "execution_count": 142,
   "id": "68e53c54",
   "metadata": {},
   "outputs": [
    {
     "name": "stdout",
     "output_type": "stream",
     "text": [
      "Accuracy (Naive Bayes): 0.9009392309544835\n",
      "Classification Report (Naive Bayes):\n",
      "              precision    recall  f1-score   support\n",
      "\n",
      "         0.0       0.90      0.91      0.90      6322\n",
      "         1.0       0.90      0.90      0.90      6135\n",
      "\n",
      "    accuracy                           0.90     12457\n",
      "   macro avg       0.90      0.90      0.90     12457\n",
      "weighted avg       0.90      0.90      0.90     12457\n",
      "\n"
     ]
    }
   ],
   "source": [
    "y_pred_knn= knn.predict(x_test)\n",
    "\n",
    "accuracy_knn = accuracy_score(y_test, y_pred_knn)\n",
    "print(\"Accuracy (Naive Bayes):\", accuracy_knn)\n",
    "print(\"Classification Report (Naive Bayes):\")\n",
    "print(classification_report(y_test, y_pred))"
   ]
  },
  {
   "cell_type": "code",
   "execution_count": 143,
   "id": "8ca30b43",
   "metadata": {},
   "outputs": [
    {
     "name": "stdout",
     "output_type": "stream",
     "text": [
      "confussion matrix\n",
      "[[5886  436]\n",
      " [ 798 5337]]\n",
      "\n",
      "\n",
      "Accuracy of K-NeighborsClassifier: 90.09392309544835 \n",
      "\n",
      "              precision    recall  f1-score   support\n",
      "\n",
      "         0.0       0.88      0.93      0.91      6322\n",
      "         1.0       0.92      0.87      0.90      6135\n",
      "\n",
      "    accuracy                           0.90     12457\n",
      "   macro avg       0.90      0.90      0.90     12457\n",
      "weighted avg       0.90      0.90      0.90     12457\n",
      "\n"
     ]
    }
   ],
   "source": [
    "m5 = 'K-NeighborsClassifier'\n",
    "knn = KNeighborsClassifier(n_neighbors=10)\n",
    "knn.fit(x_train, y_train)\n",
    "knn_predicted = knn.predict(x_test)\n",
    "knn_conf_matrix = confusion_matrix(y_test, knn_predicted)\n",
    "knn_acc_score = accuracy_score(y_test, knn_predicted)\n",
    "print(\"confussion matrix\")\n",
    "print(knn_conf_matrix)\n",
    "print(\"\\n\")\n",
    "print(\"Accuracy of K-NeighborsClassifier:\",knn_acc_score*100,'\\n')\n",
    "print(classification_report(y_test,knn_predicted))"
   ]
  },
  {
   "cell_type": "markdown",
   "id": "ebbe61a3",
   "metadata": {},
   "source": [
    "# AUC- ROC Curve and AUC- ROC Score"
   ]
  },
  {
   "cell_type": "code",
   "execution_count": 144,
   "id": "1ed5eb7e",
   "metadata": {},
   "outputs": [
    {
     "data": {
      "image/png": "[encoded data removed]",
      "text/plain": [
       "<Figure size 640x480 with 1 Axes>"
      ]
     },
     "metadata": {},
     "output_type": "display_data"
    }
   ],
   "source": [
    "roc_c = knn.predict_proba(x_train)[:,1]\n",
    "\n",
    "fpr,tpr,threshold = metrics.roc_curve(y_train,roc_c)\n",
    "plt.plot([0,1],[0,1],\"k--\")\n",
    "plt.plot(fpr,tpr,label= \"K- NN\")\n",
    "plt.show()"
   ]
  },
  {
   "cell_type": "code",
   "execution_count": 145,
   "id": "fa67f414",
   "metadata": {},
   "outputs": [
    {
     "data": {
      "text/plain": [
       "0.9560619051648754"
      ]
     },
     "execution_count": 145,
     "metadata": {},
     "output_type": "execute_result"
    }
   ],
   "source": [
    "metrics.roc_auc_score(y_train,roc_c)"
   ]
  },
  {
   "cell_type": "code",
   "execution_count": 146,
   "id": "8721e25d",
   "metadata": {},
   "outputs": [
    {
     "data": {
      "image/png": "[encoded data removed]",
      "text/plain": [
       "<Figure size 640x480 with 1 Axes>"
      ]
     },
     "metadata": {},
     "output_type": "display_data"
    }
   ],
   "source": [
    "rocc_c = knn.predict_proba(x_test)[:,1]\n",
    "\n",
    "fpr,tpr,threshold = metrics.roc_curve(y_test,rocc_c)\n",
    "plt.plot([0,1],[0,1],\"k--\")\n",
    "plt.plot(fpr,tpr,label= \"K-NN\")\n",
    "plt.show()"
   ]
  },
  {
   "cell_type": "code",
   "execution_count": 147,
   "id": "931e973d",
   "metadata": {},
   "outputs": [
    {
     "data": {
      "text/plain": [
       "0.9555544254072466"
      ]
     },
     "execution_count": 147,
     "metadata": {},
     "output_type": "execute_result"
    }
   ],
   "source": [
    "metrics.roc_auc_score(y_test,rocc_c)"
   ]
  },
  {
   "cell_type": "markdown",
   "id": "7f0de9ec",
   "metadata": {},
   "source": [
    "# Confusion Matrix"
   ]
  },
  {
   "cell_type": "code",
   "execution_count": 148,
   "id": "a1a26e08",
   "metadata": {},
   "outputs": [
    {
     "data": {
      "image/png": "[encoded data removed]",
      "text/plain": [
       "<Figure size 1500x600 with 2 Axes>"
      ]
     },
     "metadata": {},
     "output_type": "display_data"
    }
   ],
   "source": [
    "cm = confusion_matrix(y_test,y_pred_knn)\n",
    "\n",
    "plt.figure(figsize=(15,6))\n",
    "sns.heatmap(data=cm, linewidth=.5, annot=True, fmt=\"g\", cmap=\"Set1\")\n",
    "plt.title(\"Model Evaluation using Confusion Matrix\",fontsize=20,pad=20,fontweight=\"black\")\n",
    "plt.ylabel(\"Actual Labels\")\n",
    "plt.xlabel(\"Predicted Labels\")\n",
    "plt.show()"
   ]
  },
  {
   "cell_type": "markdown",
   "id": "e5abd693",
   "metadata": {},
   "source": [
    "# GridSearchCV"
   ]
  },
  {
   "cell_type": "code",
   "execution_count": 149,
   "id": "b4a90e16",
   "metadata": {},
   "outputs": [
    {
     "name": "stdout",
     "output_type": "stream",
     "text": [
      "Fitting 5 folds for each of 80 candidates, totalling 400 fits\n",
      "Best Parameters:  {'n_neighbors': 19, 'p': 1, 'weights': 'uniform'}\n",
      "Best Accuracy:  0.8815262718265927\n"
     ]
    }
   ],
   "source": [
    "# Define the hyperparameters to search through\n",
    "param_grid = {\n",
    "    'n_neighbors': np.arange(1, 21),  # Number of neighbors to consider\n",
    "    'weights': ['uniform', 'distance'],  # Weighting type\n",
    "    'p': [1, 2]  # Distance metric (1 for Manhattan, 2 for Euclidean)\n",
    "}\n",
    "# Create a GridSearchCV object\n",
    "grid_search = GridSearchCV(estimator=knn, param_grid=param_grid, cv=5, n_jobs=-1, verbose=1)\n",
    "\n",
    "# Perform the grid search\n",
    "grid_search.fit(x, y)\n",
    "\n",
    "# Print the best hyperparameters and corresponding accuracy\n",
    "print(\"Best Parameters: \", grid_search.best_params_)\n",
    "print(\"Best Accuracy: \", grid_search.best_score_)"
   ]
  },
  {
   "cell_type": "code",
   "execution_count": null,
   "id": "6ef13d7c",
   "metadata": {},
   "outputs": [],
   "source": []
  }
 ],
 "metadata": {
  "kernelspec": {
   "display_name": "Python 3 (ipykernel)",
   "language": "python",
   "name": "python3"
  },
  "language_info": {
   "codemirror_mode": {
    "name": "ipython",
    "version": 3
   },
   "file_extension": ".py",
   "mimetype": "text/x-python",
   "name": "python",
   "nbconvert_exporter": "python",
   "pygments_lexer": "ipython3",
   "version": "3.11.3"
  }
 },
 "nbformat": 4,
 "nbformat_minor": 5
}
